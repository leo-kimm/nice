{
 "cells": [
  {
   "cell_type": "code",
   "execution_count": 1,
   "metadata": {},
   "outputs": [],
   "source": [
    "import pandas as pd\n",
    "import numpy as np\n",
    "import matplotlib.pyplot as plt\n",
    "import seaborn as sns\n",
    "from scipy import signal\n",
    "from tqdm import tqdm\n",
    "from numpy.fft import fft, fftshift\n",
    "import matplotlib.pyplot as plt\n",
    "import seaborn as sns\n",
    "import random\n",
    "import warnings\n",
    "warnings.filterwarnings(action='ignore')\n"
   ]
  },
  {
   "cell_type": "markdown",
   "metadata": {},
   "source": [
    "#### Data loading"
   ]
  },
  {
   "cell_type": "code",
   "execution_count": 2,
   "metadata": {},
   "outputs": [],
   "source": [
    "train=pd.read_csv('./train_features.csv')\n",
    "train_labels=pd.read_csv('./train_labels.csv')\n",
    "test=pd.read_csv('./test_features.csv')\n",
    "\n",
    "submission=pd.read_csv('./sample_submission.csv')\n",
    "\n",
    "pd.options.display.max_columns=50"
   ]
  },
  {
   "cell_type": "code",
   "execution_count": 3,
   "metadata": {},
   "outputs": [
    {
     "data": {
      "text/html": [
       "<div>\n",
       "<style scoped>\n",
       "    .dataframe tbody tr th:only-of-type {\n",
       "        vertical-align: middle;\n",
       "    }\n",
       "\n",
       "    .dataframe tbody tr th {\n",
       "        vertical-align: top;\n",
       "    }\n",
       "\n",
       "    .dataframe thead th {\n",
       "        text-align: right;\n",
       "    }\n",
       "</style>\n",
       "<table border=\"1\" class=\"dataframe\">\n",
       "  <thead>\n",
       "    <tr style=\"text-align: right;\">\n",
       "      <th></th>\n",
       "      <th>id</th>\n",
       "      <th>time</th>\n",
       "      <th>acc_x</th>\n",
       "      <th>acc_y</th>\n",
       "      <th>acc_z</th>\n",
       "      <th>gy_x</th>\n",
       "      <th>gy_y</th>\n",
       "      <th>gy_z</th>\n",
       "    </tr>\n",
       "  </thead>\n",
       "  <tbody>\n",
       "    <tr>\n",
       "      <th>0</th>\n",
       "      <td>3125</td>\n",
       "      <td>0</td>\n",
       "      <td>-0.628100</td>\n",
       "      <td>-0.160155</td>\n",
       "      <td>0.151487</td>\n",
       "      <td>49.665357</td>\n",
       "      <td>88.435961</td>\n",
       "      <td>13.597668</td>\n",
       "    </tr>\n",
       "    <tr>\n",
       "      <th>1</th>\n",
       "      <td>3125</td>\n",
       "      <td>1</td>\n",
       "      <td>-0.462548</td>\n",
       "      <td>0.012462</td>\n",
       "      <td>-0.053726</td>\n",
       "      <td>56.953059</td>\n",
       "      <td>96.185341</td>\n",
       "      <td>16.278458</td>\n",
       "    </tr>\n",
       "    <tr>\n",
       "      <th>2</th>\n",
       "      <td>3125</td>\n",
       "      <td>2</td>\n",
       "      <td>-0.363481</td>\n",
       "      <td>-0.091789</td>\n",
       "      <td>-0.130004</td>\n",
       "      <td>29.557396</td>\n",
       "      <td>93.836453</td>\n",
       "      <td>13.329043</td>\n",
       "    </tr>\n",
       "    <tr>\n",
       "      <th>3</th>\n",
       "      <td>3125</td>\n",
       "      <td>3</td>\n",
       "      <td>-0.351750</td>\n",
       "      <td>-0.239870</td>\n",
       "      <td>-0.193053</td>\n",
       "      <td>23.686172</td>\n",
       "      <td>88.608721</td>\n",
       "      <td>13.449771</td>\n",
       "    </tr>\n",
       "    <tr>\n",
       "      <th>4</th>\n",
       "      <td>3125</td>\n",
       "      <td>4</td>\n",
       "      <td>-0.312934</td>\n",
       "      <td>-0.123762</td>\n",
       "      <td>-0.318621</td>\n",
       "      <td>20.410071</td>\n",
       "      <td>85.327707</td>\n",
       "      <td>13.884912</td>\n",
       "    </tr>\n",
       "    <tr>\n",
       "      <th>...</th>\n",
       "      <td>...</td>\n",
       "      <td>...</td>\n",
       "      <td>...</td>\n",
       "      <td>...</td>\n",
       "      <td>...</td>\n",
       "      <td>...</td>\n",
       "      <td>...</td>\n",
       "      <td>...</td>\n",
       "    </tr>\n",
       "    <tr>\n",
       "      <th>469195</th>\n",
       "      <td>3906</td>\n",
       "      <td>595</td>\n",
       "      <td>0.104191</td>\n",
       "      <td>-0.784979</td>\n",
       "      <td>0.639513</td>\n",
       "      <td>-10.475346</td>\n",
       "      <td>14.095361</td>\n",
       "      <td>-190.358982</td>\n",
       "    </tr>\n",
       "    <tr>\n",
       "      <th>469196</th>\n",
       "      <td>3906</td>\n",
       "      <td>596</td>\n",
       "      <td>0.103297</td>\n",
       "      <td>-0.758954</td>\n",
       "      <td>0.615687</td>\n",
       "      <td>-25.360272</td>\n",
       "      <td>-8.523018</td>\n",
       "      <td>-180.393291</td>\n",
       "    </tr>\n",
       "    <tr>\n",
       "      <th>469197</th>\n",
       "      <td>3906</td>\n",
       "      <td>597</td>\n",
       "      <td>0.128294</td>\n",
       "      <td>-0.749389</td>\n",
       "      <td>0.586184</td>\n",
       "      <td>-27.917723</td>\n",
       "      <td>-23.186245</td>\n",
       "      <td>-162.624160</td>\n",
       "    </tr>\n",
       "    <tr>\n",
       "      <th>469198</th>\n",
       "      <td>3906</td>\n",
       "      <td>598</td>\n",
       "      <td>0.104130</td>\n",
       "      <td>-0.692731</td>\n",
       "      <td>0.573397</td>\n",
       "      <td>-27.847980</td>\n",
       "      <td>-30.407555</td>\n",
       "      <td>-138.761676</td>\n",
       "    </tr>\n",
       "    <tr>\n",
       "      <th>469199</th>\n",
       "      <td>3906</td>\n",
       "      <td>599</td>\n",
       "      <td>0.059299</td>\n",
       "      <td>-0.613487</td>\n",
       "      <td>0.556780</td>\n",
       "      <td>-29.900725</td>\n",
       "      <td>-36.586219</td>\n",
       "      <td>-116.423810</td>\n",
       "    </tr>\n",
       "  </tbody>\n",
       "</table>\n",
       "<p>469200 rows × 8 columns</p>\n",
       "</div>"
      ],
      "text/plain": [
       "          id  time     acc_x     acc_y     acc_z       gy_x       gy_y  \\\n",
       "0       3125     0 -0.628100 -0.160155  0.151487  49.665357  88.435961   \n",
       "1       3125     1 -0.462548  0.012462 -0.053726  56.953059  96.185341   \n",
       "2       3125     2 -0.363481 -0.091789 -0.130004  29.557396  93.836453   \n",
       "3       3125     3 -0.351750 -0.239870 -0.193053  23.686172  88.608721   \n",
       "4       3125     4 -0.312934 -0.123762 -0.318621  20.410071  85.327707   \n",
       "...      ...   ...       ...       ...       ...        ...        ...   \n",
       "469195  3906   595  0.104191 -0.784979  0.639513 -10.475346  14.095361   \n",
       "469196  3906   596  0.103297 -0.758954  0.615687 -25.360272  -8.523018   \n",
       "469197  3906   597  0.128294 -0.749389  0.586184 -27.917723 -23.186245   \n",
       "469198  3906   598  0.104130 -0.692731  0.573397 -27.847980 -30.407555   \n",
       "469199  3906   599  0.059299 -0.613487  0.556780 -29.900725 -36.586219   \n",
       "\n",
       "              gy_z  \n",
       "0        13.597668  \n",
       "1        16.278458  \n",
       "2        13.329043  \n",
       "3        13.449771  \n",
       "4        13.884912  \n",
       "...            ...  \n",
       "469195 -190.358982  \n",
       "469196 -180.393291  \n",
       "469197 -162.624160  \n",
       "469198 -138.761676  \n",
       "469199 -116.423810  \n",
       "\n",
       "[469200 rows x 8 columns]"
      ]
     },
     "execution_count": 3,
     "metadata": {},
     "output_type": "execute_result"
    }
   ],
   "source": [
    "test"
   ]
  },
  {
   "cell_type": "markdown",
   "metadata": {},
   "source": [
    "#### Feature engneering"
   ]
  },
  {
   "cell_type": "markdown",
   "metadata": {},
   "source": [
    "#####  가속도, 자이로, (자이로-가속도) 센서값을 에너지로 표현"
   ]
  },
  {
   "cell_type": "code",
   "execution_count": 4,
   "metadata": {},
   "outputs": [],
   "source": [
    "train['acc_Energy']=(train['acc_x']**2+train['acc_y']**2+train['acc_z']**2)**(1/3)\n",
    "test['acc_Energy']=(test['acc_x']**2+test['acc_y']**2+test['acc_z']**2)**(1/3)\n",
    "\n",
    "train['gy_Energy']=(train['gy_x']**2+train['gy_y']**2+train['gy_z']**2)**(1/3)\n",
    "test['gy_Energy']=(test['gy_x']**2+test['gy_y']**2+test['gy_z']**2)**(1/3)\n",
    "\n",
    "train['gy_acc_Energy']=((train['gy_x']-train['acc_x'])**2+(train['gy_y']-train['acc_y'])**2+(train['gy_z']-train['acc_z'])**2)**(1/3)\n",
    "test['gy_acc_Energy']=((test['gy_x']-test['acc_x'])**2+(test['gy_y']-test['acc_y'])**2+(test['gy_z']-test['acc_z'])**2)**(1/3)"
   ]
  },
  {
   "cell_type": "markdown",
   "metadata": {},
   "source": [
    "###### id별 데이터는 0.02초마다 측정된 값들이기 때문에 이전 시간 대비 변화량 적용"
   ]
  },
  {
   "cell_type": "code",
   "execution_count": null,
   "metadata": {},
   "outputs": [],
   "source": []
  },
  {
   "cell_type": "markdown",
   "metadata": {},
   "source": [
    "##### Standard scaling 적용\n"
   ]
  },
  {
   "cell_type": "code",
   "execution_count": 38,
   "metadata": {},
   "outputs": [],
   "source": [
    "col=train.columns\n",
    "train_s=train.copy()\n",
    "test_s=test.copy()"
   ]
  },
  {
   "cell_type": "code",
   "execution_count": 39,
   "metadata": {},
   "outputs": [],
   "source": [
    "from sklearn.preprocessing import StandardScaler,MinMaxScaler\n",
    "\n",
    "scaler = StandardScaler()\n",
    "\n",
    "train_s.iloc[:,2:]= scaler.fit_transform(train_s.iloc[:,2:])\n",
    "train_sc = pd.DataFrame(data = train_s,columns =col)\n",
    "\n",
    "test_s.iloc[:,2:]= scaler.transform(test_s.iloc[:,2:])\n",
    "test_sc = pd.DataFrame(data = test_s,columns =col)"
   ]
  },
  {
   "cell_type": "code",
   "execution_count": 40,
   "metadata": {},
   "outputs": [
    {
     "name": "stderr",
     "output_type": "stream",
     "text": [
      "100%|██████████| 3125/3125 [00:06<00:00, 484.81it/s]\n",
      "100%|██████████| 782/782 [00:00<00:00, 1005.24it/s]\n"
     ]
    }
   ],
   "source": [
    "x_train = []\n",
    "\n",
    "for uid in tqdm(train_sc['id'].unique()):\n",
    "    temp = np.array(train_sc[train_sc['id'] == uid].iloc[:,2:], np.float32).T\n",
    "    x_train.append(temp)\n",
    "\n",
    "x_train = np.array(x_train, np.float32)\n",
    "x_train = x_train[:,:,:,np.newaxis]\n",
    "\n",
    "x_test = []\n",
    "\n",
    "for uid in tqdm(test_sc['id'].unique()):\n",
    "    temp = np.array(test_s[test_sc['id'] == uid].iloc[:,2:], np.float32).T\n",
    "    x_test.append(temp)\n",
    "\n",
    "x_test = np.array(x_test, np.float32)\n",
    "x_test = x_test[:,:,:,np.newaxis]"
   ]
  },
  {
   "cell_type": "code",
   "execution_count": 7,
   "metadata": {},
   "outputs": [
    {
     "data": {
      "text/html": [
       "<div>\n",
       "<style scoped>\n",
       "    .dataframe tbody tr th:only-of-type {\n",
       "        vertical-align: middle;\n",
       "    }\n",
       "\n",
       "    .dataframe tbody tr th {\n",
       "        vertical-align: top;\n",
       "    }\n",
       "\n",
       "    .dataframe thead th {\n",
       "        text-align: right;\n",
       "    }\n",
       "</style>\n",
       "<table border=\"1\" class=\"dataframe\">\n",
       "  <thead>\n",
       "    <tr style=\"text-align: right;\">\n",
       "      <th></th>\n",
       "      <th>id</th>\n",
       "      <th>time</th>\n",
       "      <th>acc_x</th>\n",
       "      <th>acc_y</th>\n",
       "      <th>acc_z</th>\n",
       "      <th>gy_x</th>\n",
       "      <th>gy_y</th>\n",
       "      <th>gy_z</th>\n",
       "      <th>acc_Energy</th>\n",
       "      <th>gy_Energy</th>\n",
       "      <th>gy_acc_Energy</th>\n",
       "    </tr>\n",
       "  </thead>\n",
       "  <tbody>\n",
       "    <tr>\n",
       "      <th>0</th>\n",
       "      <td>0</td>\n",
       "      <td>0</td>\n",
       "      <td>2.307314</td>\n",
       "      <td>-0.029939</td>\n",
       "      <td>-0.432104</td>\n",
       "      <td>0.011776</td>\n",
       "      <td>-0.410859</td>\n",
       "      <td>-0.461007</td>\n",
       "      <td>0.495681</td>\n",
       "      <td>-0.272719</td>\n",
       "      <td>-0.276391</td>\n",
       "    </tr>\n",
       "    <tr>\n",
       "      <th>1</th>\n",
       "      <td>0</td>\n",
       "      <td>1</td>\n",
       "      <td>2.421086</td>\n",
       "      <td>-0.063321</td>\n",
       "      <td>-0.504058</td>\n",
       "      <td>0.026484</td>\n",
       "      <td>-0.528052</td>\n",
       "      <td>-0.365459</td>\n",
       "      <td>0.742974</td>\n",
       "      <td>-0.236152</td>\n",
       "      <td>-0.240632</td>\n",
       "    </tr>\n",
       "    <tr>\n",
       "      <th>2</th>\n",
       "      <td>0</td>\n",
       "      <td>2</td>\n",
       "      <td>2.444664</td>\n",
       "      <td>-0.056749</td>\n",
       "      <td>-0.654199</td>\n",
       "      <td>-0.037962</td>\n",
       "      <td>-0.596041</td>\n",
       "      <td>-0.366767</td>\n",
       "      <td>0.819822</td>\n",
       "      <td>-0.169815</td>\n",
       "      <td>-0.173080</td>\n",
       "    </tr>\n",
       "    <tr>\n",
       "      <th>3</th>\n",
       "      <td>0</td>\n",
       "      <td>3</td>\n",
       "      <td>2.428612</td>\n",
       "      <td>-0.116782</td>\n",
       "      <td>-0.573407</td>\n",
       "      <td>0.066099</td>\n",
       "      <td>-0.725311</td>\n",
       "      <td>-0.401232</td>\n",
       "      <td>0.785669</td>\n",
       "      <td>-0.035229</td>\n",
       "      <td>-0.040560</td>\n",
       "    </tr>\n",
       "    <tr>\n",
       "      <th>4</th>\n",
       "      <td>0</td>\n",
       "      <td>4</td>\n",
       "      <td>2.439475</td>\n",
       "      <td>-0.044220</td>\n",
       "      <td>-0.588886</td>\n",
       "      <td>0.091969</td>\n",
       "      <td>-0.784094</td>\n",
       "      <td>-0.408413</td>\n",
       "      <td>0.791528</td>\n",
       "      <td>0.021954</td>\n",
       "      <td>0.016872</td>\n",
       "    </tr>\n",
       "    <tr>\n",
       "      <th>...</th>\n",
       "      <td>...</td>\n",
       "      <td>...</td>\n",
       "      <td>...</td>\n",
       "      <td>...</td>\n",
       "      <td>...</td>\n",
       "      <td>...</td>\n",
       "      <td>...</td>\n",
       "      <td>...</td>\n",
       "      <td>...</td>\n",
       "      <td>...</td>\n",
       "      <td>...</td>\n",
       "    </tr>\n",
       "    <tr>\n",
       "      <th>1874995</th>\n",
       "      <td>3124</td>\n",
       "      <td>595</td>\n",
       "      <td>-0.367432</td>\n",
       "      <td>-0.845648</td>\n",
       "      <td>0.503707</td>\n",
       "      <td>-0.461266</td>\n",
       "      <td>-1.413128</td>\n",
       "      <td>-1.092639</td>\n",
       "      <td>-0.138940</td>\n",
       "      <td>0.829394</td>\n",
       "      <td>0.823900</td>\n",
       "    </tr>\n",
       "    <tr>\n",
       "      <th>1874996</th>\n",
       "      <td>3124</td>\n",
       "      <td>596</td>\n",
       "      <td>-0.326315</td>\n",
       "      <td>-0.845833</td>\n",
       "      <td>0.578875</td>\n",
       "      <td>-0.474109</td>\n",
       "      <td>-1.382884</td>\n",
       "      <td>-1.097377</td>\n",
       "      <td>-0.167578</td>\n",
       "      <td>0.814816</td>\n",
       "      <td>0.809618</td>\n",
       "    </tr>\n",
       "    <tr>\n",
       "      <th>1874997</th>\n",
       "      <td>3124</td>\n",
       "      <td>597</td>\n",
       "      <td>-0.300794</td>\n",
       "      <td>-0.859728</td>\n",
       "      <td>0.652722</td>\n",
       "      <td>-0.436694</td>\n",
       "      <td>-1.341672</td>\n",
       "      <td>-1.136169</td>\n",
       "      <td>-0.151875</td>\n",
       "      <td>0.802027</td>\n",
       "      <td>0.797338</td>\n",
       "    </tr>\n",
       "    <tr>\n",
       "      <th>1874998</th>\n",
       "      <td>3124</td>\n",
       "      <td>598</td>\n",
       "      <td>-0.253120</td>\n",
       "      <td>-0.886873</td>\n",
       "      <td>0.673002</td>\n",
       "      <td>-0.367051</td>\n",
       "      <td>-1.346630</td>\n",
       "      <td>-1.148831</td>\n",
       "      <td>-0.175811</td>\n",
       "      <td>0.801880</td>\n",
       "      <td>0.797431</td>\n",
       "    </tr>\n",
       "    <tr>\n",
       "      <th>1874999</th>\n",
       "      <td>3124</td>\n",
       "      <td>599</td>\n",
       "      <td>-0.180373</td>\n",
       "      <td>-0.916966</td>\n",
       "      <td>0.695634</td>\n",
       "      <td>-0.273040</td>\n",
       "      <td>-1.360851</td>\n",
       "      <td>-1.154731</td>\n",
       "      <td>-0.223043</td>\n",
       "      <td>0.803421</td>\n",
       "      <td>0.799233</td>\n",
       "    </tr>\n",
       "  </tbody>\n",
       "</table>\n",
       "<p>1875000 rows × 11 columns</p>\n",
       "</div>"
      ],
      "text/plain": [
       "           id  time     acc_x     acc_y     acc_z      gy_x      gy_y  \\\n",
       "0           0     0  2.307314 -0.029939 -0.432104  0.011776 -0.410859   \n",
       "1           0     1  2.421086 -0.063321 -0.504058  0.026484 -0.528052   \n",
       "2           0     2  2.444664 -0.056749 -0.654199 -0.037962 -0.596041   \n",
       "3           0     3  2.428612 -0.116782 -0.573407  0.066099 -0.725311   \n",
       "4           0     4  2.439475 -0.044220 -0.588886  0.091969 -0.784094   \n",
       "...       ...   ...       ...       ...       ...       ...       ...   \n",
       "1874995  3124   595 -0.367432 -0.845648  0.503707 -0.461266 -1.413128   \n",
       "1874996  3124   596 -0.326315 -0.845833  0.578875 -0.474109 -1.382884   \n",
       "1874997  3124   597 -0.300794 -0.859728  0.652722 -0.436694 -1.341672   \n",
       "1874998  3124   598 -0.253120 -0.886873  0.673002 -0.367051 -1.346630   \n",
       "1874999  3124   599 -0.180373 -0.916966  0.695634 -0.273040 -1.360851   \n",
       "\n",
       "             gy_z  acc_Energy  gy_Energy  gy_acc_Energy  \n",
       "0       -0.461007    0.495681  -0.272719      -0.276391  \n",
       "1       -0.365459    0.742974  -0.236152      -0.240632  \n",
       "2       -0.366767    0.819822  -0.169815      -0.173080  \n",
       "3       -0.401232    0.785669  -0.035229      -0.040560  \n",
       "4       -0.408413    0.791528   0.021954       0.016872  \n",
       "...           ...         ...        ...            ...  \n",
       "1874995 -1.092639   -0.138940   0.829394       0.823900  \n",
       "1874996 -1.097377   -0.167578   0.814816       0.809618  \n",
       "1874997 -1.136169   -0.151875   0.802027       0.797338  \n",
       "1874998 -1.148831   -0.175811   0.801880       0.797431  \n",
       "1874999 -1.154731   -0.223043   0.803421       0.799233  \n",
       "\n",
       "[1875000 rows x 11 columns]"
      ]
     },
     "execution_count": 7,
     "metadata": {},
     "output_type": "execute_result"
    }
   ],
   "source": [
    "train_sc"
   ]
  },
  {
   "cell_type": "markdown",
   "metadata": {},
   "source": [
    "##### 모델링\n",
    "\n",
    "+ CNN, LSTM, CNN+LSTM 등 여러 구조 적용해보다가 CNN에서 Flatten 없이 Global average pooling 한 구조가 가장 성능이 좋아 채택했습니다.\n"
   ]
  },
  {
   "cell_type": "code",
   "execution_count": 85,
   "metadata": {},
   "outputs": [],
   "source": [
    "import tensorflow as tf\n",
    "import tensorflow.keras as keras\n",
    "import tensorflow_addons as tfa\n",
    "from tensorflow.keras.models import Sequential\n",
    "from keras.layers import Dense, LSTM,Bidirectional,Dropout\n",
    "from keras.layers import Dense\n",
    "from keras.layers import Dropout\n",
    "from keras.layers import LSTM\n",
    "from keras.layers.convolutional import Conv1D\n",
    "from keras.layers.convolutional import MaxPooling1D\n",
    "from tensorflow.keras.utils import to_categorical\n",
    "from keras.callbacks import EarlyStopping, ModelCheckpoint,ReduceLROnPlateau\n",
    "from sklearn.model_selection import KFold,StratifiedKFold\n",
    "from numpy.random import seed\n",
    "from tensorflow.keras.layers import Activation, Conv2D, MaxPooling2D, Flatten, GlobalAveragePooling1D\n",
    "from tensorflow.keras import layers\n",
    "from tensorflow.keras.layers import Dense, Dropout, BatchNormalization"
   ]
  },
  {
   "cell_type": "code",
   "execution_count": 42,
   "metadata": {},
   "outputs": [
    {
     "data": {
      "text/plain": [
       "(3125, 600, 9)"
      ]
     },
     "execution_count": 42,
     "metadata": {},
     "output_type": "execute_result"
    }
   ],
   "source": [
    "X=x_train.reshape(3125, 600, -1)\n",
    "X.shape"
   ]
  },
  {
   "cell_type": "code",
   "execution_count": 43,
   "metadata": {},
   "outputs": [
    {
     "data": {
      "text/plain": [
       "(782, 600, 9)"
      ]
     },
     "execution_count": 43,
     "metadata": {},
     "output_type": "execute_result"
    }
   ],
   "source": [
    "test_x=x_test.reshape(782, 600, -1)\n",
    "test_x.shape"
   ]
  },
  {
   "cell_type": "code",
   "execution_count": 44,
   "metadata": {},
   "outputs": [
    {
     "data": {
      "text/plain": [
       "(3125, 61)"
      ]
     },
     "execution_count": 44,
     "metadata": {},
     "output_type": "execute_result"
    }
   ],
   "source": [
    "y = train_labels['label'].values\n",
    "y = tf.keras.utils.to_categorical(train_labels['label']) \n",
    "y.shape"
   ]
  },
  {
   "cell_type": "markdown",
   "metadata": {},
   "source": [
    "##### 모델 구조 "
   ]
  },
  {
   "cell_type": "code",
   "execution_count": 97,
   "metadata": {},
   "outputs": [
    {
     "name": "stdout",
     "output_type": "stream",
     "text": [
      "Model: \"sequential_25\"\n",
      "_________________________________________________________________\n",
      "Layer (type)                 Output Shape              Param #   \n",
      "=================================================================\n",
      "conv1d_60 (Conv1D)           (None, 600, 128)          10496     \n",
      "_________________________________________________________________\n",
      "max_pooling1d_25 (MaxPooling (None, 300, 128)          0         \n",
      "_________________________________________________________________\n",
      "conv1d_61 (Conv1D)           (None, 300, 256)          295168    \n",
      "_________________________________________________________________\n",
      "max_pooling1d_26 (MaxPooling (None, 150, 256)          0         \n",
      "_________________________________________________________________\n",
      "flatten_21 (Flatten)         (None, 38400)             0         \n",
      "_________________________________________________________________\n",
      "dense_71 (Dense)             (None, 64)                2457664   \n",
      "_________________________________________________________________\n",
      "dropout_24 (Dropout)         (None, 64)                0         \n",
      "_________________________________________________________________\n",
      "dense_72 (Dense)             (None, 128)               8320      \n",
      "_________________________________________________________________\n",
      "dropout_25 (Dropout)         (None, 128)               0         \n",
      "_________________________________________________________________\n",
      "dense_73 (Dense)             (None, 61)                7869      \n",
      "=================================================================\n",
      "Total params: 2,779,517\n",
      "Trainable params: 2,779,517\n",
      "Non-trainable params: 0\n",
      "_________________________________________________________________\n"
     ]
    }
   ],
   "source": [
    "\n",
    "model= keras.Sequential()\n",
    "model.add(Conv1D(filters=128, kernel_size=9, padding=\"same\",input_shape=X.shape[1:], activation=\"relu\"))\n",
    "model.add(MaxPooling1D())\n",
    "\n",
    "model.add(Conv1D(filters=256, kernel_size=9, padding=\"same\",input_shape=X.shape[1:], activation=\"relu\"))\n",
    "#model.add(GlobalAveragePooling1D())\n",
    "#model.add(Conv1D(filters=128, kernel_size=9, padding=\"same\",input_shape=X.shape[1:], activation=\"relu\"))\n",
    "model.add(MaxPooling1D())\n",
    "model.add(Flatten())\n",
    "model.add(Dense(64, activation=\"relu\"))\n",
    "model.add(Dropout(rate=0.2))\n",
    "model.add(Dense(128, activation=\"relu\"))\n",
    "model.add(Dropout(rate=0.1))\n",
    "\n",
    "\n",
    "#model.add(Dense(64, activation=\"relu\"))\n",
    "\n",
    "model.add(Dense(61, activation=\"softmax\"))\n",
    "model.compile(loss='categorical_crossentropy', optimizer = 'Adam', metrics='accuracy')\n",
    "model.summary()"
   ]
  },
  {
   "cell_type": "code",
   "execution_count": 98,
   "metadata": {},
   "outputs": [],
   "source": [
    "\n",
    "# seed(2021)\n",
    "# tf.random.set_seed(2021)\n",
    "\n",
    "# input_layer = keras.layers.Input(X.shape[1:])\n",
    "# conv1 = keras.layers.Conv1D(filters=128, kernel_size=9, padding='same')(input_layer)\n",
    "# conv1 = keras.layers.BatchNormalization()(conv1)\n",
    "# conv1 = keras.layers.Activation(activation='relu')(conv1)\n",
    "# conv1 = keras.layers.Dropout(rate=0.3)(conv1)\n",
    "\n",
    "# conv2 = keras.layers.Conv1D(filters=256, kernel_size=6, padding='same')(conv1)\n",
    "# conv2 = keras.layers.BatchNormalization()(conv2)\n",
    "# conv2 = keras.layers.Activation('relu')(conv2)\n",
    "# conv2 = keras.layers.Dropout(rate=0.4)(conv2)\n",
    "\n",
    "# conv3 = keras.layers.Conv1D(128, kernel_size=3,padding='same')(conv2)\n",
    "# conv3 = keras.layers.BatchNormalization()(conv3)\n",
    "# conv3 = keras.layers.Activation('relu')(conv3)\n",
    "# conv3 = keras.layers.Dropout(rate=0.5)(conv3)\n",
    "\n",
    "# gap = keras.layers.GlobalAveragePooling1D()(conv3)\n",
    "\n",
    "# output_layer = keras.layers.Dense(61, activation='softmax')(gap)\n",
    "\n",
    "# model = keras.models.Model(inputs=input_layer, outputs=output_layer)\n",
    "\n",
    "# model.compile(loss='categorical_crossentropy', optimizer = 'Adam', metrics='accuracy')\n",
    "# model.summary()"
   ]
  },
  {
   "cell_type": "markdown",
   "metadata": {},
   "source": [
    "##### 10-fold StratifiedKFold"
   ]
  },
  {
   "cell_type": "code",
   "execution_count": 99,
   "metadata": {
    "jupyter": {
     "outputs_hidden": true
    },
    "scrolled": true
   },
   "outputs": [
    {
     "name": "stdout",
     "output_type": "stream",
     "text": [
      "Epoch 1/20\n",
      "50/50 [==============================] - 2s 31ms/step - loss: 2.6537 - accuracy: 0.4748 - val_loss: 2.0748 - val_accuracy: 0.5408\n",
      "Epoch 2/20\n",
      "50/50 [==============================] - 1s 22ms/step - loss: 1.9951 - accuracy: 0.5312 - val_loss: 1.6621 - val_accuracy: 0.5904\n",
      "Epoch 3/20\n",
      "50/50 [==============================] - 1s 21ms/step - loss: 1.5908 - accuracy: 0.5856 - val_loss: 1.3908 - val_accuracy: 0.6272\n",
      "Epoch 4/20\n",
      "50/50 [==============================] - 1s 21ms/step - loss: 1.3750 - accuracy: 0.6208 - val_loss: 1.1803 - val_accuracy: 0.6736\n",
      "Epoch 5/20\n",
      "50/50 [==============================] - 1s 21ms/step - loss: 1.1791 - accuracy: 0.6532 - val_loss: 1.1483 - val_accuracy: 0.6928\n",
      "Epoch 6/20\n",
      "50/50 [==============================] - 1s 21ms/step - loss: 1.0890 - accuracy: 0.6812 - val_loss: 1.0923 - val_accuracy: 0.7120\n",
      "Epoch 7/20\n",
      "50/50 [==============================] - 1s 21ms/step - loss: 0.9529 - accuracy: 0.7132 - val_loss: 1.0802 - val_accuracy: 0.7184\n",
      "Epoch 8/20\n",
      "50/50 [==============================] - 1s 21ms/step - loss: 0.8631 - accuracy: 0.7308 - val_loss: 1.0216 - val_accuracy: 0.7408\n",
      "Epoch 9/20\n",
      "50/50 [==============================] - 1s 21ms/step - loss: 0.8077 - accuracy: 0.7416 - val_loss: 1.1533 - val_accuracy: 0.7200\n",
      "Epoch 10/20\n",
      "50/50 [==============================] - 1s 21ms/step - loss: 0.7501 - accuracy: 0.7680 - val_loss: 0.9936 - val_accuracy: 0.7376\n",
      "Epoch 11/20\n",
      "50/50 [==============================] - 1s 21ms/step - loss: 0.6680 - accuracy: 0.7868 - val_loss: 1.0555 - val_accuracy: 0.7264\n",
      "Epoch 12/20\n",
      "50/50 [==============================] - 1s 21ms/step - loss: 0.6130 - accuracy: 0.8016 - val_loss: 1.2003 - val_accuracy: 0.7392\n",
      "Epoch 13/20\n",
      "50/50 [==============================] - 1s 21ms/step - loss: 0.5827 - accuracy: 0.8132 - val_loss: 1.3208 - val_accuracy: 0.7312\n",
      "Epoch 14/20\n",
      "50/50 [==============================] - 1s 21ms/step - loss: 0.5550 - accuracy: 0.8164 - val_loss: 1.2537 - val_accuracy: 0.7408\n",
      "Epoch 15/20\n",
      "50/50 [==============================] - 1s 21ms/step - loss: 0.5216 - accuracy: 0.8260 - val_loss: 1.3506 - val_accuracy: 0.7344\n",
      "Epoch 16/20\n",
      "50/50 [==============================] - 1s 22ms/step - loss: 0.4927 - accuracy: 0.8380 - val_loss: 1.3498 - val_accuracy: 0.7392\n",
      "Epoch 17/20\n",
      "50/50 [==============================] - 1s 21ms/step - loss: 0.4225 - accuracy: 0.8620 - val_loss: 1.3980 - val_accuracy: 0.7360\n",
      "Epoch 18/20\n",
      "50/50 [==============================] - 1s 21ms/step - loss: 0.4709 - accuracy: 0.8416 - val_loss: 1.3290 - val_accuracy: 0.7312\n",
      "Epoch 19/20\n",
      "50/50 [==============================] - 1s 21ms/step - loss: 0.4728 - accuracy: 0.8504 - val_loss: 1.2039 - val_accuracy: 0.7376\n",
      "Epoch 20/20\n",
      "50/50 [==============================] - 1s 21ms/step - loss: 0.4110 - accuracy: 0.8652 - val_loss: 1.4440 - val_accuracy: 0.7408\n"
     ]
    }
   ],
   "source": [
    "skf = StratifiedKFold(n_splits = 10, random_state = 123, shuffle = True)\n",
    "reLR = ReduceLROnPlateau(patience = 4,verbose = 1,factor = 0.5) \n",
    "es =EarlyStopping(monitor='val_loss', patience=10, mode='min')\n",
    "\n",
    "\n",
    "\n",
    "history = model.fit(X, y, epochs = 20, verbose=1, batch_size=50, validation_split = 0.2, callbacks=[es])\n",
    "\n"
   ]
  },
  {
   "cell_type": "markdown",
   "metadata": {},
   "source": [
    "##### 성능 확인 및 제출"
   ]
  },
  {
   "cell_type": "code",
   "execution_count": 77,
   "metadata": {},
   "outputs": [
    {
     "name": "stdout",
     "output_type": "stream",
     "text": [
      "98/98 [==============================] - 1s 6ms/step - loss: 0.3938 - accuracy: 0.9338\n"
     ]
    },
    {
     "data": {
      "text/plain": [
       "[0.39376428723335266, 0.9337599873542786]"
      ]
     },
     "execution_count": 77,
     "metadata": {},
     "output_type": "execute_result"
    }
   ],
   "source": [
    "# 8. 모델 평가하기\n",
    "model.evaluate(X, y)"
   ]
  },
  {
   "cell_type": "code",
   "execution_count": 24,
   "metadata": {},
   "outputs": [
    {
     "data": {
      "text/plain": [
       "array([[3.8075394e-11, 1.7303596e-10, 2.0094484e-07, ..., 4.4933302e-04,\n",
       "        5.0326708e-13, 1.2513198e-07],\n",
       "       [1.2718278e-06, 6.7457272e-08, 2.8939953e-04, ..., 4.1956713e-07,\n",
       "        3.6857772e-09, 5.7481661e-06],\n",
       "       [1.2703393e-07, 7.9453453e-02, 9.1073087e-09, ..., 1.0891871e-09,\n",
       "        2.8230113e-07, 2.0938383e-07],\n",
       "       ...,\n",
       "       [1.1352619e-06, 9.8130197e-14, 4.0004866e-12, ..., 3.6267260e-09,\n",
       "        7.0663988e-13, 9.8872043e-08],\n",
       "       [6.8307534e-13, 4.3291916e-06, 3.7416913e-11, ..., 1.2720002e-15,\n",
       "        1.9023395e-05, 2.3071576e-13],\n",
       "       [7.1882671e-01, 1.7115992e-19, 9.0694845e-13, ..., 6.5695976e-11,\n",
       "        4.3299708e-16, 5.9858341e-02]], dtype=float32)"
      ]
     },
     "execution_count": 24,
     "metadata": {},
     "output_type": "execute_result"
    }
   ],
   "source": [
    "pred = model.predict(test_x)\n",
    "\n",
    "pred"
   ]
  },
  {
   "cell_type": "code",
   "execution_count": null,
   "metadata": {},
   "outputs": [],
   "source": [
    "submission=pd.read_csv('./data/sample_submission.csv')\n",
    "submission.iloc[:,1:]=pred\n",
    "submission"
   ]
  },
  {
   "cell_type": "code",
   "execution_count": null,
   "metadata": {},
   "outputs": [],
   "source": [
    "submission.to_csv('sub_kfold_stratified_10_adam_fft_0.5.csv',index=False)"
   ]
  },
  {
   "cell_type": "code",
   "execution_count": null,
   "metadata": {},
   "outputs": [],
   "source": []
  }
 ],
 "metadata": {
  "kernelspec": {
   "display_name": "py38_tensorflow",
   "language": "python",
   "name": "conda-env-py38_tensorflow-py"
  },
  "language_info": {
   "codemirror_mode": {
    "name": "ipython",
    "version": 3
   },
   "file_extension": ".py",
   "mimetype": "text/x-python",
   "name": "python",
   "nbconvert_exporter": "python",
   "pygments_lexer": "ipython3",
   "version": "3.8.10"
  }
 },
 "nbformat": 4,
 "nbformat_minor": 4
}
