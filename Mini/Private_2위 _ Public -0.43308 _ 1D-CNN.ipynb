{
 "cells": [
  {
   "cell_type": "code",
   "execution_count": 83,
   "metadata": {},
   "outputs": [],
   "source": [
    "import tensorflow as tf\n",
    "import tensorflow.keras as keras\n",
    "import pandas as pd\n",
    "import numpy as np\n",
    "import matplotlib.pyplot as plt\n",
    "import seaborn as sns\n",
    "from scipy import signal\n",
    "from tqdm import tqdm\n",
    "from numpy.fft import fft, fftshift\n",
    "import matplotlib.pyplot as plt\n",
    "import seaborn as sns\n",
    "import random\n",
    "from tqdm import tqdm\n",
    "import optuna\n",
    "from scipy.integrate import cumtrapz\n",
    "import warnings\n",
    "warnings.filterwarnings(action='ignore')\n"
   ]
  },
  {
   "cell_type": "markdown",
   "metadata": {},
   "source": [
    "#### Data loading"
   ]
  },
  {
   "cell_type": "code",
   "execution_count": 84,
   "metadata": {},
   "outputs": [],
   "source": [
    "train=pd.read_csv('./train_features.csv')\n",
    "train_labels=pd.read_csv('./train_labels.csv')\n",
    "test=pd.read_csv('./test_features.csv')\n",
    "\n",
    "submission=pd.read_csv('./sample_submission.csv')\n",
    "\n",
    "pd.options.display.max_columns=50"
   ]
  },
  {
   "cell_type": "code",
   "execution_count": 85,
   "metadata": {},
   "outputs": [
    {
     "data": {
      "text/plain": [
       "(1875000, 8)"
      ]
     },
     "execution_count": 85,
     "metadata": {},
     "output_type": "execute_result"
    }
   ],
   "source": [
    "train.shape"
   ]
  },
  {
   "cell_type": "markdown",
   "metadata": {},
   "source": [
    "#### Feature engneering"
   ]
  },
  {
   "cell_type": "code",
   "execution_count": 86,
   "metadata": {},
   "outputs": [
    {
     "name": "stderr",
     "output_type": "stream",
     "text": [
      "100%|██████████| 3125/3125 [00:06<00:00, 461.62it/s]\n",
      "100%|██████████| 782/782 [00:00<00:00, 963.49it/s]\n"
     ]
    }
   ],
   "source": [
    "x_train = []\n",
    "\n",
    "for uid in tqdm(train['id'].unique()):\n",
    "    temp = np.array(train[train['id'] == uid].iloc[:,2:], np.float32).T\n",
    "    x_train.append(temp)\n",
    "\n",
    "x_train = np.array(x_train, np.float32)\n",
    "x_train = x_train[:,:,:,np.newaxis]\n",
    "\n",
    "x_test = []\n",
    "\n",
    "for uid in tqdm(test['id'].unique()):\n",
    "    temp = np.array(test[test['id'] == uid].iloc[:,2:], np.float32).T\n",
    "    x_test.append(temp)\n",
    "\n",
    "x_test = np.array(x_test, np.float32)\n",
    "x_test = x_test[:,:,:,np.newaxis]"
   ]
  },
  {
   "cell_type": "code",
   "execution_count": 87,
   "metadata": {},
   "outputs": [
    {
     "data": {
      "text/plain": [
       "(3125, 6, 600, 1)"
      ]
     },
     "execution_count": 87,
     "metadata": {},
     "output_type": "execute_result"
    }
   ],
   "source": [
    "x_train.shape"
   ]
  },
  {
   "cell_type": "code",
   "execution_count": 88,
   "metadata": {},
   "outputs": [],
   "source": [
    "X=x_train.reshape(3125, 600, -1)"
   ]
  },
  {
   "cell_type": "code",
   "execution_count": 89,
   "metadata": {
    "scrolled": true
   },
   "outputs": [
    {
     "data": {
      "text/plain": [
       "(3125, 600, 6)"
      ]
     },
     "execution_count": 89,
     "metadata": {},
     "output_type": "execute_result"
    }
   ],
   "source": [
    "X.shape"
   ]
  },
  {
   "cell_type": "code",
   "execution_count": 90,
   "metadata": {
    "scrolled": true
   },
   "outputs": [
    {
     "data": {
      "text/plain": [
       "array([[[ 1.20608664e+00,  1.28769648e+00,  1.30460918e+00,\n",
       "          1.29309487e+00,  1.30088687e+00,  1.28930390e+00],\n",
       "        [ 1.28140545e+00,  1.24227333e+00,  1.19887137e+00,\n",
       "          1.11367714e+00,  1.19224143e+00,  1.23009431e+00],\n",
       "        [ 1.17520964e+00,  1.17025077e+00,  1.07527697e+00,\n",
       "          9.93865490e-01,  9.56588447e-01,  9.77357328e-01],\n",
       "        ...,\n",
       "        [ 1.99831734e+01,  2.08915806e+01,  1.97046967e+01,\n",
       "          2.17813911e+01,  1.78339272e+01,  1.67689190e+01],\n",
       "        [ 1.56782789e+01,  1.63014698e+01,  1.22182951e+01,\n",
       "          1.21180601e+01,  1.52977333e+01,  1.54031487e+01],\n",
       "        [ 1.61577053e+01,  2.29730167e+01,  2.31745968e+01,\n",
       "          1.89320698e+01,  2.06315765e+01,  3.21230087e+01]],\n",
       "\n",
       "       [[-2.11794689e-01, -2.56963193e-01, -2.57004678e-01,\n",
       "         -1.89641625e-01, -1.62570298e-01, -1.63815469e-01],\n",
       "        [-1.58589363e-01, -1.45079434e-01, -1.61238298e-01,\n",
       "         -1.65159091e-01, -1.79104164e-01, -2.10551843e-01],\n",
       "        [-2.25943372e-01, -2.03840688e-01, -1.82820618e-01,\n",
       "         -1.87117219e-01, -1.77478805e-01, -1.57971635e-01],\n",
       "        ...,\n",
       "        [ 6.19602966e+01,  7.87433472e+01,  9.52155380e+01,\n",
       "          1.12796753e+02,  1.19367722e+02,  1.26787857e+02],\n",
       "        [ 1.44038925e+02,  1.46241135e+02,  1.05431084e+02,\n",
       "          6.45996780e+01,  1.99609528e+01, -4.71056023e+01],\n",
       "        [-4.86364326e+01, -2.31032372e+01, -6.58349323e+00,\n",
       "         -1.03138914e+01, -1.70174179e+01, -1.99073353e+01]],\n",
       "\n",
       "       [[ 2.41388083e-01,  2.44968399e-01,  2.80799091e-01,\n",
       "          4.69511628e-01,  4.70524251e-01,  4.91596937e-01],\n",
       "        [ 6.44791365e-01,  6.49779975e-01,  6.60305798e-01,\n",
       "          6.49853170e-01,  7.40668654e-01,  8.14473450e-01],\n",
       "        [ 8.18308115e-01,  8.28421533e-01,  8.72941792e-01,\n",
       "          8.77396405e-01,  8.08288634e-01,  7.14133799e-01],\n",
       "        ...,\n",
       "        [ 1.22927389e+01,  1.45788918e+01,  4.07937050e+00,\n",
       "          3.20142746e+00,  1.91257458e+01,  1.88937702e+01],\n",
       "        [ 1.72800941e+01,  2.22765808e+01,  2.77346687e+01,\n",
       "          2.34273243e+01,  1.57667847e+01,  2.08029099e+01],\n",
       "        [ 2.50263443e+01,  1.85436516e+01,  5.46376705e+00,\n",
       "          1.47372570e+01,  2.50810680e+01,  1.18454351e+01]],\n",
       "\n",
       "       ...,\n",
       "\n",
       "       [[-1.32799757e+00, -1.22806394e+00, -1.15907228e+00,\n",
       "         -1.09427774e+00, -1.02437353e+00, -9.91365492e-01],\n",
       "        [-9.65055525e-01, -8.98515463e-01, -8.56740534e-01,\n",
       "         -8.25494945e-01, -7.38982379e-01, -6.49075747e-01],\n",
       "        [-5.24038076e-01, -6.30087912e-01, -6.18486822e-01,\n",
       "         -8.82197986e-04,  3.15651953e-01, -2.44216304e-02],\n",
       "        ...,\n",
       "        [-1.49921509e+02, -1.75610062e+02, -1.92843979e+02,\n",
       "         -2.00385010e+02, -2.08903503e+02, -2.18564163e+02],\n",
       "        [-2.29004349e+02, -2.39238113e+02, -2.43526169e+02,\n",
       "         -2.47908569e+02, -2.43779099e+02, -2.37436340e+02],\n",
       "        [-2.27297607e+02, -2.21374725e+02, -2.04559860e+02,\n",
       "         -1.89238586e+02, -1.79674057e+02, -1.75861938e+02]],\n",
       "\n",
       "       [[-2.88225710e-01, -2.39797339e-01, -2.73094952e-01,\n",
       "         -2.27120012e-01, -1.16908491e-01, -8.33192319e-02],\n",
       "        [-1.28054082e-01, -1.99576974e-01, -2.75167704e-01,\n",
       "         -4.85336155e-01, -6.59075975e-01, -6.11889064e-01],\n",
       "        [-5.30068398e-01, -4.67693776e-01, -2.69327372e-01,\n",
       "         -1.22436062e-01, -1.73068956e-01, -1.55582413e-01],\n",
       "        ...,\n",
       "        [-1.20352371e+02, -1.09345924e+02, -1.01543076e+02,\n",
       "         -9.64302979e+01, -8.65624619e+01, -7.75983734e+01],\n",
       "        [-7.16685944e+01, -6.77869415e+01, -6.65031662e+01,\n",
       "         -6.67902069e+01, -6.98510284e+01, -7.16731644e+01],\n",
       "        [-7.05076828e+01, -6.73979034e+01, -6.03484879e+01,\n",
       "         -5.20781975e+01, -4.50538025e+01, -3.91980629e+01]],\n",
       "\n",
       "       [[-8.62090111e-01, -8.40664685e-01, -8.17442358e-01,\n",
       "         -7.92707682e-01, -7.59260416e-01, -7.29059756e-01],\n",
       "        [-7.13384390e-01, -6.85810149e-01, -6.45204544e-01,\n",
       "         -6.06741726e-01, -5.65051556e-01, -5.13642013e-01],\n",
       "        [-4.80833828e-01, -4.47811216e-01, -3.68613869e-01,\n",
       "         -2.89594650e-01, -2.23379865e-01, -1.52235463e-01],\n",
       "        ...,\n",
       "        [-4.81750717e+01, -5.05154762e+01, -5.44812584e+01,\n",
       "         -5.85772438e+01, -6.03168373e+01, -6.26243248e+01],\n",
       "        [-6.56984711e+01, -6.78162003e+01, -7.02356110e+01,\n",
       "         -7.19699097e+01, -7.29164124e+01, -7.43964767e+01],\n",
       "        [-7.61228333e+01, -7.62904358e+01, -7.66250839e+01,\n",
       "         -7.93651276e+01, -8.02594757e+01, -8.06762314e+01]]],\n",
       "      dtype=float32)"
      ]
     },
     "execution_count": 90,
     "metadata": {},
     "output_type": "execute_result"
    }
   ],
   "source": [
    "X"
   ]
  },
  {
   "cell_type": "markdown",
   "metadata": {},
   "source": [
    "#####  가속도, 자이로, (자이로-가속도) 센서값을 에너지로 표현"
   ]
  },
  {
   "cell_type": "code",
   "execution_count": 24,
   "metadata": {},
   "outputs": [],
   "source": [
    "train['acc_Energy']=(train['acc_x']**2+train['acc_y']**2+train['acc_z']**2)**(1/3)\n",
    "test['acc_Energy']=(test['acc_x']**2+test['acc_y']**2+test['acc_z']**2)**(1/3)\n",
    "\n",
    "train['gy_Energy']=(train['gy_x']**2+train['gy_y']**2+train['gy_z']**2)**(1/3)\n",
    "test['gy_Energy']=(test['gy_x']**2+test['gy_y']**2+test['gy_z']**2)**(1/3)\n",
    "\n",
    "train['gy_acc_Energy']=((train['gy_x']-train['acc_x'])**2+(train['gy_y']-train['acc_y'])**2+(train['gy_z']-train['acc_z'])**2)**(1/3)\n",
    "test['gy_acc_Energy']=((test['gy_x']-test['acc_x'])**2+(test['gy_y']-test['acc_y'])**2+(test['gy_z']-test['acc_z'])**2)**(1/3)"
   ]
  },
  {
   "cell_type": "code",
   "execution_count": 27,
   "metadata": {},
   "outputs": [
    {
     "data": {
      "text/plain": [
       "(1875000, 11)"
      ]
     },
     "execution_count": 27,
     "metadata": {},
     "output_type": "execute_result"
    }
   ],
   "source": [
    "train.shape"
   ]
  },
  {
   "cell_type": "code",
   "execution_count": 28,
   "metadata": {},
   "outputs": [
    {
     "name": "stderr",
     "output_type": "stream",
     "text": [
      "100%|██████████| 3125/3125 [00:06<00:00, 462.60it/s]\n",
      "100%|██████████| 782/782 [00:00<00:00, 978.99it/s]\n"
     ]
    }
   ],
   "source": []
  },
  {
   "cell_type": "code",
   "execution_count": 29,
   "metadata": {},
   "outputs": [
    {
     "data": {
      "text/plain": [
       "(3125, 9, 600, 1)"
      ]
     },
     "execution_count": 29,
     "metadata": {},
     "output_type": "execute_result"
    }
   ],
   "source": []
  },
  {
   "cell_type": "code",
   "execution_count": 30,
   "metadata": {},
   "outputs": [],
   "source": []
  },
  {
   "cell_type": "code",
   "execution_count": 31,
   "metadata": {},
   "outputs": [
    {
     "data": {
      "text/plain": [
       "(3125, 600, 9)"
      ]
     },
     "execution_count": 31,
     "metadata": {},
     "output_type": "execute_result"
    }
   ],
   "source": []
  },
  {
   "cell_type": "markdown",
   "metadata": {},
   "source": [
    "###### id별 데이터는 0.02초마다 측정된 값들이기 때문에 이전 시간 대비 변화량 적용"
   ]
  },
  {
   "cell_type": "code",
   "execution_count": null,
   "metadata": {},
   "outputs": [],
   "source": [
    "dt=0.02 \n",
    "def jerk_signal(signal): \n",
    "        return np.array([(signal[i+1]-signal[i])/dt for i in range(len(signal)-1)])"
   ]
  },
  {
   "cell_type": "code",
   "execution_count": null,
   "metadata": {},
   "outputs": [],
   "source": [
    "train_dt=[]\n",
    "for i in tqdm(train['id'].unique()):\n",
    "    temp=train.loc[train['id']==i]\n",
    "    for v in train.columns[2:]:\n",
    "        values=jerk_signal(temp[v].values)\n",
    "        values=np.insert(values,0,0)\n",
    "        temp.loc[:,v+'_dt']=values\n",
    "    train_dt.append(temp)"
   ]
  },
  {
   "cell_type": "code",
   "execution_count": null,
   "metadata": {},
   "outputs": [],
   "source": [
    "test_dt=[]\n",
    "for i in tqdm(test['id'].unique()):\n",
    "    temp=test.loc[test['id']==i]\n",
    "    for v in train.columns[2:]:\n",
    "        values=jerk_signal(temp[v].values)\n",
    "        values=np.insert(values,0,0)\n",
    "        temp.loc[:,v+'_dt']=values\n",
    "    test_dt.append(temp)"
   ]
  },
  {
   "cell_type": "code",
   "execution_count": null,
   "metadata": {},
   "outputs": [],
   "source": [
    "from scipy import fftpack\n",
    "from numpy.fft import *\n",
    "\n",
    "def fourier_transform_one_signal(t_signal):\n",
    "    complex_f_signal= fftpack.fft(t_signal)\n",
    "    amplitude_f_signal=np.abs(complex_f_signal)\n",
    "    return amplitude_f_signal"
   ]
  },
  {
   "cell_type": "code",
   "execution_count": null,
   "metadata": {},
   "outputs": [],
   "source": [
    "train=pd.concat(train_dt)"
   ]
  },
  {
   "cell_type": "code",
   "execution_count": null,
   "metadata": {},
   "outputs": [],
   "source": [
    "fft=[]\n",
    "for i in tqdm(train['id'].unique()):\n",
    "    temp=train.loc[train['id']==i]\n",
    "    for i in train.columns[2:8]:\n",
    "        temp[i]=fourier_transform_one_signal(temp[i].values)\n",
    "    fft.append(temp)\n",
    "train=pd.concat(fft)"
   ]
  },
  {
   "cell_type": "code",
   "execution_count": null,
   "metadata": {},
   "outputs": [],
   "source": [
    "test=pd.concat(test_dt)"
   ]
  },
  {
   "cell_type": "code",
   "execution_count": null,
   "metadata": {},
   "outputs": [],
   "source": []
  },
  {
   "cell_type": "code",
   "execution_count": null,
   "metadata": {},
   "outputs": [],
   "source": []
  },
  {
   "cell_type": "code",
   "execution_count": null,
   "metadata": {},
   "outputs": [],
   "source": []
  },
  {
   "cell_type": "code",
   "execution_count": null,
   "metadata": {},
   "outputs": [],
   "source": []
  },
  {
   "cell_type": "code",
   "execution_count": 5,
   "metadata": {},
   "outputs": [],
   "source": [
    "# feature_names = ['acc_x','acc_y','acc_z','gy_x','gy_y','gy_z']\n",
    "# #,'acc_Energy','gy_Energy','gy_acc_Energy'\n",
    "# grad_cols=[]\n",
    "# for col in feature_names:\n",
    "#     grad_cols.append(f\"grad_{col}\")\n",
    "\n",
    "# integ_cols = []\n",
    "# for col in feature_names:\n",
    "#     integ_cols.append(f\"integ_{col}\")\n",
    "    \n",
    "\n",
    "    \n",
    "# total_feature_names = feature_names + grad_cols + integ_cols "
   ]
  },
  {
   "cell_type": "code",
   "execution_count": 6,
   "metadata": {},
   "outputs": [
    {
     "name": "stderr",
     "output_type": "stream",
     "text": [
      "100%|██████████| 3125/3125 [03:42<00:00, 14.02it/s]\n",
      "100%|██████████| 782/782 [00:09<00:00, 80.34it/s]"
     ]
    },
    {
     "name": "stdout",
     "output_type": "stream",
     "text": [
      "(1875000, 14) (469200, 14)\n"
     ]
    },
    {
     "name": "stderr",
     "output_type": "stream",
     "text": [
      "\n"
     ]
    },
    {
     "data": {
      "text/html": [
       "<div>\n",
       "<style scoped>\n",
       "    .dataframe tbody tr th:only-of-type {\n",
       "        vertical-align: middle;\n",
       "    }\n",
       "\n",
       "    .dataframe tbody tr th {\n",
       "        vertical-align: top;\n",
       "    }\n",
       "\n",
       "    .dataframe thead th {\n",
       "        text-align: right;\n",
       "    }\n",
       "</style>\n",
       "<table border=\"1\" class=\"dataframe\">\n",
       "  <thead>\n",
       "    <tr style=\"text-align: right;\">\n",
       "      <th></th>\n",
       "      <th>id</th>\n",
       "      <th>time</th>\n",
       "      <th>acc_x</th>\n",
       "      <th>acc_y</th>\n",
       "      <th>acc_z</th>\n",
       "      <th>gy_x</th>\n",
       "      <th>gy_y</th>\n",
       "      <th>gy_z</th>\n",
       "      <th>grad_acc_x</th>\n",
       "      <th>grad_acc_y</th>\n",
       "      <th>grad_acc_z</th>\n",
       "      <th>grad_gy_x</th>\n",
       "      <th>grad_gy_y</th>\n",
       "      <th>grad_gy_z</th>\n",
       "    </tr>\n",
       "  </thead>\n",
       "  <tbody>\n",
       "    <tr>\n",
       "      <th>0</th>\n",
       "      <td>0</td>\n",
       "      <td>0</td>\n",
       "      <td>1.206087</td>\n",
       "      <td>-0.179371</td>\n",
       "      <td>-0.148447</td>\n",
       "      <td>-0.591608</td>\n",
       "      <td>-30.549010</td>\n",
       "      <td>-31.676112</td>\n",
       "      <td>0.081610</td>\n",
       "      <td>-0.019602</td>\n",
       "      <td>-0.033997</td>\n",
       "      <td>0.894708</td>\n",
       "      <td>-8.590094</td>\n",
       "      <td>6.748896</td>\n",
       "    </tr>\n",
       "    <tr>\n",
       "      <th>1</th>\n",
       "      <td>0</td>\n",
       "      <td>1</td>\n",
       "      <td>1.287696</td>\n",
       "      <td>-0.198974</td>\n",
       "      <td>-0.182444</td>\n",
       "      <td>0.303100</td>\n",
       "      <td>-39.139103</td>\n",
       "      <td>-24.927216</td>\n",
       "      <td>0.049261</td>\n",
       "      <td>-0.007872</td>\n",
       "      <td>-0.052468</td>\n",
       "      <td>-1.512835</td>\n",
       "      <td>-6.786777</td>\n",
       "      <td>3.328242</td>\n",
       "    </tr>\n",
       "    <tr>\n",
       "      <th>2</th>\n",
       "      <td>0</td>\n",
       "      <td>2</td>\n",
       "      <td>1.304609</td>\n",
       "      <td>-0.195114</td>\n",
       "      <td>-0.253382</td>\n",
       "      <td>-3.617278</td>\n",
       "      <td>-44.122565</td>\n",
       "      <td>-25.019629</td>\n",
       "      <td>0.002699</td>\n",
       "      <td>-0.015696</td>\n",
       "      <td>-0.016383</td>\n",
       "      <td>1.204943</td>\n",
       "      <td>-7.229370</td>\n",
       "      <td>-1.263398</td>\n",
       "    </tr>\n",
       "    <tr>\n",
       "      <th>3</th>\n",
       "      <td>0</td>\n",
       "      <td>3</td>\n",
       "      <td>1.293095</td>\n",
       "      <td>-0.230366</td>\n",
       "      <td>-0.215210</td>\n",
       "      <td>2.712986</td>\n",
       "      <td>-53.597843</td>\n",
       "      <td>-27.454013</td>\n",
       "      <td>-0.001861</td>\n",
       "      <td>0.003679</td>\n",
       "      <td>0.015430</td>\n",
       "      <td>3.951992</td>\n",
       "      <td>-6.891998</td>\n",
       "      <td>-1.470803</td>\n",
       "    </tr>\n",
       "    <tr>\n",
       "      <th>4</th>\n",
       "      <td>0</td>\n",
       "      <td>4</td>\n",
       "      <td>1.300887</td>\n",
       "      <td>-0.187757</td>\n",
       "      <td>-0.222523</td>\n",
       "      <td>4.286707</td>\n",
       "      <td>-57.906561</td>\n",
       "      <td>-27.961234</td>\n",
       "      <td>-0.001896</td>\n",
       "      <td>0.007851</td>\n",
       "      <td>-0.017338</td>\n",
       "      <td>3.676439</td>\n",
       "      <td>-5.326397</td>\n",
       "      <td>-0.916218</td>\n",
       "    </tr>\n",
       "  </tbody>\n",
       "</table>\n",
       "</div>"
      ],
      "text/plain": [
       "   id  time     acc_x     acc_y     acc_z      gy_x       gy_y       gy_z  \\\n",
       "0   0     0  1.206087 -0.179371 -0.148447 -0.591608 -30.549010 -31.676112   \n",
       "1   0     1  1.287696 -0.198974 -0.182444  0.303100 -39.139103 -24.927216   \n",
       "2   0     2  1.304609 -0.195114 -0.253382 -3.617278 -44.122565 -25.019629   \n",
       "3   0     3  1.293095 -0.230366 -0.215210  2.712986 -53.597843 -27.454013   \n",
       "4   0     4  1.300887 -0.187757 -0.222523  4.286707 -57.906561 -27.961234   \n",
       "\n",
       "   grad_acc_x  grad_acc_y  grad_acc_z  grad_gy_x  grad_gy_y  grad_gy_z  \n",
       "0    0.081610   -0.019602   -0.033997   0.894708  -8.590094   6.748896  \n",
       "1    0.049261   -0.007872   -0.052468  -1.512835  -6.786777   3.328242  \n",
       "2    0.002699   -0.015696   -0.016383   1.204943  -7.229370  -1.263398  \n",
       "3   -0.001861    0.003679    0.015430   3.951992  -6.891998  -1.470803  \n",
       "4   -0.001896    0.007851   -0.017338   3.676439  -5.326397  -0.916218  "
      ]
     },
     "execution_count": 6,
     "metadata": {},
     "output_type": "execute_result"
    }
   ],
   "source": [
    "# # 기울기(gradient) 구하기 범용 함수 : np.gradient()\n",
    "# # \n",
    "\n",
    "# for uid in tqdm(train['id'].unique()):\n",
    "#     temp = train.loc[train['id']==uid, feature_names]\n",
    "#     grad = np.gradient(temp, axis=0)\n",
    "#     train.loc[train['id']==uid, grad_cols] = grad\n",
    "    \n",
    "# for uid in tqdm(test['id'].unique()):\n",
    "#     temp = test.loc[test['id']==uid, feature_names]\n",
    "#     grad = np.gradient(temp, axis=0)\n",
    "#     test.loc[test['id']==uid, grad_cols] = grad\n",
    "    \n",
    "# print(train.shape, test.shape)\n",
    "# train.head()"
   ]
  },
  {
   "cell_type": "code",
   "execution_count": 7,
   "metadata": {},
   "outputs": [
    {
     "name": "stderr",
     "output_type": "stream",
     "text": [
      "100%|██████████| 3125/3125 [03:43<00:00, 13.98it/s]\n",
      "100%|██████████| 782/782 [00:09<00:00, 78.97it/s]"
     ]
    },
    {
     "name": "stdout",
     "output_type": "stream",
     "text": [
      "(1875000, 20) (469200, 20)\n"
     ]
    },
    {
     "name": "stderr",
     "output_type": "stream",
     "text": [
      "\n"
     ]
    },
    {
     "data": {
      "text/html": [
       "<div>\n",
       "<style scoped>\n",
       "    .dataframe tbody tr th:only-of-type {\n",
       "        vertical-align: middle;\n",
       "    }\n",
       "\n",
       "    .dataframe tbody tr th {\n",
       "        vertical-align: top;\n",
       "    }\n",
       "\n",
       "    .dataframe thead th {\n",
       "        text-align: right;\n",
       "    }\n",
       "</style>\n",
       "<table border=\"1\" class=\"dataframe\">\n",
       "  <thead>\n",
       "    <tr style=\"text-align: right;\">\n",
       "      <th></th>\n",
       "      <th>id</th>\n",
       "      <th>time</th>\n",
       "      <th>acc_x</th>\n",
       "      <th>acc_y</th>\n",
       "      <th>acc_z</th>\n",
       "      <th>gy_x</th>\n",
       "      <th>gy_y</th>\n",
       "      <th>gy_z</th>\n",
       "      <th>grad_acc_x</th>\n",
       "      <th>grad_acc_y</th>\n",
       "      <th>grad_acc_z</th>\n",
       "      <th>grad_gy_x</th>\n",
       "      <th>grad_gy_y</th>\n",
       "      <th>grad_gy_z</th>\n",
       "      <th>integ_acc_x</th>\n",
       "      <th>integ_acc_y</th>\n",
       "      <th>integ_acc_z</th>\n",
       "      <th>integ_gy_x</th>\n",
       "      <th>integ_gy_y</th>\n",
       "      <th>integ_gy_z</th>\n",
       "    </tr>\n",
       "  </thead>\n",
       "  <tbody>\n",
       "    <tr>\n",
       "      <th>0</th>\n",
       "      <td>0</td>\n",
       "      <td>0</td>\n",
       "      <td>1.206087</td>\n",
       "      <td>-0.179371</td>\n",
       "      <td>-0.148447</td>\n",
       "      <td>-0.591608</td>\n",
       "      <td>-30.549010</td>\n",
       "      <td>-31.676112</td>\n",
       "      <td>0.081610</td>\n",
       "      <td>-0.019602</td>\n",
       "      <td>-0.033997</td>\n",
       "      <td>0.894708</td>\n",
       "      <td>-8.590094</td>\n",
       "      <td>6.748896</td>\n",
       "      <td>0.000000</td>\n",
       "      <td>0.000000</td>\n",
       "      <td>0.000000</td>\n",
       "      <td>0.000000</td>\n",
       "      <td>0.000000</td>\n",
       "      <td>0.000000</td>\n",
       "    </tr>\n",
       "    <tr>\n",
       "      <th>1</th>\n",
       "      <td>0</td>\n",
       "      <td>1</td>\n",
       "      <td>1.287696</td>\n",
       "      <td>-0.198974</td>\n",
       "      <td>-0.182444</td>\n",
       "      <td>0.303100</td>\n",
       "      <td>-39.139103</td>\n",
       "      <td>-24.927216</td>\n",
       "      <td>0.049261</td>\n",
       "      <td>-0.007872</td>\n",
       "      <td>-0.052468</td>\n",
       "      <td>-1.512835</td>\n",
       "      <td>-6.786777</td>\n",
       "      <td>3.328242</td>\n",
       "      <td>1.246892</td>\n",
       "      <td>-0.189173</td>\n",
       "      <td>-0.165445</td>\n",
       "      <td>-0.144254</td>\n",
       "      <td>-34.844056</td>\n",
       "      <td>-28.301664</td>\n",
       "    </tr>\n",
       "    <tr>\n",
       "      <th>2</th>\n",
       "      <td>0</td>\n",
       "      <td>2</td>\n",
       "      <td>1.304609</td>\n",
       "      <td>-0.195114</td>\n",
       "      <td>-0.253382</td>\n",
       "      <td>-3.617278</td>\n",
       "      <td>-44.122565</td>\n",
       "      <td>-25.019629</td>\n",
       "      <td>0.002699</td>\n",
       "      <td>-0.015696</td>\n",
       "      <td>-0.016383</td>\n",
       "      <td>1.204943</td>\n",
       "      <td>-7.229370</td>\n",
       "      <td>-1.263398</td>\n",
       "      <td>2.543044</td>\n",
       "      <td>-0.386217</td>\n",
       "      <td>-0.383358</td>\n",
       "      <td>-1.801342</td>\n",
       "      <td>-76.474890</td>\n",
       "      <td>-53.275086</td>\n",
       "    </tr>\n",
       "    <tr>\n",
       "      <th>3</th>\n",
       "      <td>0</td>\n",
       "      <td>3</td>\n",
       "      <td>1.293095</td>\n",
       "      <td>-0.230366</td>\n",
       "      <td>-0.215210</td>\n",
       "      <td>2.712986</td>\n",
       "      <td>-53.597843</td>\n",
       "      <td>-27.454013</td>\n",
       "      <td>-0.001861</td>\n",
       "      <td>0.003679</td>\n",
       "      <td>0.015430</td>\n",
       "      <td>3.951992</td>\n",
       "      <td>-6.891998</td>\n",
       "      <td>-1.470803</td>\n",
       "      <td>3.841896</td>\n",
       "      <td>-0.598957</td>\n",
       "      <td>-0.617655</td>\n",
       "      <td>-2.253488</td>\n",
       "      <td>-125.335094</td>\n",
       "      <td>-79.511907</td>\n",
       "    </tr>\n",
       "    <tr>\n",
       "      <th>4</th>\n",
       "      <td>0</td>\n",
       "      <td>4</td>\n",
       "      <td>1.300887</td>\n",
       "      <td>-0.187757</td>\n",
       "      <td>-0.222523</td>\n",
       "      <td>4.286707</td>\n",
       "      <td>-57.906561</td>\n",
       "      <td>-27.961234</td>\n",
       "      <td>-0.001896</td>\n",
       "      <td>0.007851</td>\n",
       "      <td>-0.017338</td>\n",
       "      <td>3.676439</td>\n",
       "      <td>-5.326397</td>\n",
       "      <td>-0.916218</td>\n",
       "      <td>5.138887</td>\n",
       "      <td>-0.808019</td>\n",
       "      <td>-0.836521</td>\n",
       "      <td>1.246358</td>\n",
       "      <td>-181.087295</td>\n",
       "      <td>-107.219530</td>\n",
       "    </tr>\n",
       "  </tbody>\n",
       "</table>\n",
       "</div>"
      ],
      "text/plain": [
       "   id  time     acc_x     acc_y     acc_z      gy_x       gy_y       gy_z  \\\n",
       "0   0     0  1.206087 -0.179371 -0.148447 -0.591608 -30.549010 -31.676112   \n",
       "1   0     1  1.287696 -0.198974 -0.182444  0.303100 -39.139103 -24.927216   \n",
       "2   0     2  1.304609 -0.195114 -0.253382 -3.617278 -44.122565 -25.019629   \n",
       "3   0     3  1.293095 -0.230366 -0.215210  2.712986 -53.597843 -27.454013   \n",
       "4   0     4  1.300887 -0.187757 -0.222523  4.286707 -57.906561 -27.961234   \n",
       "\n",
       "   grad_acc_x  grad_acc_y  grad_acc_z  grad_gy_x  grad_gy_y  grad_gy_z  \\\n",
       "0    0.081610   -0.019602   -0.033997   0.894708  -8.590094   6.748896   \n",
       "1    0.049261   -0.007872   -0.052468  -1.512835  -6.786777   3.328242   \n",
       "2    0.002699   -0.015696   -0.016383   1.204943  -7.229370  -1.263398   \n",
       "3   -0.001861    0.003679    0.015430   3.951992  -6.891998  -1.470803   \n",
       "4   -0.001896    0.007851   -0.017338   3.676439  -5.326397  -0.916218   \n",
       "\n",
       "   integ_acc_x  integ_acc_y  integ_acc_z  integ_gy_x  integ_gy_y  integ_gy_z  \n",
       "0     0.000000     0.000000     0.000000    0.000000    0.000000    0.000000  \n",
       "1     1.246892    -0.189173    -0.165445   -0.144254  -34.844056  -28.301664  \n",
       "2     2.543044    -0.386217    -0.383358   -1.801342  -76.474890  -53.275086  \n",
       "3     3.841896    -0.598957    -0.617655   -2.253488 -125.335094  -79.511907  \n",
       "4     5.138887    -0.808019    -0.836521    1.246358 -181.087295 -107.219530  "
      ]
     },
     "execution_count": 7,
     "metadata": {},
     "output_type": "execute_result"
    }
   ],
   "source": [
    "# for uid in tqdm(train['id'].unique()):\n",
    "#     temp = train.loc[train['id']==uid, feature_names]\n",
    "#     integ = cumtrapz(temp, initial=0, axis=0)\n",
    "#     train.loc[train['id']==uid, integ_cols] = integ\n",
    "    \n",
    "# for uid in tqdm(test['id'].unique()):\n",
    "#     temp = test.loc[test['id']==uid, feature_names]\n",
    "#     integ = cumtrapz(temp, initial=0, axis=0)\n",
    "#     test.loc[test['id']==uid, integ_cols] = integ\n",
    "    \n",
    "# print(train.shape, test.shape)\n",
    "# train.head()"
   ]
  },
  {
   "cell_type": "code",
   "execution_count": 9,
   "metadata": {},
   "outputs": [
    {
     "name": "stdout",
     "output_type": "stream",
     "text": [
      "(1875000, 18) (469200, 18)\n"
     ]
    }
   ],
   "source": [
    "# from sklearn.preprocessing import StandardScaler, RobustScaler, MinMaxScaler\n",
    "\n",
    "\n",
    "# scaler = StandardScaler()\n",
    "\n",
    "# Xtrain_scaled = pd.DataFrame(data=scaler.fit_transform(train[total_feature_names]), index=train.index, columns=total_feature_names)\n",
    "# Xtest_scaled = pd.DataFrame(data=scaler.transform(test[total_feature_names]), index=test.index, columns=total_feature_names)\n",
    "\n",
    "# print(Xtrain_scaled.shape, Xtest_scaled.shape)"
   ]
  },
  {
   "cell_type": "code",
   "execution_count": 12,
   "metadata": {},
   "outputs": [
    {
     "name": "stdout",
     "output_type": "stream",
     "text": [
      "(3125, 600, 18) (3125, 61) (782, 600, 18) (782, 62)\n"
     ]
    }
   ],
   "source": [
    "# X = np.array(Xtrain_scaled[total_feature_names]).reshape(-1, 600, len(total_feature_names)).astype('float32')\n",
    "# Xtest= np.array(Xtest_scaled[total_feature_names]).reshape(-1, 600, len(total_feature_names)).astype('float32')\n",
    "\n",
    "\n",
    "# y = train_labels['label'].values\n",
    "# y = tf.keras.utils.to_categorical(train_labels['label']) \n",
    "# y.shape\n",
    "\n",
    "# print(X.shape, y.shape, Xtest.shape, submission.shape)"
   ]
  },
  {
   "cell_type": "markdown",
   "metadata": {},
   "source": [
    "##### Standard scaling 적용\n"
   ]
  },
  {
   "cell_type": "code",
   "execution_count": null,
   "metadata": {},
   "outputs": [],
   "source": [
    "# col=train.columns\n",
    "# train_s=train.copy()\n",
    "# test_s=test.copy()"
   ]
  },
  {
   "cell_type": "code",
   "execution_count": null,
   "metadata": {},
   "outputs": [],
   "source": [
    "# from sklearn.preprocessing import StandardScaler,MinMaxScaler\n",
    "\n",
    "# scaler = StandardScaler()\n",
    "\n",
    "# train_s.iloc[:,2:]= scaler.fit_transform(train_s.iloc[:,2:])\n",
    "# train_sc = pd.DataFrame(data = train_s,columns =col)\n",
    "\n",
    "# test_s.iloc[:,2:]= scaler.transform(test_s.iloc[:,2:])\n",
    "# test_sc = pd.DataFrame(data = test_s,columns =col)\n",
    "\n",
    "# X=np.array(train_sc.iloc[:,2:]).reshape(3125, 600, -1)\n",
    "# X.shape\n",
    "\n",
    "# test_x=np.array(test_sc.iloc[:,2:]).reshape(782, 600, -1)\n",
    "# test_x.shape\n",
    "\n",
    "# y = train_labels['label'].values\n",
    "# y = tf.keras.utils.to_categorical(train_labels['label']) \n",
    "# y.shape"
   ]
  },
  {
   "cell_type": "code",
   "execution_count": 32,
   "metadata": {},
   "outputs": [
    {
     "data": {
      "text/plain": [
       "(3125, 61)"
      ]
     },
     "execution_count": 32,
     "metadata": {},
     "output_type": "execute_result"
    }
   ],
   "source": [
    "test_x=x_test.reshape(782, 600, -1)\n",
    "test_x.shape\n",
    "\n",
    "y = train_labels['label'].values\n",
    "y = tf.keras.utils.to_categorical(train_labels['label']) \n",
    "y.shape"
   ]
  },
  {
   "cell_type": "markdown",
   "metadata": {},
   "source": [
    "##### 모델링\n",
    "\n",
    "+ CNN, LSTM, CNN+LSTM 등 여러 구조 적용해보다가 CNN에서 Flatten 없이 Global average pooling 한 구조가 가장 성능이 좋아 채택했습니다.\n"
   ]
  },
  {
   "cell_type": "code",
   "execution_count": 33,
   "metadata": {},
   "outputs": [],
   "source": [
    "import tensorflow as tf\n",
    "import tensorflow.keras as keras\n",
    "import tensorflow_addons as tfa\n",
    "from tensorflow.keras.models import Sequential\n",
    "from keras.layers import Dense, LSTM,Bidirectional,Dropout\n",
    "from keras.layers import Dropout\n",
    "from keras.layers import LSTM\n",
    "from keras.layers.convolutional import Conv1D\n",
    "from keras.layers.convolutional import MaxPooling1D\n",
    "from tensorflow.keras.utils import to_categorical\n",
    "from keras.callbacks import EarlyStopping, ModelCheckpoint,ReduceLROnPlateau\n",
    "from sklearn.model_selection import KFold,StratifiedKFold\n",
    "from numpy.random import seed\n",
    "from tensorflow.keras.layers import Activation, Conv2D, MaxPooling2D, Flatten, GlobalAveragePooling1D\n",
    "from tensorflow.keras import layers\n",
    "from tensorflow.keras.layers import Dense, Dropout, BatchNormalization"
   ]
  },
  {
   "cell_type": "code",
   "execution_count": 34,
   "metadata": {},
   "outputs": [],
   "source": [
    "# X=x_train.reshape(3125, 600, -1)\n",
    "# X.shape"
   ]
  },
  {
   "cell_type": "code",
   "execution_count": 35,
   "metadata": {},
   "outputs": [],
   "source": [
    "# test_x=x_test.reshape(782, 600, -1)\n",
    "# test_x.shape"
   ]
  },
  {
   "cell_type": "markdown",
   "metadata": {},
   "source": [
    "##### 모델 구조 "
   ]
  },
  {
   "cell_type": "code",
   "execution_count": 79,
   "metadata": {},
   "outputs": [
    {
     "name": "stdout",
     "output_type": "stream",
     "text": [
      "Model: \"sequential_14\"\n",
      "_________________________________________________________________\n",
      "Layer (type)                 Output Shape              Param #   \n",
      "=================================================================\n",
      "conv1d_55 (Conv1D)           (None, 600, 128)          10496     \n",
      "_________________________________________________________________\n",
      "max_pooling1d_39 (MaxPooling (None, 300, 128)          0         \n",
      "_________________________________________________________________\n",
      "conv1d_56 (Conv1D)           (None, 300, 256)          295168    \n",
      "_________________________________________________________________\n",
      "conv1d_57 (Conv1D)           (None, 300, 128)          295040    \n",
      "_________________________________________________________________\n",
      "max_pooling1d_40 (MaxPooling (None, 150, 128)          0         \n",
      "_________________________________________________________________\n",
      "conv1d_58 (Conv1D)           (None, 150, 64)           73792     \n",
      "_________________________________________________________________\n",
      "global_average_pooling1d_3 ( (None, 64)                0         \n",
      "_________________________________________________________________\n",
      "dense_36 (Dense)             (None, 128)               8320      \n",
      "_________________________________________________________________\n",
      "dropout_23 (Dropout)         (None, 128)               0         \n",
      "_________________________________________________________________\n",
      "dense_37 (Dense)             (None, 64)                8256      \n",
      "_________________________________________________________________\n",
      "dropout_24 (Dropout)         (None, 64)                0         \n",
      "_________________________________________________________________\n",
      "dense_38 (Dense)             (None, 61)                3965      \n",
      "=================================================================\n",
      "Total params: 695,037\n",
      "Trainable params: 695,037\n",
      "Non-trainable params: 0\n",
      "_________________________________________________________________\n"
     ]
    }
   ],
   "source": [
    "\n",
    "model= keras.Sequential()\n",
    "model.add(Conv1D(filters=128, kernel_size=9, kernel_initializer='he_uniform' ,padding=\"same\",input_shape=X.shape[1:], activation=\"relu\"))\n",
    "model.add(MaxPooling1D())\n",
    "model.add(Conv1D(filters=256, kernel_size=9, padding=\"same\",input_shape=X.shape[1:], activation=\"relu\"))\n",
    "\n",
    "model.add(Conv1D(filters=128, kernel_size=9, padding=\"same\",input_shape=X.shape[1:], activation=\"relu\"))\n",
    "model.add(MaxPooling1D())\n",
    "model.add(Conv1D(filters=64, kernel_size=9, padding=\"same\",input_shape=X.shape[1:], activation=\"relu\"))\n",
    "model.add(GlobalAveragePooling1D())\n",
    "\n",
    "#model.add(Flatten())\n",
    "\n",
    "model.add(Dense(128, activation=\"relu\"))\n",
    "model.add(Dropout(rate=0.1))\n",
    "model.add(Dense(64, activation=\"relu\"))\n",
    "model.add(Dropout(rate=0.2))\n",
    "\n",
    "\n",
    "#model.add(Dense(64, activation=\"relu\"))\n",
    "\n",
    "model.add(Dense(61, activation=\"softmax\"))\n",
    "model.compile(loss='categorical_crossentropy', optimizer = 'Adam', metrics='accuracy')\n",
    "model.summary()"
   ]
  },
  {
   "cell_type": "code",
   "execution_count": 80,
   "metadata": {},
   "outputs": [],
   "source": [
    "\n",
    "# seed(2021)\n",
    "# tf.random.set_seed(2021)\n",
    "\n",
    "# input_layer = keras.layers.Input(X.shape[1:])\n",
    "# conv1 = keras.layers.Conv1D(filters=128, kernel_size=9, padding='same')(input_layer)\n",
    "# conv1 = keras.layers.BatchNormalization()(conv1)\n",
    "# conv1 = keras.layers.Activation(activation='relu')(conv1)\n",
    "# conv1 = keras.layers.Dropout(rate=0.3)(conv1)\n",
    "\n",
    "# conv2 = keras.layers.Conv1D(filters=256, kernel_size=6, padding='same')(conv1)\n",
    "# conv2 = keras.layers.BatchNormalization()(conv2)\n",
    "# conv2 = keras.layers.Activation('relu')(conv2)\n",
    "# conv2 = keras.layers.Dropout(rate=0.4)(conv2)\n",
    "\n",
    "# conv3 = keras.layers.Conv1D(128, kernel_size=3,padding='same')(conv2)\n",
    "# conv3 = keras.layers.BatchNormalization()(conv3)\n",
    "# conv3 = keras.layers.Activation('relu')(conv3)\n",
    "# conv3 = keras.layers.Dropout(rate=0.5)(conv3)\n",
    "\n",
    "# gap = keras.layers.GlobalAveragePooling1D()(conv3)\n",
    "\n",
    "# output_layer = keras.layers.Dense(61, activation='softmax')(gap)\n",
    "\n",
    "# model = keras.models.Model(inputs=input_layer, outputs=output_layer)\n",
    "\n",
    "# model.compile(loss='categorical_crossentropy', optimizer = 'Adam', metrics='accuracy')\n",
    "# model.summary()"
   ]
  },
  {
   "cell_type": "markdown",
   "metadata": {},
   "source": [
    "##### 10-fold StratifiedKFold"
   ]
  },
  {
   "cell_type": "code",
   "execution_count": 81,
   "metadata": {
    "jupyter": {
     "outputs_hidden": true
    },
    "scrolled": true
   },
   "outputs": [
    {
     "name": "stdout",
     "output_type": "stream",
     "text": [
      "Epoch 1/70\n",
      "40/40 [==============================] - 3s 52ms/step - loss: 4.9023 - accuracy: 0.3780 - val_loss: 2.8727 - val_accuracy: 0.4976\n",
      "Epoch 2/70\n",
      "40/40 [==============================] - 2s 38ms/step - loss: 2.6965 - accuracy: 0.4828 - val_loss: 2.4430 - val_accuracy: 0.4976\n",
      "Epoch 3/70\n",
      "40/40 [==============================] - 2s 39ms/step - loss: 2.5510 - accuracy: 0.4840 - val_loss: 2.4192 - val_accuracy: 0.4976\n",
      "Epoch 4/70\n",
      "40/40 [==============================] - 2s 38ms/step - loss: 2.4230 - accuracy: 0.4904 - val_loss: 2.2612 - val_accuracy: 0.5168\n",
      "Epoch 5/70\n",
      "40/40 [==============================] - 2s 38ms/step - loss: 2.3353 - accuracy: 0.4936 - val_loss: 2.1588 - val_accuracy: 0.5168\n",
      "Epoch 6/70\n",
      "40/40 [==============================] - 2s 39ms/step - loss: 2.2445 - accuracy: 0.4964 - val_loss: 2.3379 - val_accuracy: 0.5136\n",
      "Epoch 7/70\n",
      "40/40 [==============================] - 2s 38ms/step - loss: 2.3034 - accuracy: 0.5012 - val_loss: 2.1449 - val_accuracy: 0.5248\n",
      "Epoch 8/70\n",
      "40/40 [==============================] - 2s 38ms/step - loss: 2.1940 - accuracy: 0.5016 - val_loss: 2.1447 - val_accuracy: 0.5200\n",
      "Epoch 9/70\n",
      "40/40 [==============================] - 2s 38ms/step - loss: 2.1302 - accuracy: 0.5084 - val_loss: 2.0227 - val_accuracy: 0.5344\n",
      "Epoch 10/70\n",
      "40/40 [==============================] - 2s 38ms/step - loss: 2.0804 - accuracy: 0.5080 - val_loss: 1.9998 - val_accuracy: 0.5360\n",
      "Epoch 11/70\n",
      "40/40 [==============================] - 2s 38ms/step - loss: 2.0619 - accuracy: 0.5196 - val_loss: 2.0225 - val_accuracy: 0.5520\n",
      "Epoch 12/70\n",
      "40/40 [==============================] - 2s 38ms/step - loss: 2.0015 - accuracy: 0.5328 - val_loss: 1.9213 - val_accuracy: 0.5632\n",
      "Epoch 13/70\n",
      "40/40 [==============================] - 2s 38ms/step - loss: 1.9308 - accuracy: 0.5468 - val_loss: 1.8875 - val_accuracy: 0.5728\n",
      "Epoch 14/70\n",
      "40/40 [==============================] - 2s 38ms/step - loss: 1.8723 - accuracy: 0.5512 - val_loss: 1.8926 - val_accuracy: 0.5728\n",
      "Epoch 15/70\n",
      "40/40 [==============================] - 2s 38ms/step - loss: 1.8373 - accuracy: 0.5588 - val_loss: 1.9077 - val_accuracy: 0.5792\n",
      "Epoch 16/70\n",
      "40/40 [==============================] - 2s 38ms/step - loss: 1.8729 - accuracy: 0.5556 - val_loss: 1.7626 - val_accuracy: 0.5856\n",
      "Epoch 17/70\n",
      "40/40 [==============================] - 2s 38ms/step - loss: 1.7647 - accuracy: 0.5684 - val_loss: 1.7368 - val_accuracy: 0.5840\n",
      "Epoch 18/70\n",
      "40/40 [==============================] - 2s 38ms/step - loss: 1.6885 - accuracy: 0.5784 - val_loss: 1.7087 - val_accuracy: 0.5760\n",
      "Epoch 19/70\n",
      "40/40 [==============================] - 2s 38ms/step - loss: 1.6632 - accuracy: 0.5764 - val_loss: 1.7935 - val_accuracy: 0.5568\n",
      "Epoch 20/70\n",
      "40/40 [==============================] - 2s 38ms/step - loss: 1.7795 - accuracy: 0.5548 - val_loss: 1.7364 - val_accuracy: 0.5872\n",
      "Epoch 21/70\n",
      "40/40 [==============================] - 2s 38ms/step - loss: 1.6318 - accuracy: 0.5832 - val_loss: 1.6587 - val_accuracy: 0.5872\n",
      "Epoch 22/70\n",
      "40/40 [==============================] - 2s 38ms/step - loss: 1.5656 - accuracy: 0.5904 - val_loss: 1.6090 - val_accuracy: 0.6000\n",
      "Epoch 23/70\n",
      "40/40 [==============================] - 2s 38ms/step - loss: 1.5471 - accuracy: 0.5984 - val_loss: 1.6401 - val_accuracy: 0.6048\n",
      "Epoch 24/70\n",
      "40/40 [==============================] - 2s 39ms/step - loss: 1.5173 - accuracy: 0.5948 - val_loss: 1.5888 - val_accuracy: 0.6096\n",
      "Epoch 25/70\n",
      "40/40 [==============================] - 2s 38ms/step - loss: 1.4746 - accuracy: 0.5984 - val_loss: 1.5684 - val_accuracy: 0.6080\n",
      "Epoch 26/70\n",
      "40/40 [==============================] - 2s 38ms/step - loss: 1.4964 - accuracy: 0.6008 - val_loss: 1.5661 - val_accuracy: 0.6096\n",
      "Epoch 27/70\n",
      "40/40 [==============================] - 2s 38ms/step - loss: 1.4151 - accuracy: 0.6152 - val_loss: 1.6034 - val_accuracy: 0.5904\n",
      "Epoch 28/70\n",
      "40/40 [==============================] - 2s 38ms/step - loss: 1.3881 - accuracy: 0.6196 - val_loss: 1.5192 - val_accuracy: 0.6256\n",
      "Epoch 29/70\n",
      "40/40 [==============================] - 2s 39ms/step - loss: 1.4460 - accuracy: 0.6084 - val_loss: 1.4852 - val_accuracy: 0.6112\n",
      "Epoch 30/70\n",
      "40/40 [==============================] - 2s 38ms/step - loss: 1.3451 - accuracy: 0.6240 - val_loss: 1.5347 - val_accuracy: 0.6080\n",
      "Epoch 31/70\n",
      "40/40 [==============================] - 2s 38ms/step - loss: 1.3309 - accuracy: 0.6228 - val_loss: 1.4935 - val_accuracy: 0.6144\n",
      "Epoch 32/70\n",
      "40/40 [==============================] - 2s 39ms/step - loss: 1.2881 - accuracy: 0.6396 - val_loss: 1.4703 - val_accuracy: 0.6144\n",
      "Epoch 33/70\n",
      "40/40 [==============================] - 2s 38ms/step - loss: 1.2503 - accuracy: 0.6500 - val_loss: 1.5548 - val_accuracy: 0.6032\n",
      "Epoch 34/70\n",
      "40/40 [==============================] - 2s 38ms/step - loss: 1.4009 - accuracy: 0.6240 - val_loss: 1.5381 - val_accuracy: 0.6288\n",
      "Epoch 35/70\n",
      "40/40 [==============================] - 2s 38ms/step - loss: 1.2287 - accuracy: 0.6404 - val_loss: 1.6236 - val_accuracy: 0.6320\n",
      "Epoch 36/70\n",
      "40/40 [==============================] - 2s 38ms/step - loss: 1.1742 - accuracy: 0.6612 - val_loss: 1.4673 - val_accuracy: 0.6160\n",
      "Epoch 37/70\n",
      "40/40 [==============================] - 2s 38ms/step - loss: 1.1784 - accuracy: 0.6548 - val_loss: 1.4818 - val_accuracy: 0.6368\n",
      "Epoch 38/70\n",
      "40/40 [==============================] - 2s 38ms/step - loss: 1.1081 - accuracy: 0.6848 - val_loss: 1.4331 - val_accuracy: 0.6384\n",
      "Epoch 39/70\n",
      "40/40 [==============================] - 2s 38ms/step - loss: 1.0929 - accuracy: 0.6832 - val_loss: 1.4416 - val_accuracy: 0.6384\n",
      "Epoch 40/70\n",
      "40/40 [==============================] - 2s 39ms/step - loss: 1.0884 - accuracy: 0.6768 - val_loss: 1.4550 - val_accuracy: 0.6544\n",
      "Epoch 41/70\n",
      "40/40 [==============================] - 2s 38ms/step - loss: 1.0512 - accuracy: 0.6856 - val_loss: 1.4213 - val_accuracy: 0.6464\n",
      "Epoch 42/70\n",
      "40/40 [==============================] - 2s 38ms/step - loss: 1.0858 - accuracy: 0.6808 - val_loss: 1.4783 - val_accuracy: 0.6592\n",
      "Epoch 43/70\n",
      "40/40 [==============================] - 2s 38ms/step - loss: 1.0118 - accuracy: 0.6964 - val_loss: 1.4251 - val_accuracy: 0.6672\n",
      "Epoch 44/70\n",
      "40/40 [==============================] - 2s 38ms/step - loss: 0.9262 - accuracy: 0.7196 - val_loss: 1.4341 - val_accuracy: 0.6560\n",
      "Epoch 45/70\n",
      "40/40 [==============================] - 2s 39ms/step - loss: 0.9860 - accuracy: 0.7000 - val_loss: 1.3499 - val_accuracy: 0.6592\n",
      "Epoch 46/70\n",
      "40/40 [==============================] - 2s 38ms/step - loss: 0.9206 - accuracy: 0.7248 - val_loss: 1.6665 - val_accuracy: 0.5808\n",
      "Epoch 47/70\n",
      "40/40 [==============================] - 2s 38ms/step - loss: 1.0614 - accuracy: 0.6984 - val_loss: 1.4237 - val_accuracy: 0.6592\n",
      "Epoch 48/70\n",
      "40/40 [==============================] - 2s 38ms/step - loss: 0.9075 - accuracy: 0.7256 - val_loss: 1.3977 - val_accuracy: 0.6720\n",
      "Epoch 49/70\n",
      "40/40 [==============================] - 2s 38ms/step - loss: 0.8857 - accuracy: 0.7316 - val_loss: 1.4405 - val_accuracy: 0.6736\n",
      "\n",
      "Epoch 00049: ReduceLROnPlateau reducing learning rate to 0.0005000000237487257.\n",
      "Epoch 50/70\n",
      "40/40 [==============================] - 2s 38ms/step - loss: 0.7732 - accuracy: 0.7616 - val_loss: 1.4599 - val_accuracy: 0.6656\n",
      "Epoch 51/70\n",
      "40/40 [==============================] - 2s 38ms/step - loss: 0.7462 - accuracy: 0.7636 - val_loss: 1.4544 - val_accuracy: 0.6704\n",
      "Epoch 52/70\n",
      "40/40 [==============================] - 2s 38ms/step - loss: 0.6981 - accuracy: 0.7804 - val_loss: 1.4606 - val_accuracy: 0.6832\n",
      "Epoch 53/70\n",
      "40/40 [==============================] - 2s 38ms/step - loss: 0.6807 - accuracy: 0.7848 - val_loss: 1.5512 - val_accuracy: 0.6880\n",
      "\n",
      "Epoch 00053: ReduceLROnPlateau reducing learning rate to 0.0002500000118743628.\n",
      "Epoch 54/70\n",
      "40/40 [==============================] - 2s 38ms/step - loss: 0.6414 - accuracy: 0.7996 - val_loss: 1.5015 - val_accuracy: 0.6896\n",
      "Epoch 55/70\n",
      "40/40 [==============================] - 2s 38ms/step - loss: 0.6426 - accuracy: 0.7956 - val_loss: 1.5143 - val_accuracy: 0.6832\n"
     ]
    }
   ],
   "source": [
    "skf = StratifiedKFold(n_splits = 10, random_state = 123, shuffle = True)\n",
    "reLR = ReduceLROnPlateau(patience = 4,verbose = 1,factor = 0.5) \n",
    "es =EarlyStopping(monitor='val_loss', patience=10, mode='min')\n",
    "\n",
    "\n",
    "\n",
    "history = model.fit(X, y, epochs = 70, verbose=1, batch_size=64, validation_split = 0.2, callbacks=[es,reLR])\n",
    "\n"
   ]
  },
  {
   "cell_type": "markdown",
   "metadata": {},
   "source": [
    "##### 성능 확인 및 제출"
   ]
  },
  {
   "cell_type": "code",
   "execution_count": 82,
   "metadata": {},
   "outputs": [
    {
     "name": "stdout",
     "output_type": "stream",
     "text": [
      "98/98 [==============================] - 1s 8ms/step - loss: 0.6877 - accuracy: 0.8253\n"
     ]
    },
    {
     "data": {
      "text/plain": [
       "[0.6877084970474243, 0.8252800107002258]"
      ]
     },
     "execution_count": 82,
     "metadata": {},
     "output_type": "execute_result"
    }
   ],
   "source": [
    "# 8. 모델 평가하기\n",
    "model.evaluate(X, y)"
   ]
  },
  {
   "cell_type": "code",
   "execution_count": null,
   "metadata": {},
   "outputs": [],
   "source": [
    "pred = model.predict(test_x)\n",
    "\n",
    "pred"
   ]
  },
  {
   "cell_type": "code",
   "execution_count": null,
   "metadata": {},
   "outputs": [],
   "source": [
    "# submission=pd.read_csv('./data/sample_submission.csv')\n",
    "# submission.iloc[:,1:]=pred\n",
    "# submission"
   ]
  },
  {
   "cell_type": "code",
   "execution_count": null,
   "metadata": {},
   "outputs": [],
   "source": [
    "# submission.to_csv('sub_kfold_stratified_10_adam_fft_0.5.csv',index=False)"
   ]
  },
  {
   "cell_type": "code",
   "execution_count": null,
   "metadata": {},
   "outputs": [],
   "source": []
  }
 ],
 "metadata": {
  "kernelspec": {
   "display_name": "py38_tensorflow",
   "language": "python",
   "name": "conda-env-py38_tensorflow-py"
  },
  "language_info": {
   "codemirror_mode": {
    "name": "ipython",
    "version": 3
   },
   "file_extension": ".py",
   "mimetype": "text/x-python",
   "name": "python",
   "nbconvert_exporter": "python",
   "pygments_lexer": "ipython3",
   "version": "3.8.10"
  }
 },
 "nbformat": 4,
 "nbformat_minor": 4
}
