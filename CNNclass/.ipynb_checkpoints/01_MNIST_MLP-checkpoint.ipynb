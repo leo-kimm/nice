{
 "cells": [
  {
   "cell_type": "markdown",
   "metadata": {},
   "source": [
    "### 딥-러닝 과정 CNN "
   ]
  },
  {
   "cell_type": "markdown",
   "metadata": {
    "id": "0EA1u4vCXxyz"
   },
   "source": [
    "### 첫번째 실습. Keras 모델 생성/학습 - MNIST : MLP\n",
    "[Keras Dataset](https://keras.io/ko/datasets/#mnist)"
   ]
  },
  {
   "cell_type": "code",
   "execution_count": null,
   "metadata": {
    "id": "9TIg2lB4Xxy2"
   },
   "outputs": [],
   "source": [
    "# 1. 데이터 불러오기\n"
   ]
  },
  {
   "cell_type": "code",
   "execution_count": null,
   "metadata": {
    "id": "MmGb35gTXxzD"
   },
   "outputs": [],
   "source": [
    "# 2. 이미지 데이터 확인하기 🖼\n"
   ]
  },
  {
   "cell_type": "code",
   "execution_count": null,
   "metadata": {
    "id": "nosoxNNjXxzP"
   },
   "outputs": [],
   "source": [
    "# 3-1. 이미지 데이터 전처리 : 2차원->1차원 🌟🌟🌟\n"
   ]
  },
  {
   "cell_type": "code",
   "execution_count": null,
   "metadata": {
    "id": "YfiCskEHXxzT"
   },
   "outputs": [],
   "source": [
    "# 3-2. 이미지 데이터 전처리 : Normalzation \n"
   ]
  },
  {
   "cell_type": "code",
   "execution_count": null,
   "metadata": {
    "id": "TKtO7TUoXxzX"
   },
   "outputs": [],
   "source": [
    "# 4. Label 전처리 (one-hot encoding) \n"
   ]
  },
  {
   "cell_type": "code",
   "execution_count": null,
   "metadata": {
    "id": "rbn2UpioXxzc"
   },
   "outputs": [],
   "source": [
    "# 5. 모델 생성 : MLP\n"
   ]
  },
  {
   "cell_type": "code",
   "execution_count": null,
   "metadata": {
    "id": "octZbMRKXxzf"
   },
   "outputs": [],
   "source": [
    "# 6. Compile - Optimizer, Loss function 설정\n"
   ]
  },
  {
   "cell_type": "code",
   "execution_count": null,
   "metadata": {
    "id": "FnZlXtfUXxzj"
   },
   "outputs": [],
   "source": [
    "# 7. 모델 학습시키기\n"
   ]
  },
  {
   "cell_type": "code",
   "execution_count": null,
   "metadata": {
    "id": "pgYRoXaJXxzn"
   },
   "outputs": [],
   "source": [
    "# 8. 모델 평가하기\n"
   ]
  },
  {
   "cell_type": "code",
   "execution_count": null,
   "metadata": {
    "id": "G7kPGgJEXxzv"
   },
   "outputs": [],
   "source": [
    "# 9. 학습 시각화하기\n"
   ]
  },
  {
   "cell_type": "code",
   "execution_count": null,
   "metadata": {
    "id": "FLhicf8aXxzr"
   },
   "outputs": [],
   "source": [
    "# 10. 이미지를 랜덤으로 선택해 훈련된 모델로 예측 🖼\n"
   ]
  }
 ],
 "metadata": {
  "colab": {
   "collapsed_sections": [],
   "name": "01.MNIST_MLP.ipynb",
   "provenance": []
  },
  "kernelspec": {
   "display_name": "py38_tensorflow",
   "language": "python",
   "name": "conda-env-py38_tensorflow-py"
  },
  "language_info": {
   "codemirror_mode": {
    "name": "ipython",
    "version": 3
   },
   "file_extension": ".py",
   "mimetype": "text/x-python",
   "name": "python",
   "nbconvert_exporter": "python",
   "pygments_lexer": "ipython3",
   "version": "3.8.8"
  }
 },
 "nbformat": 4,
 "nbformat_minor": 1
}
