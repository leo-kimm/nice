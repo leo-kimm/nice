{
  "cells": [
    {
      "cell_type": "code",
      "execution_count": null,
      "metadata": {
        "collapsed": false
      },
      "outputs": [],
      "source": [
        "%matplotlib inline"
      ]
    },
    {
      "cell_type": "markdown",
      "metadata": {},
      "source": [
        "\n# PyTorch Profiler With TensorBoard\nThis tutorial demonstrates how to use TensorBoard plugin with PyTorch Profiler\nto detect performance bottlenecks of the model.\n\n## Introduction\nPyTorch 1.8 includes an updated profiler API capable of \nrecording the CPU side operations as well as the CUDA kernel launches on the GPU side.\nThe profiler can visualize this information\nin TensorBoard Plugin and provide analysis of the performance bottlenecks.\n\nIn this tutorial, we will use a simple Resnet model to demonstrate how to\nuse TensorBoard plugin to analyze model performance.\n\n## Setup\nTo install ``torch`` and ``torchvision`` use the following command:\n\n::\n\n   pip install torch torchvision\n"
      ]
    },
    {
      "cell_type": "markdown",
      "metadata": {},
      "source": [
        "## Steps\n\n1. Prepare the data and model\n2. Use profiler to record execution events\n3. Run the profiler\n4. Use TensorBoard to view results and analyze performance\n5. Improve performance with the help of profiler\n\n### 1. Prepare the data and model\n\nFirst, import all necessary libraries:\n\n\n"
      ]
    },
    {
      "cell_type": "code",
      "execution_count": null,
      "metadata": {
        "collapsed": false
      },
      "outputs": [],
      "source": [
        "import torch\nimport torch.nn\nimport torch.optim\nimport torch.profiler\nimport torch.utils.data\nimport torchvision.datasets\nimport torchvision.models\nimport torchvision.transforms as T"
      ]
    },
    {
      "cell_type": "markdown",
      "metadata": {},
      "source": [
        "Then prepare the input data. For this tutorial, we use the CIFAR10 dataset.\nTransform it to the desired format and use DataLoader to load each batch.\n\n"
      ]
    },
    {
      "cell_type": "code",
      "execution_count": null,
      "metadata": {
        "collapsed": false
      },
      "outputs": [],
      "source": [
        "transform = T.Compose(\n    [T.Resize(224),\n     T.ToTensor(),\n     T.Normalize((0.5, 0.5, 0.5), (0.5, 0.5, 0.5))])\ntrain_set = torchvision.datasets.CIFAR10(root='./data', train=True, download=True, transform=transform)\ntrain_loader = torch.utils.data.DataLoader(train_set, batch_size=32, shuffle=True)"
      ]
    },
    {
      "cell_type": "markdown",
      "metadata": {},
      "source": [
        "Next, create Resnet model, loss function, and optimizer objects.\nTo run on GPU, move model and loss to GPU device.\n\n"
      ]
    },
    {
      "cell_type": "code",
      "execution_count": null,
      "metadata": {
        "collapsed": false
      },
      "outputs": [],
      "source": [
        "device = torch.device(\"cuda:0\")\nmodel = torchvision.models.resnet18(pretrained=True).cuda(device)\ncriterion = torch.nn.CrossEntropyLoss().cuda(device)\noptimizer = torch.optim.SGD(model.parameters(), lr=0.001, momentum=0.9)\nmodel.train()"
      ]
    },
    {
      "cell_type": "markdown",
      "metadata": {},
      "source": [
        "Define the training step for each batch of input data.\n\n"
      ]
    },
    {
      "cell_type": "code",
      "execution_count": null,
      "metadata": {
        "collapsed": false
      },
      "outputs": [],
      "source": [
        "def train(data):\n    inputs, labels = data[0].to(device=device), data[1].to(device=device)\n    outputs = model(inputs)\n    loss = criterion(outputs, labels)\n    optimizer.zero_grad()\n    loss.backward()\n    optimizer.step()"
      ]
    },
    {
      "cell_type": "markdown",
      "metadata": {},
      "source": [
        "### 2. Use profiler to record execution events\n\nThe profiler is enabled through the context manager and accepts several parameters,\nsome of the most useful are:\n\n- ``schedule`` - callable that takes step (int) as a single parameter\n  and returns the profiler action to perform at each step;\n  In this example with ``wait=1, warmup=1, active=5``,\n  profiler will skip the first step/iteration,\n  start warming up on the second,\n  record the following five iterations,\n  after which the trace will become available and on_trace_ready (when set) is called;\n  The cycle repeats starting with the next step until the loop exits.\n  During ``wait`` steps, the profiler does not work.\n  During ``warmup`` steps, the profiler starts profiling as warmup but does not record any events.\n  This is for reducing the profiling overhead.\n  The overhead at the beginning of profiling is high and easy to bring skew to the profiling result.\n  During ``active`` steps, the profiler works and records events.\n- ``on_trace_ready`` - callable that is called at the end of each cycle;\n  In this example we use ``torch.profiler.tensorboard_trace_handler`` to generate result files for TensorBoard.\n  After profiling, result files will be saved into the ``./log/resnet18`` directory.\n  Specify this directory as a ``logdir`` parameter to analyze profile in TensorBoard.\n- ``record_shapes`` - whether to record shapes of the operator inputs.\n\n"
      ]
    },
    {
      "cell_type": "code",
      "execution_count": null,
      "metadata": {
        "collapsed": false
      },
      "outputs": [],
      "source": [
        "with torch.profiler.profile(\n        schedule=torch.profiler.schedule(wait=1, warmup=1, active=5),\n        on_trace_ready=torch.profiler.tensorboard_trace_handler('./log/resnet18'),\n        record_shapes=True\n) as prof:\n    for step, batch_data in enumerate(train_loader):\n        if step >= 7:\n            break\n        train(batch_data)\n        prof.step()  # Need call this at the end of each step to notify profiler of steps' boundary."
      ]
    },
    {
      "cell_type": "markdown",
      "metadata": {},
      "source": [
        "### 3. Run the profiler\n\nRun the above code. The profiling result will be saved under ``./log`` directory.\n\n"
      ]
    },
    {
      "cell_type": "markdown",
      "metadata": {},
      "source": [
        "### 4. Use TensorBoard to view results and analyze performance\n\nInstall PyTorch Profiler TensorBoard Plugin.\n\n::\n\n    pip install torch_tb_profiler\n\n\n"
      ]
    },
    {
      "cell_type": "markdown",
      "metadata": {},
      "source": [
        "Launch the TensorBoard.\n\n::\n\n    tensorboard --logdir=./log\n\n\n"
      ]
    },
    {
      "cell_type": "markdown",
      "metadata": {},
      "source": [
        "Open the TensorBoard profile URL in Google Chrome browser or Microsoft Edge browser.\n\n::\n\n    http://localhost:6006/#pytorch_profiler\n\n\n"
      ]
    },
    {
      "cell_type": "markdown",
      "metadata": {},
      "source": [
        "You could see Profiler plugin page as shown below.\n\n<img src=\"file://../../_static/img/profiler_overview1.png\" scale=\"25 %\">\n\nThe overview shows a high-level summary of model performance.\n\nThe \"Step Time Breakdown\" shows distribution of time spent in each step over different categories of execution.\nIn this example, you can see the ``DataLoader`` overhead is significant.\n\nThe bottom \"Performance Recommendation\" uses the profiling data\nto automatically highlight likely bottlenecks,\nand gives you actionable optimization suggestions.\n\nYou can change the view page in left \"Views\" dropdown list.\n\n<img src=\"file://../../_static/img/profiler_views_list.png\"\n   :alt:>\n\nThe operator view displays the performance of every PyTorch operator\nthat is executed either on the host or device.\n\nThe GPU kernel view shows all kernels\u2019 time spent on GPU.\n\nThe trace view shows timeline of profiled operators and GPU kernels.\nYou can select it to see details as below.\n\n<img src=\"file://../../_static/img/profiler_trace_view1.png\" scale=\"25 %\">\n\nYou can move the graph and zoom in/out with the help of right side toolbar.\n\nIn this example, we can see the event prefixed with ``enumerate(DataLoader)`` costs a lot of time.\nAnd during most of this period, the GPU is idle.\nBecause this function is loading data and transforming data on host side,\nduring which the GPU resource is wasted.\n\n"
      ]
    },
    {
      "cell_type": "markdown",
      "metadata": {},
      "source": [
        "### 5. Improve performance with the help of profiler\n\nThe PyTorch DataLoader uses single process by default.\nUser could enable multi-process data loading by setting the parameter ``num_workers``.\n`Here <https://pytorch.org/docs/stable/data.html#single-and-multi-process-data-loading>`_ is more details.\n\nIn this example, we can set ``num_workers`` as below,\npass a different name such as ``./log/resnet18_4workers`` to tensorboard_trace_handler, and run it again.\n\n::\n\n    train_loader = torch.utils.data.DataLoader(train_set, batch_size=32, shuffle=True, num_workers=4)\n\n\n"
      ]
    },
    {
      "cell_type": "markdown",
      "metadata": {},
      "source": [
        "Then let\u2019s choose the just profiled run in left \"Runs\" dropdown list.\n\n<img src=\"file://../../_static/img/profiler_overview2.png\" scale=\"25 %\">\n\nFrom the above view, we can find the step time is reduced,\nand the time reduction of ``DataLoader`` mainly contributes.\n\n<img src=\"file://../../_static/img/profiler_trace_view2.png\" scale=\"25 %\">\n\nFrom the above view, we can see that the runtime of ``enumerate(DataLoader)`` is reduced,\nand the GPU utilization is increased.\n\n"
      ]
    },
    {
      "cell_type": "markdown",
      "metadata": {},
      "source": [
        "## Learn More\n\nTake a look at the following documents to continue your learning:\n\n-  `Pytorch TensorBoard Profiler github <https://github.com/pytorch/kineto/tree/master/tb_plugin>`_\n-  `torch.profiler API <https://pytorch.org/docs/master/profiler.html>`_\n\n"
      ]
    }
  ],
  "metadata": {
    "kernelspec": {"display_name": "py38_pytorch", "language": "python", "name": "conda-env-py38_pytorch-py"},
    "language_info": {
      "codemirror_mode": {
        "name": "ipython",
        "version": 3
      },
      "file_extension": ".py",
      "mimetype": "text/x-python",
      "name": "python",
      "nbconvert_exporter": "python",
      "pygments_lexer": "ipython3",
      "version": "3.8.10"
    }
  },
  "nbformat": 4,
  "nbformat_minor": 0
}