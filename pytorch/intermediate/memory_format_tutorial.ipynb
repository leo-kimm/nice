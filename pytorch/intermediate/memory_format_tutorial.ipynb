{
  "cells": [
    {
      "cell_type": "code",
      "execution_count": null,
      "metadata": {
        "collapsed": false
      },
      "outputs": [],
      "source": [
        "%matplotlib inline"
      ]
    },
    {
      "cell_type": "markdown",
      "metadata": {},
      "source": [
        "\n# (beta) Channels Last Memory Format in PyTorch\n**Author**: `Vitaly Fedyunin <https://github.com/VitalyFedyunin>`_\n\n## What is Channels Last\n\nChannels last memory format is an alternative way of ordering NCHW tensors in memory preserving dimensions ordering. Channels last tensors ordered in such a way that channels become the densest dimension (aka storing images pixel-per-pixel).\n\nFor example, classic (contiguous) storage of NCHW tensor (in our case it is two 2x2 images with 3 color channels) look like this:\n\n.. figure:: /_static/img/classic_memory_format.png\n   :alt: classic_memory_format\n\nChannels last memory format orders data differently:\n\n.. figure:: /_static/img/channels_last_memory_format.png\n   :alt: channels_last_memory_format\n\nPytorch supports memory formats (and provides back compatibility with existing models including eager, JIT, and TorchScript) by utilizing  existing strides structure.\nFor example, 10x3x16x16 batch in Channels last format will have strides equal to (768, 1, 48, 3).\n"
      ]
    },
    {
      "cell_type": "markdown",
      "metadata": {},
      "source": [
        "Channels last memory format is implemented for 4D NCWH Tensors only.\n\n\n"
      ]
    },
    {
      "cell_type": "markdown",
      "metadata": {},
      "source": [
        "## Memory Format API\n\nHere is how to convert tensors between contiguous and channels\nlast memory formats.\n\n"
      ]
    },
    {
      "cell_type": "markdown",
      "metadata": {},
      "source": [
        "Classic PyTorch contiguous tensor\n\n"
      ]
    },
    {
      "cell_type": "code",
      "execution_count": null,
      "metadata": {
        "collapsed": false
      },
      "outputs": [],
      "source": [
        "import torch\nN, C, H, W = 10, 3, 32, 32\nx = torch.empty(N, C, H, W)\nprint(x.stride()) # Ouputs: (3072, 1024, 32, 1)"
      ]
    },
    {
      "cell_type": "markdown",
      "metadata": {},
      "source": [
        "Conversion operator\n\n"
      ]
    },
    {
      "cell_type": "code",
      "execution_count": null,
      "metadata": {
        "collapsed": false
      },
      "outputs": [],
      "source": [
        "x = x.to(memory_format=torch.channels_last)\nprint(x.shape) # Outputs: (10, 3, 32, 32) as dimensions order preserved\nprint(x.stride()) # Outputs: (3072, 1, 96, 3)"
      ]
    },
    {
      "cell_type": "markdown",
      "metadata": {},
      "source": [
        "Back to contiguous\n\n"
      ]
    },
    {
      "cell_type": "code",
      "execution_count": null,
      "metadata": {
        "collapsed": false
      },
      "outputs": [],
      "source": [
        "x = x.to(memory_format=torch.contiguous_format)\nprint(x.stride()) # Outputs: (3072, 1024, 32, 1)"
      ]
    },
    {
      "cell_type": "markdown",
      "metadata": {},
      "source": [
        "Alternative option\n\n"
      ]
    },
    {
      "cell_type": "code",
      "execution_count": null,
      "metadata": {
        "collapsed": false
      },
      "outputs": [],
      "source": [
        "x = x.contiguous(memory_format=torch.channels_last)\nprint(x.stride()) # Ouputs: (3072, 1, 96, 3)"
      ]
    },
    {
      "cell_type": "markdown",
      "metadata": {},
      "source": [
        "Format checks\n\n"
      ]
    },
    {
      "cell_type": "code",
      "execution_count": null,
      "metadata": {
        "collapsed": false
      },
      "outputs": [],
      "source": [
        "print(x.is_contiguous(memory_format=torch.channels_last)) # Ouputs: True"
      ]
    },
    {
      "cell_type": "markdown",
      "metadata": {},
      "source": [
        "There are minor difference between the two APIs ``to`` and\n``contiguous``. We suggest to stick with ``to`` when explicitly\nconverting memory format of tensor.\n\nFor general cases the two APIs behave the same. However in special\ncases for a 4D tensor with size ``NCHW`` when either: ``C==1`` or\n``H==1 && W==1``, only ``to`` would generate a proper stride to\nrepresent channels last memory format.\n\nThis is because in either of the two cases above, the memory format\nof a tensor is ambiguous, i.e. a contiguous tensor with size\n``N1HW`` is both ``contiguous`` and channels last in memory storage.\nTherefore, they are already considered as ``is_contiguous``\nfor the given memory format and hence ``contiguous`` call becomes a\nno-op and would not update the stride. On the contrary, ``to``\nwould restride tensor with a meaningful stride on dimensions whose\nsizes are 1 in order to properly represent the intended memory\nformat\n\n"
      ]
    },
    {
      "cell_type": "code",
      "execution_count": null,
      "metadata": {
        "collapsed": false
      },
      "outputs": [],
      "source": [
        "special_x = torch.empty(4, 1, 4, 4)\nprint(special_x.is_contiguous(memory_format=torch.channels_last)) # Ouputs: True\nprint(special_x.is_contiguous(memory_format=torch.contiguous_format)) # Ouputs: True"
      ]
    },
    {
      "cell_type": "markdown",
      "metadata": {},
      "source": [
        "Same thing applies to explicit permutation API ``permute``. In\nspecial case where ambiguity could occur, ``permute`` does not\nguarantee to produce a stride that properly carry the intended\nmemory format. We suggest to use ``to`` with explicit memory format\nto avoid unintended behavior.\n\nAnd a side note that in the extreme case, where three non-batch\ndimensions are all equal to ``1`` (``C==1 && H==1 && W==1``),\ncurrent implementation cannot mark a tensor as channels last memory\nformat.\n\n"
      ]
    },
    {
      "cell_type": "markdown",
      "metadata": {},
      "source": [
        "Create as channels last\n\n"
      ]
    },
    {
      "cell_type": "code",
      "execution_count": null,
      "metadata": {
        "collapsed": false
      },
      "outputs": [],
      "source": [
        "x = torch.empty(N, C, H, W, memory_format=torch.channels_last)\nprint(x.stride()) # Ouputs: (3072, 1, 96, 3)"
      ]
    },
    {
      "cell_type": "markdown",
      "metadata": {},
      "source": [
        "``clone`` preserves memory format\n\n"
      ]
    },
    {
      "cell_type": "code",
      "execution_count": null,
      "metadata": {
        "collapsed": false
      },
      "outputs": [],
      "source": [
        "y = x.clone()\nprint(y.stride()) # Ouputs: (3072, 1, 96, 3)"
      ]
    },
    {
      "cell_type": "markdown",
      "metadata": {},
      "source": [
        "``to``, ``cuda``, ``float`` ... preserves memory format\n\n"
      ]
    },
    {
      "cell_type": "code",
      "execution_count": null,
      "metadata": {
        "collapsed": false
      },
      "outputs": [],
      "source": [
        "if torch.cuda.is_available():\n    y = x.cuda()\n    print(y.stride()) # Ouputs: (3072, 1, 96, 3)"
      ]
    },
    {
      "cell_type": "markdown",
      "metadata": {},
      "source": [
        "``empty_like``, ``*_like`` operators preserves memory format\n\n"
      ]
    },
    {
      "cell_type": "code",
      "execution_count": null,
      "metadata": {
        "collapsed": false
      },
      "outputs": [],
      "source": [
        "y = torch.empty_like(x)\nprint(y.stride()) # Ouputs: (3072, 1, 96, 3)"
      ]
    },
    {
      "cell_type": "markdown",
      "metadata": {},
      "source": [
        "Pointwise operators preserves memory format\n\n"
      ]
    },
    {
      "cell_type": "code",
      "execution_count": null,
      "metadata": {
        "collapsed": false
      },
      "outputs": [],
      "source": [
        "z = x + y\nprint(z.stride()) # Ouputs: (3072, 1, 96, 3)"
      ]
    },
    {
      "cell_type": "markdown",
      "metadata": {},
      "source": [
        "Conv, Batchnorm modules using cudnn backends support channels last\n(only works for CudNN >= 7.6). Convolution modules, unlike binary\np-wise operator, have channels last as the dominating memory format.\nIFF all inputs are in contiguous memory format, the operator\nproduces output in contiguous memory format. Otherwise, output wil\nbe in channels last memroy format.\n\n"
      ]
    },
    {
      "cell_type": "code",
      "execution_count": null,
      "metadata": {
        "collapsed": false
      },
      "outputs": [],
      "source": [
        "if torch.backends.cudnn.version() >= 7603:\n    model = torch.nn.Conv2d(8, 4, 3).cuda().half()\n    model = model.to(memory_format=torch.channels_last) # Module parameters need to be channels last\n\n    input = torch.randint(1, 10, (2, 8, 4, 4), dtype=torch.float32, requires_grad=True)\n    input = input.to(device=\"cuda\", memory_format=torch.channels_last, dtype=torch.float16)\n\n    out = model(input)\n    print(out.is_contiguous(memory_format=torch.channels_last)) # Ouputs: True"
      ]
    },
    {
      "cell_type": "markdown",
      "metadata": {},
      "source": [
        "When input tensor reaches a operator without channels last support,\na permutation should automatically apply in the kernel to restore\ncontiguous on input tensor. This introduces overhead and stops the\nchannels last memory format propagation. Nevertheless, it guarantees\ncorrect output.\n\n"
      ]
    },
    {
      "cell_type": "markdown",
      "metadata": {},
      "source": [
        "## Performance Gains\nThe most significant performance gains are observed on NVidia's\nhardware with Tensor Cores support running on reduced precision\n(``torch.float16``).\nWe were able to archive over 22% perf gains with channels last\ncomparing to contiguous format, both while utilizing\n'AMP (Automated Mixed Precision)' training scripts.\nOur scripts uses AMP supplied by NVidia\nhttps://github.com/NVIDIA/apex.\n\n``python main_amp.py -a resnet50 --b 200 --workers 16 --opt-level O2  ./data``\n\n"
      ]
    },
    {
      "cell_type": "code",
      "execution_count": null,
      "metadata": {
        "collapsed": false
      },
      "outputs": [],
      "source": [
        "# opt_level = O2\n# keep_batchnorm_fp32 = None <class 'NoneType'>\n# loss_scale = None <class 'NoneType'>\n# CUDNN VERSION: 7603\n# => creating model 'resnet50'\n# Selected optimization level O2:  FP16 training with FP32 batchnorm and FP32 master weights.\n# Defaults for this optimization level are:\n# enabled                : True\n# opt_level              : O2\n# cast_model_type        : torch.float16\n# patch_torch_functions  : False\n# keep_batchnorm_fp32    : True\n# master_weights         : True\n# loss_scale             : dynamic\n# Processing user overrides (additional kwargs that are not None)...\n# After processing overrides, optimization options are:\n# enabled                : True\n# opt_level              : O2\n# cast_model_type        : torch.float16\n# patch_torch_functions  : False\n# keep_batchnorm_fp32    : True\n# master_weights         : True\n# loss_scale             : dynamic\n# Epoch: [0][10/125] Time 0.866 (0.866) Speed 230.949 (230.949) Loss 0.6735125184 (0.6735) Prec@1 61.000 (61.000) Prec@5 100.000 (100.000)\n# Epoch: [0][20/125] Time 0.259 (0.562) Speed 773.481 (355.693) Loss 0.6968704462 (0.6852) Prec@1 55.000 (58.000) Prec@5 100.000 (100.000)\n# Epoch: [0][30/125] Time 0.258 (0.461) Speed 775.089 (433.965) Loss 0.7877287269 (0.7194) Prec@1 51.500 (55.833) Prec@5 100.000 (100.000)\n# Epoch: [0][40/125] Time 0.259 (0.410) Speed 771.710 (487.281) Loss 0.8285319805 (0.7467) Prec@1 48.500 (54.000) Prec@5 100.000 (100.000)\n# Epoch: [0][50/125] Time 0.260 (0.380) Speed 770.090 (525.908) Loss 0.7370464802 (0.7447) Prec@1 56.500 (54.500) Prec@5 100.000 (100.000)\n# Epoch: [0][60/125] Time 0.258 (0.360) Speed 775.623 (555.728) Loss 0.7592862844 (0.7472) Prec@1 51.000 (53.917) Prec@5 100.000 (100.000)\n# Epoch: [0][70/125] Time 0.258 (0.345) Speed 774.746 (579.115) Loss 1.9698858261 (0.9218) Prec@1 49.500 (53.286) Prec@5 100.000 (100.000)\n# Epoch: [0][80/125] Time 0.260 (0.335) Speed 770.324 (597.659) Loss 2.2505953312 (1.0879) Prec@1 50.500 (52.938) Prec@5 100.000 (100.000)"
      ]
    },
    {
      "cell_type": "markdown",
      "metadata": {},
      "source": [
        "Passing ``--channels-last true`` allows running a model in Channels last format with observed 22% perf gain.\n\n``python main_amp.py -a resnet50 --b 200 --workers 16 --opt-level O2 --channels-last true ./data``\n\n"
      ]
    },
    {
      "cell_type": "code",
      "execution_count": null,
      "metadata": {
        "collapsed": false
      },
      "outputs": [],
      "source": [
        "# opt_level = O2\n# keep_batchnorm_fp32 = None <class 'NoneType'>\n# loss_scale = None <class 'NoneType'>\n#\n# CUDNN VERSION: 7603\n#\n# => creating model 'resnet50'\n# Selected optimization level O2:  FP16 training with FP32 batchnorm and FP32 master weights.\n#\n# Defaults for this optimization level are:\n# enabled                : True\n# opt_level              : O2\n# cast_model_type        : torch.float16\n# patch_torch_functions  : False\n# keep_batchnorm_fp32    : True\n# master_weights         : True\n# loss_scale             : dynamic\n# Processing user overrides (additional kwargs that are not None)...\n# After processing overrides, optimization options are:\n# enabled                : True\n# opt_level              : O2\n# cast_model_type        : torch.float16\n# patch_torch_functions  : False\n# keep_batchnorm_fp32    : True\n# master_weights         : True\n# loss_scale             : dynamic\n#\n# Epoch: [0][10/125] Time 0.767 (0.767) Speed 260.785 (260.785) Loss 0.7579724789 (0.7580) Prec@1 53.500 (53.500) Prec@5 100.000 (100.000)\n# Epoch: [0][20/125] Time 0.198 (0.482) Speed 1012.135 (414.716) Loss 0.7007197738 (0.7293) Prec@1 49.000 (51.250) Prec@5 100.000 (100.000)\n# Epoch: [0][30/125] Time 0.198 (0.387) Speed 1010.977 (516.198) Loss 0.7113101482 (0.7233) Prec@1 55.500 (52.667) Prec@5 100.000 (100.000)\n# Epoch: [0][40/125] Time 0.197 (0.340) Speed 1013.023 (588.333) Loss 0.8943189979 (0.7661) Prec@1 54.000 (53.000) Prec@5 100.000 (100.000)\n# Epoch: [0][50/125] Time 0.198 (0.312) Speed 1010.541 (641.977) Loss 1.7113249302 (0.9551) Prec@1 51.000 (52.600) Prec@5 100.000 (100.000)\n# Epoch: [0][60/125] Time 0.198 (0.293) Speed 1011.163 (683.574) Loss 5.8537774086 (1.7716) Prec@1 50.500 (52.250) Prec@5 100.000 (100.000)\n# Epoch: [0][70/125] Time 0.198 (0.279) Speed 1011.453 (716.767) Loss 5.7595844269 (2.3413) Prec@1 46.500 (51.429) Prec@5 100.000 (100.000)\n# Epoch: [0][80/125] Time 0.198 (0.269) Speed 1011.827 (743.883) Loss 2.8196096420 (2.4011) Prec@1 47.500 (50.938) Prec@5 100.000 (100.000)"
      ]
    },
    {
      "cell_type": "markdown",
      "metadata": {},
      "source": [
        "The following list of models has the full support of Channels last and showing 8%-35% perf gains on Volta devices:\n``alexnet``, ``mnasnet0_5``, ``mnasnet0_75``, ``mnasnet1_0``, ``mnasnet1_3``, ``mobilenet_v2``, ``resnet101``, ``resnet152``, ``resnet18``, ``resnet34``, ``resnet50``, ``resnext50_32x4d``, ``shufflenet_v2_x0_5``, ``shufflenet_v2_x1_0``, ``shufflenet_v2_x1_5``, ``shufflenet_v2_x2_0``, ``squeezenet1_0``, ``squeezenet1_1``, ``vgg11``, ``vgg11_bn``, ``vgg13``, ``vgg13_bn``, ``vgg16``, ``vgg16_bn``, ``vgg19``, ``vgg19_bn``, ``wide_resnet101_2``, ``wide_resnet50_2``\n\n\n"
      ]
    },
    {
      "cell_type": "markdown",
      "metadata": {},
      "source": [
        "## Converting existing models\n\nChannels last support is not limited by existing models, as any\nmodel can be converted to channels last and propagate format through\nthe graph as soon as input (or certain weight) is formatted\ncorrectly.\n\n\n"
      ]
    },
    {
      "cell_type": "code",
      "execution_count": null,
      "metadata": {
        "collapsed": false
      },
      "outputs": [],
      "source": [
        "# Need to be done once, after model initialization (or load)\nmodel = model.to(memory_format=torch.channels_last) # Replace with your model\n\n# Need to be done for every input\ninput = input.to(memory_format=torch.channels_last) # Replace with your input\noutput = model(input)"
      ]
    },
    {
      "cell_type": "markdown",
      "metadata": {},
      "source": [
        "However, not all operators fully converted to support channels last\n(usually returning contiguous output instead). In the example posted\nabove, layers that does not support channels last will stop the\nmemory format propagation. In spite of that, as we have converted the\nmodel to channels last format, that means each convolution layer,\nwhich has its 4 dimensional weight in channels last memory format,\nwill restore channels last memory format and benefit from faster\nkernels.\n\nBut operatos that does not support channels last does introduce\noverhead by permutation. Optionally, you can investigate and identify\noperatos in your model that does not support channels last, if you\nwant to improve the performance of converted model.\n\nThat means you need to verify the list of used operators \nagainst supported operators list https://github.com/pytorch/pytorch/wiki/Operators-with-Channels-Last-support, \nor introduce memory format checks into eager execution mode and run your model.\n\nAfter running the code below, operators will raise an exception if the output of the\noperator doesn't match the memory format of the input.\n\n\n\n"
      ]
    },
    {
      "cell_type": "code",
      "execution_count": null,
      "metadata": {
        "collapsed": false
      },
      "outputs": [],
      "source": [
        "def contains_cl(args):\n    for t in args:\n        if isinstance(t, torch.Tensor):\n            if t.is_contiguous(memory_format=torch.channels_last) and not t.is_contiguous():\n                return True\n        elif isinstance(t, list) or isinstance(t, tuple):\n            if contains_cl(list(t)):\n                return True\n    return False\n\n\ndef print_inputs(args, indent=''):\n    for t in args:\n        if isinstance(t, torch.Tensor):\n            print(indent, t.stride(), t.shape, t.device, t.dtype)\n        elif isinstance(t, list) or isinstance(t, tuple):\n            print(indent, type(t))\n            print_inputs(list(t), indent=indent + '    ')\n        else:\n            print(indent, t)\n\n\ndef check_wrapper(fn):\n    name = fn.__name__\n\n    def check_cl(*args, **kwargs):\n        was_cl = contains_cl(args)\n        try:\n            result = fn(*args, **kwargs)\n        except Exception as e:\n            print(\"`{}` inputs are:\".format(name))\n            print_inputs(args)\n            print('-------------------')\n            raise e\n        failed = False\n        if was_cl:\n            if isinstance(result, torch.Tensor):\n                if result.dim() == 4 and not result.is_contiguous(memory_format=torch.channels_last):\n                    print(\"`{}` got channels_last input, but output is not channels_last:\".format(name),\n                          result.shape, result.stride(), result.device, result.dtype)\n                    failed = True\n        if failed and True:\n            print(\"`{}` inputs are:\".format(name))\n            print_inputs(args)\n            raise Exception(\n                'Operator `{}` lost channels_last property'.format(name))\n        return result\n    return check_cl\n\nold_attrs = dict()\n\ndef attribute(m):\n    old_attrs[m] = dict()\n    for i in dir(m):\n        e = getattr(m, i)\n        exclude_functions = ['is_cuda', 'has_names', 'numel',\n                             'stride', 'Tensor', 'is_contiguous', '__class__']\n        if i not in exclude_functions and not i.startswith('_') and '__call__' in dir(e):\n            try:\n                old_attrs[m][i] = e\n                setattr(m, i, check_wrapper(e))\n            except Exception as e:\n                print(i)\n                print(e)\n\n\nattribute(torch.Tensor)\nattribute(torch.nn.functional)\nattribute(torch)"
      ]
    },
    {
      "cell_type": "markdown",
      "metadata": {},
      "source": [
        "If you found an operator that doesn't support channels last tensors\nand you want to contribute, feel free to use following developers \nguide https://github.com/pytorch/pytorch/wiki/Writing-memory-format-aware-operators.\n\n\n"
      ]
    },
    {
      "cell_type": "markdown",
      "metadata": {},
      "source": [
        "Code below is to recover the attributes of torch.\n\n"
      ]
    },
    {
      "cell_type": "code",
      "execution_count": null,
      "metadata": {
        "collapsed": false
      },
      "outputs": [],
      "source": [
        "for (m, attrs) in old_attrs.items():\n  for (k,v) in attrs.items():\n    setattr(m, k, v)"
      ]
    },
    {
      "cell_type": "markdown",
      "metadata": {},
      "source": [
        "## Work to do\nThere are still many things to do, such as:\n\n- Resolving ambiguity of N1HW and NC11 Tensors;\n- Testing of Distributed Training support;\n- Improving operators coverage.\n\nIf you have feedback and/or suggestions for improvement, please let us\nknow by creating `an issue <https://github.com/pytorch/pytorch/issues>`_.\n\n"
      ]
    }
  ],
  "metadata": {
    "kernelspec": {"display_name": "py38_pytorch", "language": "python", "name": "conda-env-py38_pytorch-py"},
    "language_info": {
      "codemirror_mode": {
        "name": "ipython",
        "version": 3
      },
      "file_extension": ".py",
      "mimetype": "text/x-python",
      "name": "python",
      "nbconvert_exporter": "python",
      "pygments_lexer": "ipython3",
      "version": "3.8.10"
    }
  },
  "nbformat": 4,
  "nbformat_minor": 0
}