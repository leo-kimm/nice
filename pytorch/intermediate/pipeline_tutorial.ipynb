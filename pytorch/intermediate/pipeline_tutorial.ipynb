{
  "cells": [
    {
      "cell_type": "code",
      "execution_count": null,
      "metadata": {
        "collapsed": false
      },
      "outputs": [],
      "source": [
        "%matplotlib inline"
      ]
    },
    {
      "cell_type": "markdown",
      "metadata": {},
      "source": [
        "\n# Training Transformer models using Pipeline Parallelism\n\n**Author**: `Pritam Damania <https://github.com/pritamdamania87>`_\n\nThis tutorial demonstrates how to train a large Transformer model across\nmultiple GPUs using pipeline parallelism. This tutorial is an extension of the\n`Sequence-to-Sequence Modeling with nn.Transformer and TorchText <https://pytorch.org/tutorials/beginner/transformer_tutorial.html>`__ tutorial\nand scales up the same model to demonstrate how pipeline parallelism can be\nused to train Transformer models.\n\nPrerequisites:\n\n    * `Pipeline Parallelism <https://pytorch.org/docs/stable/pipeline.html>`__\n    * `Sequence-to-Sequence Modeling with nn.Transformer and TorchText <https://pytorch.org/tutorials/beginner/transformer_tutorial.html>`__\n"
      ]
    },
    {
      "cell_type": "markdown",
      "metadata": {},
      "source": [
        "## Define the model\n\n\n"
      ]
    },
    {
      "cell_type": "markdown",
      "metadata": {},
      "source": [
        "In this tutorial, we will split a Transformer model across two GPUs and use\npipeline parallelism to train the model. The model is exactly the same model\nused in the `Sequence-to-Sequence Modeling with nn.Transformer and TorchText\n<https://pytorch.org/tutorials/beginner/transformer_tutorial.html>`__ tutorial,\nbut is split into two stages. The largest number of parameters belong to the\n`nn.TransformerEncoder <https://pytorch.org/docs/stable/generated/torch.nn.TransformerEncoder.html>`__ layer.\nThe `nn.TransformerEncoder <https://pytorch.org/docs/stable/generated/torch.nn.TransformerEncoder.html>`__\nitself consists of ``nlayers`` of `nn.TransformerEncoderLayer <https://pytorch.org/docs/stable/generated/torch.nn.TransformerEncoderLayer.html>`__.\nAs a result, our focus is on ``nn.TransformerEncoder`` and we split the model\nsuch that half of the ``nn.TransformerEncoderLayer`` are on one GPU and the\nother half are on another. To do this, we pull out the ``Encoder`` and\n``Decoder`` sections into seperate modules and then build an nn.Sequential\nrepresenting the original Transformer module.\n\n"
      ]
    },
    {
      "cell_type": "code",
      "execution_count": null,
      "metadata": {
        "collapsed": false
      },
      "outputs": [],
      "source": [
        "import sys\nimport math\nimport torch\nimport torch.nn as nn\nimport torch.nn.functional as F\nimport tempfile\nfrom torch.nn import TransformerEncoder, TransformerEncoderLayer\n\nif sys.platform == 'win32':\n    print('Windows platform is not supported for pipeline parallelism')\n    sys.exit(0)\nif torch.cuda.device_count() < 2:\n    print('Need at least two GPU devices for this tutorial')\n    sys.exit(0)\n\nclass Encoder(nn.Module):\n    def __init__(self, ntoken, ninp, dropout=0.5):\n        super(Encoder, self).__init__()\n        self.pos_encoder = PositionalEncoding(ninp, dropout)\n        self.encoder = nn.Embedding(ntoken, ninp)\n        self.ninp = ninp\n        self.init_weights()\n\n    def init_weights(self):\n        initrange = 0.1\n        self.encoder.weight.data.uniform_(-initrange, initrange)\n\n    def forward(self, src):\n        # Need (S, N) format for encoder.\n        src = src.t()\n        src = self.encoder(src) * math.sqrt(self.ninp)\n        return self.pos_encoder(src)\n\nclass Decoder(nn.Module):\n    def __init__(self, ntoken, ninp):\n        super(Decoder, self).__init__()\n        self.decoder = nn.Linear(ninp, ntoken)\n        self.init_weights()\n\n    def init_weights(self):\n        initrange = 0.1\n        self.decoder.bias.data.zero_()\n        self.decoder.weight.data.uniform_(-initrange, initrange)\n\n    def forward(self, inp):\n        # Need batch dimension first for output of pipeline.\n        return self.decoder(inp).permute(1, 0, 2)"
      ]
    },
    {
      "cell_type": "markdown",
      "metadata": {},
      "source": [
        "``PositionalEncoding`` module injects some information about the\nrelative or absolute position of the tokens in the sequence. The\npositional encodings have the same dimension as the embeddings so that\nthe two can be summed. Here, we use ``sine`` and ``cosine`` functions of\ndifferent frequencies.\n\n"
      ]
    },
    {
      "cell_type": "code",
      "execution_count": null,
      "metadata": {
        "collapsed": false
      },
      "outputs": [],
      "source": [
        "class PositionalEncoding(nn.Module):\n\n    def __init__(self, d_model, dropout=0.1, max_len=5000):\n        super(PositionalEncoding, self).__init__()\n        self.dropout = nn.Dropout(p=dropout)\n\n        pe = torch.zeros(max_len, d_model)\n        position = torch.arange(0, max_len, dtype=torch.float).unsqueeze(1)\n        div_term = torch.exp(torch.arange(0, d_model, 2).float() * (-math.log(10000.0) / d_model))\n        pe[:, 0::2] = torch.sin(position * div_term)\n        pe[:, 1::2] = torch.cos(position * div_term)\n        pe = pe.unsqueeze(0).transpose(0, 1)\n        self.register_buffer('pe', pe)\n\n    def forward(self, x):\n        x = x + self.pe[:x.size(0), :]\n        return self.dropout(x)"
      ]
    },
    {
      "cell_type": "markdown",
      "metadata": {},
      "source": [
        "## Load and batch data\n\n\n"
      ]
    },
    {
      "cell_type": "markdown",
      "metadata": {},
      "source": [
        "The training process uses Wikitext-2 dataset from ``torchtext``. The\nvocab object is built based on the train dataset and is used to numericalize\ntokens into tensors. Starting from sequential data, the ``batchify()``\nfunction arranges the dataset into columns, trimming off any tokens remaining\nafter the data has been divided into batches of size ``batch_size``.\nFor instance, with the alphabet as the sequence (total length of 26)\nand a batch size of 4, we would divide the alphabet into 4 sequences of\nlength 6:\n\n\\begin{align}\\begin{bmatrix}\n  \\text{A} & \\text{B} & \\text{C} & \\ldots & \\text{X} & \\text{Y} & \\text{Z}\n  \\end{bmatrix}\n  \\Rightarrow\n  \\begin{bmatrix}\n  \\begin{bmatrix}\\text{A} \\\\ \\text{B} \\\\ \\text{C} \\\\ \\text{D} \\\\ \\text{E} \\\\ \\text{F}\\end{bmatrix} &\n  \\begin{bmatrix}\\text{G} \\\\ \\text{H} \\\\ \\text{I} \\\\ \\text{J} \\\\ \\text{K} \\\\ \\text{L}\\end{bmatrix} &\n  \\begin{bmatrix}\\text{M} \\\\ \\text{N} \\\\ \\text{O} \\\\ \\text{P} \\\\ \\text{Q} \\\\ \\text{R}\\end{bmatrix} &\n  \\begin{bmatrix}\\text{S} \\\\ \\text{T} \\\\ \\text{U} \\\\ \\text{V} \\\\ \\text{W} \\\\ \\text{X}\\end{bmatrix}\n  \\end{bmatrix}\\end{align}\n\nThese columns are treated as independent by the model, which means that\nthe dependence of ``G`` and ``F`` can not be learned, but allows more\nefficient batch processing.\n\n\n"
      ]
    },
    {
      "cell_type": "code",
      "execution_count": null,
      "metadata": {
        "collapsed": false
      },
      "outputs": [],
      "source": [
        "import io\nimport torch\nfrom torchtext.utils import download_from_url, extract_archive\nfrom torchtext.data.utils import get_tokenizer\nfrom torchtext.vocab import build_vocab_from_iterator\n\nurl = 'https://s3.amazonaws.com/research.metamind.io/wikitext/wikitext-2-v1.zip'\ntest_filepath, valid_filepath, train_filepath = extract_archive(download_from_url(url))\ntokenizer = get_tokenizer('basic_english')\nvocab = build_vocab_from_iterator(map(tokenizer,\n                                      iter(io.open(train_filepath,\n                                                   encoding=\"utf8\"))))\n\ndef data_process(raw_text_iter):\n  data = [torch.tensor([vocab[token] for token in tokenizer(item)],\n                       dtype=torch.long) for item in raw_text_iter]\n  return torch.cat(tuple(filter(lambda t: t.numel() > 0, data)))\n\ntrain_data = data_process(iter(io.open(train_filepath, encoding=\"utf8\")))\nval_data = data_process(iter(io.open(valid_filepath, encoding=\"utf8\")))\ntest_data = data_process(iter(io.open(test_filepath, encoding=\"utf8\")))\n\ndevice = torch.device(\"cuda\")\n\ndef batchify(data, bsz):\n    # Divide the dataset into bsz parts.\n    nbatch = data.size(0) // bsz\n    # Trim off any extra elements that wouldn't cleanly fit (remainders).\n    data = data.narrow(0, 0, nbatch * bsz)\n    # Evenly divide the data across the bsz batches.\n    data = data.view(bsz, -1).t().contiguous()\n    return data.to(device)\n\nbatch_size = 20\neval_batch_size = 10\ntrain_data = batchify(train_data, batch_size)\nval_data = batchify(val_data, eval_batch_size)\ntest_data = batchify(test_data, eval_batch_size)"
      ]
    },
    {
      "cell_type": "markdown",
      "metadata": {},
      "source": [
        "### Functions to generate input and target sequence\n\n\n"
      ]
    },
    {
      "cell_type": "markdown",
      "metadata": {},
      "source": [
        "``get_batch()`` function generates the input and target sequence for\nthe transformer model. It subdivides the source data into chunks of\nlength ``bptt``. For the language modeling task, the model needs the\nfollowing words as ``Target``. For example, with a ``bptt`` value of 2,\nwe\u2019d get the following two Variables for ``i`` = 0:\n\n<img src=\"file://../_static/img/transformer_input_target.png\">\n\nIt should be noted that the chunks are along dimension 0, consistent\nwith the ``S`` dimension in the Transformer model. The batch dimension\n``N`` is along dimension 1.\n\n\n"
      ]
    },
    {
      "cell_type": "code",
      "execution_count": null,
      "metadata": {
        "collapsed": false
      },
      "outputs": [],
      "source": [
        "bptt = 35\ndef get_batch(source, i):\n    seq_len = min(bptt, len(source) - 1 - i)\n    data = source[i:i+seq_len]\n    target = source[i+1:i+1+seq_len].view(-1)\n    # Need batch dimension first for pipeline parallelism.\n    return data.t(), target"
      ]
    },
    {
      "cell_type": "markdown",
      "metadata": {},
      "source": [
        "## Model scale and Pipe initialization\n\n\n"
      ]
    },
    {
      "cell_type": "markdown",
      "metadata": {},
      "source": [
        "To demonstrate training large Transformer models using pipeline parallelism,\nwe scale up the Transformer layers appropriately. We use an embedding\ndimension of 4096, hidden size of 4096, 16 attention heads and 12 total\ntransformer layers (``nn.TransformerEncoderLayer``). This creates a model with\n**~1.4 billion** parameters.\n\nWe need to initialize the `RPC Framework <https://pytorch.org/docs/stable/rpc.html>`__\nsince Pipe depends on the RPC framework via `RRef <https://pytorch.org/docs/stable/rpc.html#rref>`__\nwhich allows for future expansion to cross host pipelining. We need to\ninitialize the RPC framework with only a single worker since we're using a\nsingle process to drive multiple GPUs.\n\nThe pipeline is then initialized with 8 transformer layers on one GPU and 8\ntransformer layers on the other GPU.\n\n<div class=\"alert alert-info\"><h4>Note</h4><p>For efficiency purposes we ensure that the ``nn.Sequential`` passed to\n   ``Pipe`` only consists of two elements (corresponding to two GPUs), this\n   allows the Pipe to work with only two partitions and avoid any\n   cross-partition overheads.</p></div>\n\n"
      ]
    },
    {
      "cell_type": "code",
      "execution_count": null,
      "metadata": {
        "collapsed": false
      },
      "outputs": [],
      "source": [
        "ntokens = len(vocab.stoi) # the size of vocabulary\nemsize = 4096 # embedding dimension\nnhid = 4096 # the dimension of the feedforward network model in nn.TransformerEncoder\nnlayers = 12 # the number of nn.TransformerEncoderLayer in nn.TransformerEncoder\nnhead = 16 # the number of heads in the multiheadattention models\ndropout = 0.2 # the dropout value\n\nfrom torch.distributed import rpc\ntmpfile = tempfile.NamedTemporaryFile()\nrpc.init_rpc(\n    name=\"worker\",\n    rank=0,\n    world_size=1,\n    rpc_backend_options=rpc.TensorPipeRpcBackendOptions(\n        init_method=\"file://{}\".format(tmpfile.name),\n        # Specifying _transports and _channels is a workaround and we no longer\n        # will have to specify _transports and _channels for PyTorch\n        # versions >= 1.8.1\n        _transports=[\"ibv\", \"uv\"],\n        _channels=[\"cuda_ipc\", \"cuda_basic\"],\n    )\n)\n\nnum_gpus = 2\npartition_len = ((nlayers - 1) // num_gpus) + 1\n\n# Add encoder in the beginning.\ntmp_list = [Encoder(ntokens, emsize, dropout).cuda(0)]\nmodule_list = []\n\n# Add all the necessary transformer blocks.\nfor i in range(nlayers):\n    transformer_block = TransformerEncoderLayer(emsize, nhead, nhid, dropout)\n    if i != 0 and i % (partition_len) == 0:\n        module_list.append(nn.Sequential(*tmp_list))\n        tmp_list = []\n    device = i // (partition_len)\n    tmp_list.append(transformer_block.to(device))\n\n# Add decoder in the end.\ntmp_list.append(Decoder(ntokens, emsize).cuda(num_gpus - 1))\nmodule_list.append(nn.Sequential(*tmp_list))\n\nfrom torch.distributed.pipeline.sync import Pipe\n\n# Build the pipeline.\nchunks = 8\nmodel = Pipe(torch.nn.Sequential(*module_list), chunks = chunks)\n\n\ndef get_total_params(module: torch.nn.Module):\n    total_params = 0\n    for param in module.parameters():\n        total_params += param.numel()\n    return total_params\n\nprint ('Total parameters in model: {:,}'.format(get_total_params(model)))"
      ]
    },
    {
      "cell_type": "markdown",
      "metadata": {},
      "source": [
        "## Run the model\n\n\n"
      ]
    },
    {
      "cell_type": "markdown",
      "metadata": {},
      "source": [
        "`CrossEntropyLoss <https://pytorch.org/docs/master/nn.html?highlight=crossentropyloss#torch.nn.CrossEntropyLoss>`__\nis applied to track the loss and\n`SGD <https://pytorch.org/docs/master/optim.html?highlight=sgd#torch.optim.SGD>`__\nimplements stochastic gradient descent method as the optimizer. The initial\nlearning rate is set to 5.0. `StepLR <https://pytorch.org/docs/master/optim.html?highlight=steplr#torch.optim.lr_scheduler.StepLR>`__ is\napplied to adjust the learn rate through epochs. During the\ntraining, we use\n`nn.utils.clip_grad_norm\\_ <https://pytorch.org/docs/master/nn.html?highlight=nn%20utils%20clip_grad_norm#torch.nn.utils.clip_grad_norm_>`__\nfunction to scale all the gradient together to prevent exploding.\n\n\n"
      ]
    },
    {
      "cell_type": "code",
      "execution_count": null,
      "metadata": {
        "collapsed": false
      },
      "outputs": [],
      "source": [
        "criterion = nn.CrossEntropyLoss()\nlr = 5.0 # learning rate\noptimizer = torch.optim.SGD(model.parameters(), lr=lr)\nscheduler = torch.optim.lr_scheduler.StepLR(optimizer, 1.0, gamma=0.95)\n\nimport time\ndef train():\n    model.train() # Turn on the train mode\n    total_loss = 0.\n    start_time = time.time()\n    ntokens = len(vocab.stoi)\n\n    # Train only for 50 batches to keep script execution time low.\n    nbatches = min(50 * bptt, train_data.size(0) - 1)\n\n    for batch, i in enumerate(range(0, nbatches, bptt)):\n        data, targets = get_batch(train_data, i)\n        optimizer.zero_grad()\n        # Since the Pipe is only within a single host and process the ``RRef``\n        # returned by forward method is local to this node and can simply\n        # retrieved via ``RRef.local_value()``.\n        output = model(data).local_value()\n        # Need to move targets to the device where the output of the\n        # pipeline resides.\n        loss = criterion(output.view(-1, ntokens), targets.cuda(1))\n        loss.backward()\n        torch.nn.utils.clip_grad_norm_(model.parameters(), 0.5)\n        optimizer.step()\n\n        total_loss += loss.item()\n        log_interval = 10\n        if batch % log_interval == 0 and batch > 0:\n            cur_loss = total_loss / log_interval\n            elapsed = time.time() - start_time\n            print('| epoch {:3d} | {:5d}/{:5d} batches | '\n                  'lr {:02.2f} | ms/batch {:5.2f} | '\n                  'loss {:5.2f} | ppl {:8.2f}'.format(\n                    epoch, batch, nbatches // bptt, scheduler.get_lr()[0],\n                    elapsed * 1000 / log_interval,\n                    cur_loss, math.exp(cur_loss)))\n            total_loss = 0\n            start_time = time.time()\n\ndef evaluate(eval_model, data_source):\n    eval_model.eval() # Turn on the evaluation mode\n    total_loss = 0.\n    ntokens = len(vocab.stoi)\n    # Evaluate only for 50 batches to keep script execution time low.\n    nbatches = min(50 * bptt, data_source.size(0) - 1)\n    with torch.no_grad():\n        for i in range(0, nbatches, bptt):\n            data, targets = get_batch(data_source, i)\n            output = eval_model(data).local_value()\n            output_flat = output.view(-1, ntokens)\n            # Need to move targets to the device where the output of the\n            # pipeline resides.\n            total_loss += len(data) * criterion(output_flat, targets.cuda(1)).item()\n    return total_loss / (len(data_source) - 1)"
      ]
    },
    {
      "cell_type": "markdown",
      "metadata": {},
      "source": [
        "Loop over epochs. Save the model if the validation loss is the best\nwe've seen so far. Adjust the learning rate after each epoch.\n\n"
      ]
    },
    {
      "cell_type": "code",
      "execution_count": null,
      "metadata": {
        "collapsed": false
      },
      "outputs": [],
      "source": [
        "best_val_loss = float(\"inf\")\nepochs = 3 # The number of epochs\nbest_model = None\n\nfor epoch in range(1, epochs + 1):\n    epoch_start_time = time.time()\n    train()\n    val_loss = evaluate(model, val_data)\n    print('-' * 89)\n    print('| end of epoch {:3d} | time: {:5.2f}s | valid loss {:5.2f} | '\n          'valid ppl {:8.2f}'.format(epoch, (time.time() - epoch_start_time),\n                                     val_loss, math.exp(val_loss)))\n    print('-' * 89)\n\n    if val_loss < best_val_loss:\n        best_val_loss = val_loss\n        best_model = model\n\n    scheduler.step()"
      ]
    },
    {
      "cell_type": "markdown",
      "metadata": {},
      "source": [
        "## Evaluate the model with the test dataset\n\n\n"
      ]
    },
    {
      "cell_type": "markdown",
      "metadata": {},
      "source": [
        "Apply the best model to check the result with the test dataset.\n\n"
      ]
    },
    {
      "cell_type": "code",
      "execution_count": null,
      "metadata": {
        "collapsed": false
      },
      "outputs": [],
      "source": [
        "test_loss = evaluate(best_model, test_data)\nprint('=' * 89)\nprint('| End of training | test loss {:5.2f} | test ppl {:8.2f}'.format(\n    test_loss, math.exp(test_loss)))\nprint('=' * 89)"
      ]
    },
    {
      "cell_type": "markdown",
      "metadata": {},
      "source": [
        "## Output\n\n\n"
      ]
    },
    {
      "cell_type": "markdown",
      "metadata": {},
      "source": [
        ".. code-block:: py\n\n   Total parameters in model: 1,847,087,215\n   | epoch   1 |    10/   50 batches | lr 5.00 | ms/batch 2387.45 | loss 42.16 | ppl 2036775646369743616.00\n   | epoch   1 |    20/   50 batches | lr 5.00 | ms/batch 2150.93 | loss 48.24 | ppl 891334049215401558016.00\n   | epoch   1 |    30/   50 batches | lr 5.00 | ms/batch 2155.23 | loss 34.66 | ppl 1125676483188404.62\n   | epoch   1 |    40/   50 batches | lr 5.00 | ms/batch 2158.42 | loss 38.87 | ppl 76287208340888368.00\n   -----------------------------------------------------------------------------------------\n   | end of epoch   1 | time: 119.65s | valid loss  2.95 | valid ppl    19.15\n   -----------------------------------------------------------------------------------------\n   | epoch   2 |    10/   50 batches | lr 4.51 | ms/batch 2376.16 | loss 34.92 | ppl 1458001430957104.00\n   | epoch   2 |    20/   50 batches | lr 4.51 | ms/batch 2160.96 | loss 34.75 | ppl 1232463826541886.50\n   | epoch   2 |    30/   50 batches | lr 4.51 | ms/batch 2160.66 | loss 28.10 | ppl 1599598251136.51\n   | epoch   2 |    40/   50 batches | lr 4.51 | ms/batch 2160.07 | loss 20.25 | ppl 621174306.77\n   -----------------------------------------------------------------------------------------\n   | end of epoch   2 | time: 119.76s | valid loss  0.87 | valid ppl     2.38\n   -----------------------------------------------------------------------------------------\n   | epoch   3 |    10/   50 batches | lr 4.29 | ms/batch 2376.49 | loss 13.20 | ppl 537727.23\n   | epoch   3 |    20/   50 batches | lr 4.29 | ms/batch 2160.12 | loss 10.98 | ppl 58548.58\n   | epoch   3 |    30/   50 batches | lr 4.29 | ms/batch 2160.05 | loss 12.01 | ppl 164152.79\n   | epoch   3 |    40/   50 batches | lr 4.29 | ms/batch 2160.03 | loss 10.63 | ppl 41348.00\n   -----------------------------------------------------------------------------------------\n   | end of epoch   3 | time: 119.76s | valid loss  0.78 | valid ppl     2.17\n   -----------------------------------------------------------------------------------------\n   =========================================================================================\n   | End of training | test loss  0.69 | test ppl     1.99\n   =========================================================================================\n\n"
      ]
    }
  ],
  "metadata": {
    "kernelspec": {"display_name": "py38_pytorch", "language": "python", "name": "conda-env-py38_pytorch-py"},
    "language_info": {
      "codemirror_mode": {
        "name": "ipython",
        "version": 3
      },
      "file_extension": ".py",
      "mimetype": "text/x-python",
      "name": "python",
      "nbconvert_exporter": "python",
      "pygments_lexer": "ipython3",
      "version": "3.8.10"
    }
  },
  "nbformat": 4,
  "nbformat_minor": 0
}