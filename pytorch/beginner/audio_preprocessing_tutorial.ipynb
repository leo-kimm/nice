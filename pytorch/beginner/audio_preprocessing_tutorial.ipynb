{
  "cells": [
    {
      "cell_type": "code",
      "execution_count": null,
      "metadata": {
        "collapsed": false
      },
      "outputs": [],
      "source": [
        "%matplotlib inline"
      ]
    },
    {
      "cell_type": "markdown",
      "metadata": {},
      "source": [
        "\n# Audio manipulation with torchaudio\n\n``torchaudio`` provides powerful audio I/O functions, preprocessing\ntransforms and dataset.\n\nIn this tutorial, we will look into how to prepare audio data and\nextract features that can be fed to NN models.\n"
      ]
    },
    {
      "cell_type": "code",
      "execution_count": null,
      "metadata": {
        "collapsed": false
      },
      "outputs": [],
      "source": [
        "# When running this tutorial in Google Colab, install the required packages\n# with the following.\n# !pip install torchaudio librosa boto3\n\nimport torch\nimport torchaudio\nimport torchaudio.functional as F\nimport torchaudio.transforms as T\n\nprint(torch.__version__)\nprint(torchaudio.__version__)"
      ]
    },
    {
      "cell_type": "markdown",
      "metadata": {},
      "source": [
        "## Preparing data and utility functions (skip this section)\n\n\n"
      ]
    },
    {
      "cell_type": "code",
      "execution_count": null,
      "metadata": {
        "collapsed": false
      },
      "outputs": [],
      "source": [
        "#@title Prepare data and utility functions. {display-mode: \"form\"}\n#@markdown\n#@markdown You do not need to look into this cell.\n#@markdown Just execute once and you are good to go.\n#@markdown\n#@markdown In this tutorial, we will use a speech data from [VOiCES dataset](https://iqtlabs.github.io/voices/), which is licensed under Creative Commos BY 4.0.\n\n#-------------------------------------------------------------------------------\n# Preparation of data and helper functions.\n#-------------------------------------------------------------------------------\nimport io\nimport os\nimport math\nimport tarfile\nimport multiprocessing\n\nimport scipy\nimport librosa\nimport boto3\nfrom botocore import UNSIGNED\nfrom botocore.config import Config\nimport requests\nimport matplotlib\nimport matplotlib.pyplot as plt\nfrom IPython.display import Audio, display\n\n[width, height] = matplotlib.rcParams['figure.figsize']\nif width < 10:\n  matplotlib.rcParams['figure.figsize'] = [width * 2.5, height]\n\n_SAMPLE_DIR = \"_sample_data\"\nSAMPLE_WAV_URL = \"https://pytorch-tutorial-assets.s3.amazonaws.com/steam-train-whistle-daniel_simon.wav\"\nSAMPLE_WAV_PATH = os.path.join(_SAMPLE_DIR, \"steam.wav\")\n\nSAMPLE_WAV_SPEECH_URL = \"https://pytorch-tutorial-assets.s3.amazonaws.com/VOiCES_devkit/source-16k/train/sp0307/Lab41-SRI-VOiCES-src-sp0307-ch127535-sg0042.wav\"\nSAMPLE_WAV_SPEECH_PATH = os.path.join(_SAMPLE_DIR, \"speech.wav\")\n\nSAMPLE_RIR_URL = \"https://pytorch-tutorial-assets.s3.amazonaws.com/VOiCES_devkit/distant-16k/room-response/rm1/impulse/Lab41-SRI-VOiCES-rm1-impulse-mc01-stu-clo.wav\"\nSAMPLE_RIR_PATH = os.path.join(_SAMPLE_DIR, \"rir.wav\")\n\nSAMPLE_NOISE_URL = \"https://pytorch-tutorial-assets.s3.amazonaws.com/VOiCES_devkit/distant-16k/distractors/rm1/babb/Lab41-SRI-VOiCES-rm1-babb-mc01-stu-clo.wav\"\nSAMPLE_NOISE_PATH = os.path.join(_SAMPLE_DIR, \"bg.wav\")\n\nSAMPLE_MP3_URL = \"https://pytorch-tutorial-assets.s3.amazonaws.com/steam-train-whistle-daniel_simon.mp3\"\nSAMPLE_MP3_PATH = os.path.join(_SAMPLE_DIR, \"steam.mp3\")\n\nSAMPLE_GSM_URL = \"https://pytorch-tutorial-assets.s3.amazonaws.com/steam-train-whistle-daniel_simon.gsm\"\nSAMPLE_GSM_PATH = os.path.join(_SAMPLE_DIR, \"steam.gsm\")\n\nSAMPLE_TAR_URL = \"https://pytorch-tutorial-assets.s3.amazonaws.com/VOiCES_devkit.tar.gz\"\nSAMPLE_TAR_PATH = os.path.join(_SAMPLE_DIR, \"sample.tar.gz\")\nSAMPLE_TAR_ITEM = \"VOiCES_devkit/source-16k/train/sp0307/Lab41-SRI-VOiCES-src-sp0307-ch127535-sg0042.wav\"\n\nS3_BUCKET = \"pytorch-tutorial-assets\"\nS3_KEY = \"VOiCES_devkit/source-16k/train/sp0307/Lab41-SRI-VOiCES-src-sp0307-ch127535-sg0042.wav\"\n\nYESNO_DATASET_PATH = os.path.join(_SAMPLE_DIR, \"yes_no\")\nos.makedirs(YESNO_DATASET_PATH, exist_ok=True)\nos.makedirs(_SAMPLE_DIR, exist_ok=True)\n\ndef _fetch_data():\n  uri = [\n    (SAMPLE_WAV_URL, SAMPLE_WAV_PATH),\n    (SAMPLE_WAV_SPEECH_URL, SAMPLE_WAV_SPEECH_PATH),\n    (SAMPLE_RIR_URL, SAMPLE_RIR_PATH),\n    (SAMPLE_NOISE_URL, SAMPLE_NOISE_PATH),\n    (SAMPLE_MP3_URL, SAMPLE_MP3_PATH),\n    (SAMPLE_GSM_URL, SAMPLE_GSM_PATH),\n    (SAMPLE_TAR_URL, SAMPLE_TAR_PATH),\n  ]\n  for url, path in uri:\n    with open(path, 'wb') as file_:\n      file_.write(requests.get(url).content)\n\n_fetch_data()\n\ndef _download_yesno():\n  if os.path.exists(os.path.join(YESNO_DATASET_PATH, \"waves_yesno.tar.gz\")):\n    return\n  torchaudio.datasets.YESNO(root=YESNO_DATASET_PATH, download=True)\n\nYESNO_DOWNLOAD_PROCESS = multiprocessing.Process(target=_download_yesno)\nYESNO_DOWNLOAD_PROCESS.start()\n\ndef _get_sample(path, resample=None):\n  effects = [\n    [\"remix\", \"1\"]\n  ]\n  if resample:\n    effects.append([\"rate\", f'{resample}'])\n  return torchaudio.sox_effects.apply_effects_file(path, effects=effects)\n\ndef get_speech_sample(*, resample=None):\n  return _get_sample(SAMPLE_WAV_SPEECH_PATH, resample=resample)\n\ndef get_sample(*, resample=None):\n  return _get_sample(SAMPLE_WAV_PATH, resample=resample)\n\ndef get_rir_sample(*, resample=None, processed=False):\n  rir_raw, sample_rate = _get_sample(SAMPLE_RIR_PATH, resample=resample)\n  if not processed:\n    return rir_raw, sample_rate\n  rir = rir_raw[:, int(sample_rate*1.01):int(sample_rate*1.3)]\n  rir = rir / torch.norm(rir, p=2)\n  rir = torch.flip(rir, [1])\n  return rir, sample_rate\n\ndef get_noise_sample(*, resample=None):\n  return _get_sample(SAMPLE_NOISE_PATH, resample=resample)\n\ndef print_metadata(metadata, src=None):\n  if src:\n    print(\"-\" * 10)\n    print(\"Source:\", src)\n    print(\"-\" * 10)\n  print(\" - sample_rate:\", metadata.sample_rate)\n  print(\" - num_channels:\", metadata.num_channels)\n  print(\" - num_frames:\", metadata.num_frames)\n  print(\" - bits_per_sample:\", metadata.bits_per_sample)\n  print(\" - encoding:\", metadata.encoding)\n  print()\n\ndef print_stats(waveform, sample_rate=None, src=None):\n  if src:\n    print(\"-\" * 10)\n    print(\"Source:\", src)\n    print(\"-\" * 10)\n  if sample_rate:\n    print(\"Sample Rate:\", sample_rate)\n  print(\"Shape:\", tuple(waveform.shape))\n  print(\"Dtype:\", waveform.dtype)\n  print(f\" - Max:     {waveform.max().item():6.3f}\")\n  print(f\" - Min:     {waveform.min().item():6.3f}\")\n  print(f\" - Mean:    {waveform.mean().item():6.3f}\")\n  print(f\" - Std Dev: {waveform.std().item():6.3f}\")\n  print()\n  print(waveform)\n  print()\n\ndef plot_waveform(waveform, sample_rate, title=\"Waveform\", xlim=None, ylim=None):\n  waveform = waveform.numpy()\n\n  num_channels, num_frames = waveform.shape\n  time_axis = torch.arange(0, num_frames) / sample_rate\n\n  figure, axes = plt.subplots(num_channels, 1)\n  if num_channels == 1:\n    axes = [axes]\n  for c in range(num_channels):\n    axes[c].plot(time_axis, waveform[c], linewidth=1)\n    axes[c].grid(True)\n    if num_channels > 1:\n      axes[c].set_ylabel(f'Channel {c+1}')\n    if xlim:\n      axes[c].set_xlim(xlim)\n    if ylim:\n      axes[c].set_ylim(ylim)\n  figure.suptitle(title)\n  plt.show(block=False)\n\ndef plot_specgram(waveform, sample_rate, title=\"Spectrogram\", xlim=None):\n  waveform = waveform.numpy()\n\n  num_channels, num_frames = waveform.shape\n  time_axis = torch.arange(0, num_frames) / sample_rate\n\n  figure, axes = plt.subplots(num_channels, 1)\n  if num_channels == 1:\n    axes = [axes]\n  for c in range(num_channels):\n    axes[c].specgram(waveform[c], Fs=sample_rate)\n    if num_channels > 1:\n      axes[c].set_ylabel(f'Channel {c+1}')\n    if xlim:\n      axes[c].set_xlim(xlim)\n  figure.suptitle(title)\n  plt.show(block=False)\n\ndef play_audio(waveform, sample_rate):\n  waveform = waveform.numpy()\n\n  num_channels, num_frames = waveform.shape\n  if num_channels == 1:\n    display(Audio(waveform[0], rate=sample_rate))\n  elif num_channels == 2:\n    display(Audio((waveform[0], waveform[1]), rate=sample_rate))\n  else:\n    raise ValueError(\"Waveform with more than 2 channels are not supported.\")\n\ndef inspect_file(path):\n  print(\"-\" * 10)\n  print(\"Source:\", path)\n  print(\"-\" * 10)\n  print(f\" - File size: {os.path.getsize(path)} bytes\")\n  print_metadata(torchaudio.info(path))\n\ndef plot_spectrogram(spec, title=None, ylabel='freq_bin', aspect='auto', xmax=None):\n  fig, axs = plt.subplots(1, 1)\n  axs.set_title(title or 'Spectrogram (db)')\n  axs.set_ylabel(ylabel)\n  axs.set_xlabel('frame')\n  im = axs.imshow(librosa.power_to_db(spec), origin='lower', aspect=aspect)\n  if xmax:\n    axs.set_xlim((0, xmax))\n  fig.colorbar(im, ax=axs)\n  plt.show(block=False)\n\ndef plot_mel_fbank(fbank, title=None):\n  fig, axs = plt.subplots(1, 1)\n  axs.set_title(title or 'Filter bank')\n  axs.imshow(fbank, aspect='auto')\n  axs.set_ylabel('frequency bin')\n  axs.set_xlabel('mel bin')\n  plt.show(block=False)\n\ndef get_spectrogram(\n    n_fft = 400,\n    win_len = None,\n    hop_len = None,\n    power = 2.0,\n):\n  waveform, _ = get_speech_sample()\n  spectrogram = T.Spectrogram(\n      n_fft=n_fft,\n      win_length=win_len,\n      hop_length=hop_len,\n      center=True,\n      pad_mode=\"reflect\",\n      power=power,\n  )\n  return spectrogram(waveform)\n\ndef plot_pitch(waveform, sample_rate, pitch):\n  figure, axis = plt.subplots(1, 1)\n  axis.set_title(\"Pitch Feature\")\n  axis.grid(True)\n\n  end_time = waveform.shape[1] / sample_rate\n  time_axis = torch.linspace(0, end_time,  waveform.shape[1])\n  axis.plot(time_axis, waveform[0], linewidth=1, color='gray', alpha=0.3)\n\n  axis2 = axis.twinx()\n  time_axis = torch.linspace(0, end_time, pitch.shape[1])\n  ln2 = axis2.plot(\n      time_axis, pitch[0], linewidth=2, label='Pitch', color='green')\n\n  axis2.legend(loc=0)\n  plt.show(block=False)\n\ndef plot_kaldi_pitch(waveform, sample_rate, pitch, nfcc):\n  figure, axis = plt.subplots(1, 1)\n  axis.set_title(\"Kaldi Pitch Feature\")\n  axis.grid(True)\n\n  end_time = waveform.shape[1] / sample_rate\n  time_axis = torch.linspace(0, end_time,  waveform.shape[1])\n  axis.plot(time_axis, waveform[0], linewidth=1, color='gray', alpha=0.3)\n\n  time_axis = torch.linspace(0, end_time, pitch.shape[1])\n  ln1 = axis.plot(time_axis, pitch[0], linewidth=2, label='Pitch', color='green')\n  axis.set_ylim((-1.3, 1.3))\n\n  axis2 = axis.twinx()\n  time_axis = torch.linspace(0, end_time, nfcc.shape[1])\n  ln2 = axis2.plot(\n      time_axis, nfcc[0], linewidth=2, label='NFCC', color='blue', linestyle='--')\n\n  lns = ln1 + ln2\n  labels = [l.get_label() for l in lns]\n  axis.legend(lns, labels, loc=0)\n  plt.show(block=False)"
      ]
    },
    {
      "cell_type": "markdown",
      "metadata": {},
      "source": [
        "# Audio I/O\n\ntorchaudio integrates ``libsox`` and provides a rich set of audio I/O.\n\n\n"
      ]
    },
    {
      "cell_type": "markdown",
      "metadata": {},
      "source": [
        "## Quering audio metadata\n\n``torchaudio.info`` function fetches metadata of audio. You can provide\na path-like object or file-like object.\n\n\n"
      ]
    },
    {
      "cell_type": "code",
      "execution_count": null,
      "metadata": {
        "collapsed": false
      },
      "outputs": [],
      "source": [
        "metadata = torchaudio.info(SAMPLE_WAV_PATH)\nprint_metadata(metadata, src=SAMPLE_WAV_PATH)"
      ]
    },
    {
      "cell_type": "markdown",
      "metadata": {},
      "source": [
        "Where\n\n-  ``sample_rate`` is the sampling rate of the audio\n-  ``num_channels`` is the number of channels\n-  ``num_frames`` is the number of frames per channel\n-  ``bits_per_sample`` is bit depth\n-  ``encoding`` is the sample coding format\n\nThe values ``encoding`` can take are one of the following\n\n-  ``\"PCM_S\"``: Signed integer linear PCM\n-  ``\"PCM_U\"``: Unsigned integer linear PCM\n-  ``\"PCM_F\"``: Floating point linear PCM\n-  ``\"FLAC\"``: Flac, `Free Lossless Audio\n   Codec <https://xiph.org/flac/>`__\n-  ``\"ULAW\"``: Mu-law,\n   [`wikipedia <https://en.wikipedia.org/wiki/%CE%9C-law_algorithm>`__]\n-  ``\"ALAW\"``: A-law\n   [`wikipedia <https://en.wikipedia.org/wiki/A-law_algorithm>`__]\n-  ``\"MP3\"`` : MP3, MPEG-1 Audio Layer III\n-  ``\"VORBIS\"``: OGG Vorbis [`xiph.org <https://xiph.org/vorbis/>`__]\n-  ``\"AMR_NB\"``: Adaptive Multi-Rate\n   [`wikipedia <https://en.wikipedia.org/wiki/Adaptive_Multi-Rate_audio_codec>`__]\n-  ``\"AMR_WB\"``: Adaptive Multi-Rate Wideband\n   [`wikipedia <https://en.wikipedia.org/wiki/Adaptive_Multi-Rate_Wideband>`__]\n-  ``\"OPUS\"``: Opus [`opus-codec.org <https://opus-codec.org/>`__]\n-  ``\"GSM\"``: GSM-FR\n   [`wikipedia <https://en.wikipedia.org/wiki/Full_Rate>`__]\n-  ``\"UNKNOWN\"`` None of avobe\n\n\n"
      ]
    },
    {
      "cell_type": "markdown",
      "metadata": {},
      "source": [
        "**Note**\n\n-  ``bits_per_sample`` can be ``0`` for formats with compression and/or\n   variable bit rate. (such as mp3)\n-  ``num_frames`` can be ``0`` for GSM-FR format.\n\n\n"
      ]
    },
    {
      "cell_type": "code",
      "execution_count": null,
      "metadata": {
        "collapsed": false
      },
      "outputs": [],
      "source": [
        "metadata = torchaudio.info(SAMPLE_MP3_PATH)\nprint_metadata(metadata, src=SAMPLE_MP3_PATH)\n\nmetadata = torchaudio.info(SAMPLE_GSM_PATH)\nprint_metadata(metadata, src=SAMPLE_GSM_PATH)"
      ]
    },
    {
      "cell_type": "markdown",
      "metadata": {},
      "source": [
        "### Querying file-like object\n\n``info`` function works on file-like object as well.\n\n\n"
      ]
    },
    {
      "cell_type": "code",
      "execution_count": null,
      "metadata": {
        "collapsed": false
      },
      "outputs": [],
      "source": [
        "with requests.get(SAMPLE_WAV_URL, stream=True) as response:\n  metadata = torchaudio.info(response.raw)\nprint_metadata(metadata, src=SAMPLE_WAV_URL)"
      ]
    },
    {
      "cell_type": "markdown",
      "metadata": {},
      "source": [
        "**Note** When passing file-like object, ``info`` function does not read\nall the data, instead it only reads the beginning portion of data.\nTherefore, depending on the audio format, it cannot get the correct\nmetadata, including the format itself. The following example illustrates\nthis.\n\n-  Use ``format`` argument to tell what audio format it is.\n-  The returned metadata has ``num_frames = 0``\n\n\n"
      ]
    },
    {
      "cell_type": "code",
      "execution_count": null,
      "metadata": {
        "collapsed": false
      },
      "outputs": [],
      "source": [
        "with requests.get(SAMPLE_MP3_URL, stream=True) as response:\n  metadata = torchaudio.info(response.raw, format=\"mp3\")\n\n  print(f\"Fetched {response.raw.tell()} bytes.\")\nprint_metadata(metadata, src=SAMPLE_MP3_URL)"
      ]
    },
    {
      "cell_type": "markdown",
      "metadata": {},
      "source": [
        "## Loading audio data into Tensor\n\nTo load audio data, you can use ``torchaudio.load``.\n\nThis function accepts path-like object and file-like object.\n\nThe returned value is a tuple of waveform (``Tensor``) and sample rate\n(``int``).\n\nBy default, the resulting tensor object has ``dtype=torch.float32`` and\nits value range is normalized within ``[-1.0, 1.0]``.\n\nFor the list of supported format, please refer to `the torchaudio\ndocumentation <https://pytorch.org/audio>`__.\n\n\n"
      ]
    },
    {
      "cell_type": "code",
      "execution_count": null,
      "metadata": {
        "collapsed": false
      },
      "outputs": [],
      "source": [
        "waveform, sample_rate = torchaudio.load(SAMPLE_WAV_SPEECH_PATH)\n\nprint_stats(waveform, sample_rate=sample_rate)\nplot_waveform(waveform, sample_rate)\nplot_specgram(waveform, sample_rate)\nplay_audio(waveform, sample_rate)"
      ]
    },
    {
      "cell_type": "markdown",
      "metadata": {},
      "source": [
        "### Loading from file-like object\n\n``torchaudio``\\ \u2019s I/O functions now support file-like object. This\nallows to fetch audio data and decode at the same time from the location\nother than local file system. The following examples illustrates this.\n\n\n"
      ]
    },
    {
      "cell_type": "code",
      "execution_count": null,
      "metadata": {
        "collapsed": false
      },
      "outputs": [],
      "source": [
        "# Load audio data as HTTP request\nwith requests.get(SAMPLE_WAV_SPEECH_URL, stream=True) as response:\n  waveform, sample_rate = torchaudio.load(response.raw)\nplot_specgram(waveform, sample_rate, title=\"HTTP datasource\")\n\n# Load audio from tar file\nwith tarfile.open(SAMPLE_TAR_PATH, mode='r') as tarfile_:\n  fileobj = tarfile_.extractfile(SAMPLE_TAR_ITEM)\n  waveform, sample_rate = torchaudio.load(fileobj)\nplot_specgram(waveform, sample_rate, title=\"TAR file\")\n\n# Load audio from S3\nclient = boto3.client('s3', config=Config(signature_version=UNSIGNED))\nresponse = client.get_object(Bucket=S3_BUCKET, Key=S3_KEY)\nwaveform, sample_rate = torchaudio.load(response['Body'])\nplot_specgram(waveform, sample_rate, title=\"From S3\")"
      ]
    },
    {
      "cell_type": "markdown",
      "metadata": {},
      "source": [
        "### Tips on slicing\n\nProviding ``num_frames`` and ``frame_offset`` arguments will slice the\nresulting Tensor object while decoding.\n\nThe same result can be achieved using the regular Tensor slicing,\n(i.e.\u00a0``waveform[:, frame_offset:frame_offset+num_frames]``) however,\nproviding ``num_frames`` and ``frame_offset`` arguments is more\nefficient.\n\nThis is because the function will stop data acquisition and decoding\nonce it finishes decoding the requested frames. This is advantageous\nwhen the audio data are transfered via network as the data transfer will\nstop as soon as the necessary amount of data is fetched.\n\nThe following example illustrates this;\n\n\n"
      ]
    },
    {
      "cell_type": "code",
      "execution_count": null,
      "metadata": {
        "collapsed": false
      },
      "outputs": [],
      "source": [
        "# Illustration of two different decoding methods.\n# The first one will fetch all the data and decode them, while\n# the second one will stop fetching data once it completes decoding.\n# The resulting waveforms are identical.\n\nframe_offset, num_frames = 16000, 16000  # Fetch and decode the 1 - 2 seconds\n\nprint(\"Fetching all the data...\")\nwith requests.get(SAMPLE_WAV_SPEECH_URL, stream=True) as response:\n  waveform1, sample_rate1 = torchaudio.load(response.raw)\n  waveform1 = waveform1[:, frame_offset:frame_offset+num_frames]\n  print(f\" - Fetched {response.raw.tell()} bytes\")\n\nprint(\"Fetching until the requested frames are available...\")\nwith requests.get(SAMPLE_WAV_SPEECH_URL, stream=True) as response:\n  waveform2, sample_rate2 = torchaudio.load(\n      response.raw, frame_offset=frame_offset, num_frames=num_frames)\n  print(f\" - Fetched {response.raw.tell()} bytes\")\n\nprint(\"Checking the resulting waveform ... \", end=\"\")\nassert (waveform1 == waveform2).all()\nprint(\"matched!\")"
      ]
    },
    {
      "cell_type": "markdown",
      "metadata": {},
      "source": [
        "## Saving audio to file\n\nTo save audio data in the formats intepretable by common applications,\nyou can use ``torchaudio.save``.\n\nThis function accepts path-like object and file-like object.\n\nWhen passing file-like object, you also need to provide ``format``\nargument so that the function knows which format it should be using. In\ncase of path-like object, the function will detemine the format based on\nthe extension. If you are saving to a file without extension, you need\nto provide ``format`` argument.\n\nWhen saving as WAV format, the default encoding for ``float32`` Tensor\nis 32-bit floating-point PCM. You can provide ``encoding`` and\n``bits_per_sample`` argument to change this. For example, to save data\nin 16 bit signed integer PCM, you can do the following.\n\n**Note** Saving data in encodings with lower bit depth reduces the\nresulting file size but loses precision.\n\n\n"
      ]
    },
    {
      "cell_type": "code",
      "execution_count": null,
      "metadata": {
        "collapsed": false
      },
      "outputs": [],
      "source": [
        "waveform, sample_rate = get_sample()\nprint_stats(waveform, sample_rate=sample_rate)\n\n# Save without any encoding option.\n# The function will pick up the encoding which\n# the provided data fit\npath = \"save_example_default.wav\"\ntorchaudio.save(path, waveform, sample_rate)\ninspect_file(path)\n\n# Save as 16-bit signed integer Linear PCM\n# The resulting file occupies half the storage but loses precision\npath = \"save_example_PCM_S16.wav\"\ntorchaudio.save(\n    path, waveform, sample_rate,\n    encoding=\"PCM_S\", bits_per_sample=16)\ninspect_file(path)"
      ]
    },
    {
      "cell_type": "markdown",
      "metadata": {},
      "source": [
        "``torchaudio.save`` can also handle other formats. To name a few;\n\n\n"
      ]
    },
    {
      "cell_type": "code",
      "execution_count": null,
      "metadata": {
        "collapsed": false
      },
      "outputs": [],
      "source": [
        "waveform, sample_rate = get_sample()\n\nformats = [\n  \"mp3\",\n  \"flac\",\n  \"vorbis\",\n  \"sph\",\n  \"amb\",\n  \"amr-nb\",\n  \"gsm\",\n]\n\nfor format in formats:\n  path = f\"save_example.{format}\"\n  torchaudio.save(path, waveform, sample_rate, format=format)\n  inspect_file(path)"
      ]
    },
    {
      "cell_type": "markdown",
      "metadata": {},
      "source": [
        "### Saving to file-like object\n\nSimilar to the other I/O functions, you can save audio into file-like\nobject. When saving to file-like object, ``format`` argument is\nrequired.\n\n\n"
      ]
    },
    {
      "cell_type": "code",
      "execution_count": null,
      "metadata": {
        "collapsed": false
      },
      "outputs": [],
      "source": [
        "waveform, sample_rate = get_sample()\n\n# Saving to Bytes buffer\nbuffer_ = io.BytesIO()\ntorchaudio.save(buffer_, waveform, sample_rate, format=\"wav\")\n\nbuffer_.seek(0)\nprint(buffer_.read(16))"
      ]
    },
    {
      "cell_type": "markdown",
      "metadata": {},
      "source": [
        "# Data Augmentation\n\n``torchaudio`` provides a variety of ways to augment audio data.\n\n\n"
      ]
    },
    {
      "cell_type": "markdown",
      "metadata": {},
      "source": [
        "## Applying effects and filtering\n\n``torchaudio.sox_effects`` module provides ways to apply filiters like\n``sox`` command on Tensor objects and file-object audio sources\ndirectly.\n\nThere are two functions for this;\n\n-  ``torchaudio.sox_effects.apply_effects_tensor`` for applying effects\n   on Tensor\n-  ``torchaudio.sox_effects.apply_effects_file`` for applying effects on\n   other audio source\n\nBoth function takes effects in the form of ``List[List[str]]``. This\nmostly corresponds to how ``sox`` command works, but one caveat is that\n``sox`` command adds some effects automatically, but torchaudio\u2019s\nimplementation does not do that.\n\nFor the list of available effects, please refer to `the sox\ndocumentation <http://sox.sourceforge.net/sox.html>`__.\n\n**Tip** If you need to load and resample your audio data on-the-fly,\nthen you can use ``torchaudio.sox_effects.apply_effects_file`` with\n``\"rate\"`` effect.\n\n**Note** ``apply_effects_file`` accepts file-like object or path-like\nobject. Similar to ``torchaudio.load``, when the audio format cannot be\ndetected from either file extension or header, you can provide\n``format`` argument to tell what format the audio source is.\n\n**Note** This process is not differentiable.\n\n\n"
      ]
    },
    {
      "cell_type": "code",
      "execution_count": null,
      "metadata": {
        "collapsed": false
      },
      "outputs": [],
      "source": [
        "# Load the data\nwaveform1, sample_rate1 = get_sample(resample=16000)\n\n# Define effects\neffects = [\n  [\"lowpass\", \"-1\", \"300\"], # apply single-pole lowpass filter\n  [\"speed\", \"0.8\"],  # reduce the speed\n                     # This only changes sample rate, so it is necessary to \n                     # add `rate` effect with original sample rate after this.\n  [\"rate\", f\"{sample_rate1}\"],\n  [\"reverb\", \"-w\"],  # Reverbration gives some dramatic feeling\n]\n\n# Apply effects\nwaveform2, sample_rate2 = torchaudio.sox_effects.apply_effects_tensor(\n    waveform1, sample_rate1, effects)\n\nplot_waveform(waveform1, sample_rate1, title=\"Original\", xlim=(-.1, 3.2))\nplot_waveform(waveform2, sample_rate2, title=\"Effects Applied\", xlim=(-.1, 3.2))\nprint_stats(waveform1, sample_rate=sample_rate1, src=\"Original\")\nprint_stats(waveform2, sample_rate=sample_rate2, src=\"Effects Applied\")"
      ]
    },
    {
      "cell_type": "markdown",
      "metadata": {},
      "source": [
        "Note that the number of frames and number of channels are different from\nthe original after the effects. Let\u2019s listen to the audio. Doesn\u2019t it\nsound more dramatic?\n\n\n"
      ]
    },
    {
      "cell_type": "code",
      "execution_count": null,
      "metadata": {
        "collapsed": false
      },
      "outputs": [],
      "source": [
        "plot_specgram(waveform1, sample_rate1, title=\"Original\", xlim=(0, 3.04))\nplay_audio(waveform1, sample_rate1)\nplot_specgram(waveform2, sample_rate2, title=\"Effects Applied\", xlim=(0, 3.04))\nplay_audio(waveform2, sample_rate2)"
      ]
    },
    {
      "cell_type": "markdown",
      "metadata": {},
      "source": [
        "## Simulating room reverbration\n\n`Convolution\nreverb <https://en.wikipedia.org/wiki/Convolution_reverb>`__ is a\ntechnique used to make a clean audio data sound like in a different\nenvironment.\n\nUsing Room Impulse Response (RIR), we can make a clean speech sound like\nuttered in a conference room.\n\nFor this process, we need RIR data. The following data are from VOiCES\ndataset, but you can record one by your self. Just turn on microphone\nand clap you hands.\n\n\n"
      ]
    },
    {
      "cell_type": "code",
      "execution_count": null,
      "metadata": {
        "collapsed": false
      },
      "outputs": [],
      "source": [
        "sample_rate = 8000\n\nrir_raw, _ = get_rir_sample(resample=sample_rate)\n\nplot_waveform(rir_raw, sample_rate, title=\"Room Impulse Response (raw)\", ylim=None)\nplot_specgram(rir_raw, sample_rate, title=\"Room Impulse Response (raw)\")\nplay_audio(rir_raw, sample_rate)"
      ]
    },
    {
      "cell_type": "markdown",
      "metadata": {},
      "source": [
        "First, we need to clean up the RIR. We extract the main impulse,\nnormalize the signal power, then flip the time axis.\n\n\n"
      ]
    },
    {
      "cell_type": "code",
      "execution_count": null,
      "metadata": {
        "collapsed": false
      },
      "outputs": [],
      "source": [
        "rir = rir_raw[:, int(sample_rate*1.01):int(sample_rate*1.3)]\nrir = rir / torch.norm(rir, p=2)\nrir = torch.flip(rir, [1])\n\nprint_stats(rir)\nplot_waveform(rir, sample_rate, title=\"Room Impulse Response\", ylim=None)"
      ]
    },
    {
      "cell_type": "markdown",
      "metadata": {},
      "source": [
        "Then we convolve the speech signal with the RIR filter.\n\n\n"
      ]
    },
    {
      "cell_type": "code",
      "execution_count": null,
      "metadata": {
        "collapsed": false
      },
      "outputs": [],
      "source": [
        "speech, _ = get_speech_sample(resample=sample_rate)\n\nspeech_ = torch.nn.functional.pad(speech, (rir.shape[1]-1, 0))\naugmented = torch.nn.functional.conv1d(speech_[None, ...], rir[None, ...])[0]\n\nplot_waveform(speech, sample_rate, title=\"Original\", ylim=None)\nplot_waveform(augmented, sample_rate, title=\"RIR Applied\", ylim=None)\n\nplot_specgram(speech, sample_rate, title=\"Original\")\nplay_audio(speech, sample_rate)\n\nplot_specgram(augmented, sample_rate, title=\"RIR Applied\")\nplay_audio(augmented, sample_rate)"
      ]
    },
    {
      "cell_type": "markdown",
      "metadata": {},
      "source": [
        "## Adding background noise\n\nTo add background noise to audio data, you can simply add audio Tensor\nand noise Tensor. A commonly way to adjust the intensity of noise is to\nchange Signal-to-Noise Ratio (SNR).\n[`wikipedia <https://en.wikipedia.org/wiki/Signal-to-noise_ratio>`__]\n\n\\begin{align}\\mathrm{SNR} = \\frac{P_\\mathrm{signal}}{P_\\mathrm{noise}}\\end{align}\n\n\\begin{align}{\\mathrm  {SNR_{{dB}}}}=10\\log _{{10}}\\left({\\mathrm  {SNR}}\\right)\\end{align}\n\n\n"
      ]
    },
    {
      "cell_type": "code",
      "execution_count": null,
      "metadata": {
        "collapsed": false
      },
      "outputs": [],
      "source": [
        "sample_rate = 8000\nspeech, _ = get_speech_sample(resample=sample_rate)\nnoise, _ = get_noise_sample(resample=sample_rate)\nnoise = noise[:, :speech.shape[1]]\n\nplot_waveform(noise, sample_rate, title=\"Background noise\")\nplot_specgram(noise, sample_rate, title=\"Background noise\")\nplay_audio(noise, sample_rate)\n\nspeech_power = speech.norm(p=2)\nnoise_power = noise.norm(p=2)\n\nfor snr_db in [20, 10, 3]:\n  snr = math.exp(snr_db / 10)\n  scale = snr * noise_power / speech_power\n  noisy_speech = (scale * speech + noise) / 2\n\n  plot_waveform(noisy_speech, sample_rate, title=f\"SNR: {snr_db} [dB]\")\n  plot_specgram(noisy_speech, sample_rate, title=f\"SNR: {snr_db} [dB]\")\n  play_audio(noisy_speech, sample_rate)"
      ]
    },
    {
      "cell_type": "markdown",
      "metadata": {},
      "source": [
        "## Applying codec to Tensor object\n\n``torchaudio.functional.apply_codec`` can apply codecs to Tensor object.\n\n**Note** This process is not differentiable.\n\n\n"
      ]
    },
    {
      "cell_type": "code",
      "execution_count": null,
      "metadata": {
        "collapsed": false
      },
      "outputs": [],
      "source": [
        "waveform, sample_rate = get_speech_sample(resample=8000)\n\nplot_specgram(waveform, sample_rate, title=\"Original\")\nplay_audio(waveform, sample_rate)\n\nconfigs = [\n    ({\"format\": \"wav\", \"encoding\": 'ULAW', \"bits_per_sample\": 8}, \"8 bit mu-law\"),\n    ({\"format\": \"gsm\"}, \"GSM-FR\"),\n    ({\"format\": \"mp3\", \"compression\": -9}, \"MP3\"),\n    ({\"format\": \"vorbis\", \"compression\": -1}, \"Vorbis\"),\n]\nfor param, title in configs:\n  augmented = F.apply_codec(waveform, sample_rate, **param)\n  plot_specgram(augmented, sample_rate, title=title)\n  play_audio(augmented, sample_rate)"
      ]
    },
    {
      "cell_type": "markdown",
      "metadata": {},
      "source": [
        "## Simulating a phone recoding\n\nCombining the previous techniques, we can simulate audio that sounds\nlike a person talking over a phone in a echoey room with people talking\nin the background.\n\n\n"
      ]
    },
    {
      "cell_type": "code",
      "execution_count": null,
      "metadata": {
        "collapsed": false
      },
      "outputs": [],
      "source": [
        "sample_rate = 16000\nspeech, _ = get_speech_sample(resample=sample_rate)\n\nplot_specgram(speech, sample_rate, title=\"Original\")\nplay_audio(speech, sample_rate)\n\n# Apply RIR\nrir, _ = get_rir_sample(resample=sample_rate, processed=True)\nspeech_ = torch.nn.functional.pad(speech, (rir.shape[1]-1, 0))\nspeech = torch.nn.functional.conv1d(speech_[None, ...], rir[None, ...])[0]\n\nplot_specgram(speech, sample_rate, title=\"RIR Applied\")\nplay_audio(speech, sample_rate)\n\n# Add background noise\n# Because the noise is recorded in the actual environment, we consider that \n# the noise contains the acoustic feature of the environment. Therefore, we add\n# the noise after RIR application.\nnoise, _ = get_noise_sample(resample=sample_rate)\nnoise = noise[:, :speech.shape[1]]\n\nsnr_db = 8\nscale = math.exp(snr_db / 10) * noise.norm(p=2) / speech.norm(p=2)\nspeech = (scale * speech + noise) / 2\n\nplot_specgram(speech, sample_rate, title=\"BG noise added\")\nplay_audio(speech, sample_rate)\n\n# Apply filtering and change sample rate\nspeech, sample_rate = torchaudio.sox_effects.apply_effects_tensor(\n  speech,\n  sample_rate,\n  effects=[\n      [\"lowpass\", \"4000\"],\n      [\"compand\", \"0.02,0.05\", \"-60,-60,-30,-10,-20,-8,-5,-8,-2,-8\", \"-8\", \"-7\", \"0.05\"],\n      [\"rate\", \"8000\"],\n  ],\n)\n\nplot_specgram(speech, sample_rate, title=\"Filtered\")\nplay_audio(speech, sample_rate)\n\n# Apply telephony codec\nspeech = F.apply_codec(speech, sample_rate, format=\"gsm\")\n\nplot_specgram(speech, sample_rate, title=\"GSM Codec Applied\")\nplay_audio(speech, sample_rate)"
      ]
    },
    {
      "cell_type": "markdown",
      "metadata": {},
      "source": [
        "# Feature Extractions\n\n``torchaudio`` implements feature extractions commonly used in audio\ndomain. They are available in ``torchaudio.functional`` and\n``torchaudio.transforms``.\n\n``functional`` module implements features as a stand alone functions.\nThey are stateless.\n\n``transforms`` module implements features in object-oriented manner,\nusing implementations from ``functional`` and ``torch.nn.Module``.\n\nBecause all the transforms are subclass of ``torch.nn.Module``, they can\nbe serialized using TorchScript.\n\nFor the complete list of available features, please refer to the\ndocumentation. In this tutorial, we will look into conversion between\ntime domain and frequency domain (``Spectrogram``, ``GriffinLim``,\n``MelSpectrogram``) and augmentation technique called SpecAugment.\n\n\n"
      ]
    },
    {
      "cell_type": "markdown",
      "metadata": {},
      "source": [
        "## Spectrogram\n\nTo get the frequency representation of audio signal, you can use\n``Spectrogram`` transform.\n\n\n"
      ]
    },
    {
      "cell_type": "code",
      "execution_count": null,
      "metadata": {
        "collapsed": false
      },
      "outputs": [],
      "source": [
        "waveform, sample_rate = get_speech_sample()\n\nn_fft = 1024\nwin_length = None\nhop_length = 512\n\n# define transformation\nspectrogram = T.Spectrogram(\n    n_fft=n_fft,\n    win_length=win_length,\n    hop_length=hop_length,\n    center=True,\n    pad_mode=\"reflect\",\n    power=2.0,\n)\n# Perform transformation\nspec = spectrogram(waveform)\n\nprint_stats(spec)\nplot_spectrogram(spec[0], title='torchaudio')"
      ]
    },
    {
      "cell_type": "markdown",
      "metadata": {},
      "source": [
        "## GriffinLim\n\nTo recover a waveform from spectrogram, you can use ``GriffinLim``.\n\n\n"
      ]
    },
    {
      "cell_type": "code",
      "execution_count": null,
      "metadata": {
        "collapsed": false
      },
      "outputs": [],
      "source": [
        "torch.random.manual_seed(0)\nwaveform, sample_rate = get_speech_sample()\nplot_waveform(waveform, sample_rate, title=\"Original\")\nplay_audio(waveform, sample_rate)\n\nn_fft = 1024\nwin_length = None\nhop_length = 512\n\nspec = T.Spectrogram(\n    n_fft=n_fft,\n    win_length=win_length,\n    hop_length=hop_length,\n)(waveform)\n\ngriffin_lim = T.GriffinLim(\n    n_fft=n_fft,\n    win_length=win_length,\n    hop_length=hop_length,\n)\nwaveform = griffin_lim(spec)\n\nplot_waveform(waveform, sample_rate, title=\"Reconstructed\")\nplay_audio(waveform, sample_rate)"
      ]
    },
    {
      "cell_type": "markdown",
      "metadata": {},
      "source": [
        "## Mel Filter Bank\n\n``torchaudio.functional.create_fb_matrix`` can generate the filter bank\nto convert frequency bins to Mel-scale bins.\n\nSince this function does not require input audio/features, there is no\nequivalent transform in ``torchaudio.transforms``.\n\n\n"
      ]
    },
    {
      "cell_type": "code",
      "execution_count": null,
      "metadata": {
        "collapsed": false
      },
      "outputs": [],
      "source": [
        "n_fft = 256\nn_mels = 64\nsample_rate = 6000\n\nmel_filters = F.create_fb_matrix(\n    int(n_fft // 2 + 1),\n    n_mels=n_mels,\n    f_min=0.,\n    f_max=sample_rate/2.,\n    sample_rate=sample_rate,\n    norm='slaney'\n)\nplot_mel_fbank(mel_filters, \"Mel Filter Bank - torchaudio\")"
      ]
    },
    {
      "cell_type": "markdown",
      "metadata": {},
      "source": [
        "### Comparison against librosa\n\nAs a comparison, here is the equivalent way to get the mel filter bank\nwith ``librosa``.\n\n**Note** Currently, the result matches only when ``htk=True``.\n``torchaudio`` does not support the equivalent of ``htk=False`` option.\n\n\n"
      ]
    },
    {
      "cell_type": "code",
      "execution_count": null,
      "metadata": {
        "collapsed": false
      },
      "outputs": [],
      "source": [
        "mel_filters_librosa = librosa.filters.mel(\n    sample_rate,\n    n_fft,\n    n_mels=n_mels,\n    fmin=0.,\n    fmax=sample_rate/2.,\n    norm='slaney',\n    htk=True,\n).T\n\nplot_mel_fbank(mel_filters_librosa, \"Mel Filter Bank - librosa\")\n\nmse = torch.square(mel_filters - mel_filters_librosa).mean().item()\nprint('Mean Square Difference: ', mse)"
      ]
    },
    {
      "cell_type": "markdown",
      "metadata": {},
      "source": [
        "## MelSpectrogram\n\nMel-scale spectrogram is a combination of Spectrogram and mel scale\nconversion. In ``torchaudio``, there is a transform ``MelSpectrogram``\nwhich is composed of ``Spectrogram`` and ``MelScale``.\n\n\n"
      ]
    },
    {
      "cell_type": "code",
      "execution_count": null,
      "metadata": {
        "collapsed": false
      },
      "outputs": [],
      "source": [
        "waveform, sample_rate = get_speech_sample()\n\nn_fft = 1024\nwin_length = None\nhop_length = 512\nn_mels = 128\n\nmel_spectrogram = T.MelSpectrogram(\n    sample_rate=sample_rate,\n    n_fft=n_fft,\n    win_length=win_length,\n    hop_length=hop_length,\n    center=True,\n    pad_mode=\"reflect\",\n    power=2.0,\n    norm='slaney',\n    onesided=True,\n    n_mels=n_mels,\n)\n\nmelspec = mel_spectrogram(waveform)\nplot_spectrogram(\n    melspec[0], title=\"MelSpectrogram - torchaudio\", ylabel='mel freq')"
      ]
    },
    {
      "cell_type": "markdown",
      "metadata": {},
      "source": [
        "### Comparison against librosa\n\nAs a comparison, here is the equivalent way to get Mel-scale spectrogram\nwith ``librosa``.\n\n**Note** Currently, the result matches only when ``htk=True``.\n``torchaudio`` does not support the equivalent of ``htk=False`` option.\n\n\n"
      ]
    },
    {
      "cell_type": "code",
      "execution_count": null,
      "metadata": {
        "collapsed": false
      },
      "outputs": [],
      "source": [
        "melspec_librosa = librosa.feature.melspectrogram(\n    waveform.numpy()[0],\n    sr=sample_rate,\n    n_fft=n_fft,\n    hop_length=hop_length,\n    win_length=win_length,\n    center=True,\n    pad_mode=\"reflect\",\n    power=2.0,\n    n_mels=n_mels,\n    norm='slaney',\n    htk=True,\n)\nplot_spectrogram(\n    melspec_librosa, title=\"MelSpectrogram - librosa\", ylabel='mel freq')\n\nmse = torch.square(melspec - melspec_librosa).mean().item()\nprint('Mean Square Difference: ', mse)"
      ]
    },
    {
      "cell_type": "markdown",
      "metadata": {},
      "source": [
        "## MFCC\n\n\n"
      ]
    },
    {
      "cell_type": "code",
      "execution_count": null,
      "metadata": {
        "collapsed": false
      },
      "outputs": [],
      "source": [
        "waveform, sample_rate = get_speech_sample()\n\nn_fft = 2048\nwin_length = None\nhop_length = 512\nn_mels = 256\nn_mfcc = 256\n\nmfcc_transform = T.MFCC(\n    sample_rate=sample_rate,\n    n_mfcc=n_mfcc, melkwargs={'n_fft': n_fft, 'n_mels': n_mels, 'hop_length': hop_length})\n\nmfcc = mfcc_transform(waveform)\n\nplot_spectrogram(mfcc[0])"
      ]
    },
    {
      "cell_type": "markdown",
      "metadata": {},
      "source": [
        "### Comparing against librosa\n\n\n"
      ]
    },
    {
      "cell_type": "code",
      "execution_count": null,
      "metadata": {
        "collapsed": false
      },
      "outputs": [],
      "source": [
        "melspec = librosa.feature.melspectrogram(\n  y=waveform.numpy()[0], sr=sample_rate, n_fft=n_fft,\n  win_length=win_length, hop_length=hop_length,\n  n_mels=n_mels, htk=True, norm=None)\n\nmfcc_librosa = librosa.feature.mfcc(\n  S=librosa.core.spectrum.power_to_db(melspec),\n  n_mfcc=n_mfcc, dct_type=2, norm='ortho')\n\nplot_spectrogram(mfcc_librosa)\n\nmse = torch.square(mfcc - mfcc_librosa).mean().item()\nprint('Mean Square Difference: ', mse)"
      ]
    },
    {
      "cell_type": "markdown",
      "metadata": {},
      "source": [
        "## Pitch\n\n\n"
      ]
    },
    {
      "cell_type": "code",
      "execution_count": null,
      "metadata": {
        "collapsed": false
      },
      "outputs": [],
      "source": [
        "waveform, sample_rate = get_speech_sample()\n\npitch = F.detect_pitch_frequency(waveform, sample_rate)\nplot_pitch(waveform, sample_rate, pitch)\nplay_audio(waveform, sample_rate)"
      ]
    },
    {
      "cell_type": "markdown",
      "metadata": {},
      "source": [
        "## Kaldi Pitch (beta)\n\nKaldi Pitch feature [1] is pitch detection mechanism tuned for ASR\napplication. This is a beta feature in torchaudio, and only\n``functional`` form is available.\n\n1. A pitch extraction algorithm tuned for automatic speech recognition\n\n   Ghahremani, B. BabaAli, D. Povey, K. Riedhammer, J. Trmal and S.\n   Khudanpur\n\n   2014 IEEE International Conference on Acoustics, Speech and Signal\n   Processing (ICASSP), Florence, 2014, pp.\u00a02494-2498, doi:\n   10.1109/ICASSP.2014.6854049.\n   [`abstract <https://ieeexplore.ieee.org/document/6854049>`__],\n   [`paper <https://danielpovey.com/files/2014_icassp_pitch.pdf>`__]\n\n\n"
      ]
    },
    {
      "cell_type": "code",
      "execution_count": null,
      "metadata": {
        "collapsed": false
      },
      "outputs": [],
      "source": [
        "waveform, sample_rate = get_speech_sample(resample=16000)\n\npitch_feature = F.compute_kaldi_pitch(waveform, sample_rate)\npitch, nfcc = pitch_feature[..., 0], pitch_feature[..., 1]\n\nplot_kaldi_pitch(waveform, sample_rate, pitch, nfcc)\nplay_audio(waveform, sample_rate)"
      ]
    },
    {
      "cell_type": "markdown",
      "metadata": {},
      "source": [
        "# Feature Augmentation\n\n\n"
      ]
    },
    {
      "cell_type": "markdown",
      "metadata": {},
      "source": [
        "## SpecAugment\n\n`SpecAugment <https://ai.googleblog.com/2019/04/specaugment-new-data-augmentation.html>`__\nis a popular augmentation technique applied on spectrogram.\n\n``torchaudio`` implements ``TimeStrech``, ``TimeMasking`` and\n``FrequencyMasking``.\n\n\n"
      ]
    },
    {
      "cell_type": "markdown",
      "metadata": {},
      "source": [
        "### TimeStrech\n\n\n"
      ]
    },
    {
      "cell_type": "code",
      "execution_count": null,
      "metadata": {
        "collapsed": false
      },
      "outputs": [],
      "source": [
        "spec = get_spectrogram(power=None)\nstrech = T.TimeStretch()\n\nrate = 1.2\nspec_ = strech(spec, rate)\nplot_spectrogram(F.complex_norm(spec_[0]), title=f\"Stretched x{rate}\", aspect='equal', xmax=304)\n\nplot_spectrogram(F.complex_norm(spec[0]), title=\"Original\", aspect='equal', xmax=304)\n\nrate = 0.9\nspec_ = strech(spec, rate)\nplot_spectrogram(F.complex_norm(spec_[0]), title=f\"Stretched x{rate}\", aspect='equal', xmax=304)"
      ]
    },
    {
      "cell_type": "markdown",
      "metadata": {},
      "source": [
        "### TimeMasking\n\n\n"
      ]
    },
    {
      "cell_type": "code",
      "execution_count": null,
      "metadata": {
        "collapsed": false
      },
      "outputs": [],
      "source": [
        "torch.random.manual_seed(4)\n\nspec = get_spectrogram()\nplot_spectrogram(spec[0], title=\"Original\")\n\nmasking = T.TimeMasking(time_mask_param=80)\nspec = masking(spec)\n\nplot_spectrogram(spec[0], title=\"Masked along time axis\")"
      ]
    },
    {
      "cell_type": "markdown",
      "metadata": {},
      "source": [
        "### FrequencyMasking\n\n\n"
      ]
    },
    {
      "cell_type": "code",
      "execution_count": null,
      "metadata": {
        "collapsed": false
      },
      "outputs": [],
      "source": [
        "torch.random.manual_seed(4)\n\nspec = get_spectrogram()\nplot_spectrogram(spec[0], title=\"Original\")\n\nmasking = T.FrequencyMasking(freq_mask_param=80)\nspec = masking(spec)\n\nplot_spectrogram(spec[0], title=\"Masked along frequency axis\")"
      ]
    },
    {
      "cell_type": "markdown",
      "metadata": {},
      "source": [
        "# Datasets\n\n``torchaudio`` provides easy access to common, publicly accessible\ndatasets. Please checkout the official documentation for the list of\navailable datasets.\n\nHere, we take ``YESNO`` dataset and look into how to use it.\n\n\n"
      ]
    },
    {
      "cell_type": "code",
      "execution_count": null,
      "metadata": {
        "collapsed": false
      },
      "outputs": [],
      "source": [
        "YESNO_DOWNLOAD_PROCESS.join()\n\ndataset = torchaudio.datasets.YESNO(YESNO_DATASET_PATH, download=True)\n\nfor i in [1, 3, 5]:\n  waveform, sample_rate, label = dataset[i]\n  plot_specgram(waveform, sample_rate, title=f\"Sample {i}: {label}\")\n  play_audio(waveform, sample_rate)"
      ]
    }
  ],
  "metadata": {
    "kernelspec": {"display_name": "py38_pytorch", "language": "python", "name": "conda-env-py38_pytorch-py"},
    "language_info": {
      "codemirror_mode": {
        "name": "ipython",
        "version": 3
      },
      "file_extension": ".py",
      "mimetype": "text/x-python",
      "name": "python",
      "nbconvert_exporter": "python",
      "pygments_lexer": "ipython3",
      "version": "3.8.10"
    }
  },
  "nbformat": 4,
  "nbformat_minor": 0
}