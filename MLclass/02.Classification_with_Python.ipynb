{
 "cells": [
  {
   "cell_type": "markdown",
   "metadata": {},
   "source": [
    "## Machine Leaning 실습"
   ]
  },
  {
   "cell_type": "markdown",
   "metadata": {},
   "source": [
    "### Classification With Python"
   ]
  },
  {
   "cell_type": "code",
   "execution_count": 1,
   "metadata": {},
   "outputs": [],
   "source": [
    "%config Completer.use_jedi = False"
   ]
  },
  {
   "cell_type": "code",
   "execution_count": 2,
   "metadata": {
    "colab": {
     "base_uri": "https://localhost:8080/"
    },
    "id": "9EBh50YkFRws",
    "outputId": "3f3fb77d-4dd5-43bd-d622-4a5508629ce9"
   },
   "outputs": [],
   "source": [
    "# 1. package 가져오기\n",
    "\n",
    "import pandas as pd\n",
    "import pandas_profiling\n",
    "import numpy as np\n",
    "import tensorflow as tf\n",
    "from tensorflow import keras\n",
    "from sklearn.impute import SimpleImputer\n",
    "from sklearn.compose import ColumnTransformer\n",
    "from sklearn.preprocessing import OneHotEncoder\n",
    "#classification(분류)\n",
    "from sklearn.tree import DecisionTreeClassifier      #의사결정트리\n",
    "from sklearn.ensemble import RandomForestClassifier  #랜덤포레스트\n",
    "from sklearn.neighbors import KNeighborsClassifier   #KNN(K_Nearst_Neighbor)K-최근접이웃\n",
    "from sklearn.linear_model import LogisticRegression  #로지스틱회귀\n",
    "from sklearn.svm import SVC\n",
    "\n",
    "\n",
    "from sklearn.metrics import mean_absolute_error, mean_squared_error, r2_score, accuracy_score, precision_score, recall_score\n",
    "\n",
    "ads = pd.read_csv('../202106_MachineLearningClass/02Social_Network_Ads.csv')\n"
   ]
  },
  {
   "cell_type": "code",
   "execution_count": 3,
   "metadata": {
    "colab": {
     "base_uri": "https://localhost:8080/",
     "height": 204
    },
    "id": "OFm1FqfmGsMM",
    "outputId": "5efcb95c-c077-4afa-b985-acaffdecfde5"
   },
   "outputs": [
    {
     "data": {
      "text/html": [
       "<div>\n",
       "<style scoped>\n",
       "    .dataframe tbody tr th:only-of-type {\n",
       "        vertical-align: middle;\n",
       "    }\n",
       "\n",
       "    .dataframe tbody tr th {\n",
       "        vertical-align: top;\n",
       "    }\n",
       "\n",
       "    .dataframe thead th {\n",
       "        text-align: right;\n",
       "    }\n",
       "</style>\n",
       "<table border=\"1\" class=\"dataframe\">\n",
       "  <thead>\n",
       "    <tr style=\"text-align: right;\">\n",
       "      <th></th>\n",
       "      <th>User ID</th>\n",
       "      <th>Gender</th>\n",
       "      <th>Age</th>\n",
       "      <th>EstimatedSalary</th>\n",
       "      <th>Purchased</th>\n",
       "    </tr>\n",
       "  </thead>\n",
       "  <tbody>\n",
       "    <tr>\n",
       "      <th>0</th>\n",
       "      <td>15566689</td>\n",
       "      <td>Female</td>\n",
       "      <td>35.0</td>\n",
       "      <td>57000.0</td>\n",
       "      <td>0</td>\n",
       "    </tr>\n",
       "    <tr>\n",
       "      <th>1</th>\n",
       "      <td>15569641</td>\n",
       "      <td>Female</td>\n",
       "      <td>58.0</td>\n",
       "      <td>95000.0</td>\n",
       "      <td>1</td>\n",
       "    </tr>\n",
       "    <tr>\n",
       "      <th>2</th>\n",
       "      <td>15570769</td>\n",
       "      <td>Female</td>\n",
       "      <td>26.0</td>\n",
       "      <td>80000.0</td>\n",
       "      <td>0</td>\n",
       "    </tr>\n",
       "    <tr>\n",
       "      <th>3</th>\n",
       "      <td>15570932</td>\n",
       "      <td>Male</td>\n",
       "      <td>34.0</td>\n",
       "      <td>115000.0</td>\n",
       "      <td>0</td>\n",
       "    </tr>\n",
       "    <tr>\n",
       "      <th>4</th>\n",
       "      <td>15571059</td>\n",
       "      <td>Female</td>\n",
       "      <td>33.0</td>\n",
       "      <td>41000.0</td>\n",
       "      <td>0</td>\n",
       "    </tr>\n",
       "    <tr>\n",
       "      <th>...</th>\n",
       "      <td>...</td>\n",
       "      <td>...</td>\n",
       "      <td>...</td>\n",
       "      <td>...</td>\n",
       "      <td>...</td>\n",
       "    </tr>\n",
       "    <tr>\n",
       "      <th>395</th>\n",
       "      <td>15813113</td>\n",
       "      <td>Male</td>\n",
       "      <td>40.0</td>\n",
       "      <td>107000.0</td>\n",
       "      <td>1</td>\n",
       "    </tr>\n",
       "    <tr>\n",
       "      <th>396</th>\n",
       "      <td>15814004</td>\n",
       "      <td>Male</td>\n",
       "      <td>27.0</td>\n",
       "      <td>20000.0</td>\n",
       "      <td>0</td>\n",
       "    </tr>\n",
       "    <tr>\n",
       "      <th>397</th>\n",
       "      <td>15814553</td>\n",
       "      <td>Male</td>\n",
       "      <td>57.0</td>\n",
       "      <td>60000.0</td>\n",
       "      <td>1</td>\n",
       "    </tr>\n",
       "    <tr>\n",
       "      <th>398</th>\n",
       "      <td>15814816</td>\n",
       "      <td>Male</td>\n",
       "      <td>31.0</td>\n",
       "      <td>66000.0</td>\n",
       "      <td>0</td>\n",
       "    </tr>\n",
       "    <tr>\n",
       "      <th>399</th>\n",
       "      <td>15815236</td>\n",
       "      <td>Female</td>\n",
       "      <td>45.0</td>\n",
       "      <td>131000.0</td>\n",
       "      <td>1</td>\n",
       "    </tr>\n",
       "  </tbody>\n",
       "</table>\n",
       "<p>400 rows × 5 columns</p>\n",
       "</div>"
      ],
      "text/plain": [
       "      User ID  Gender   Age  EstimatedSalary  Purchased\n",
       "0    15566689  Female  35.0          57000.0          0\n",
       "1    15569641  Female  58.0          95000.0          1\n",
       "2    15570769  Female  26.0          80000.0          0\n",
       "3    15570932    Male  34.0         115000.0          0\n",
       "4    15571059  Female  33.0          41000.0          0\n",
       "..        ...     ...   ...              ...        ...\n",
       "395  15813113    Male  40.0         107000.0          1\n",
       "396  15814004    Male  27.0          20000.0          0\n",
       "397  15814553    Male  57.0          60000.0          1\n",
       "398  15814816    Male  31.0          66000.0          0\n",
       "399  15815236  Female  45.0         131000.0          1\n",
       "\n",
       "[400 rows x 5 columns]"
      ]
     },
     "execution_count": 3,
     "metadata": {},
     "output_type": "execute_result"
    }
   ],
   "source": [
    "# 2. 데이터 프레임\n",
    "ads"
   ]
  },
  {
   "cell_type": "code",
   "execution_count": 4,
   "metadata": {
    "colab": {
     "base_uri": "https://localhost:8080/"
    },
    "id": "hrYQm76BHHtG",
    "outputId": "abbe2765-dc4e-4f58-fb85-c97e42a018fb",
    "scrolled": true
   },
   "outputs": [
    {
     "name": "stdout",
     "output_type": "stream",
     "text": [
      "<class 'pandas.core.frame.DataFrame'>\n",
      "RangeIndex: 400 entries, 0 to 399\n",
      "Data columns (total 5 columns):\n",
      " #   Column           Non-Null Count  Dtype  \n",
      "---  ------           --------------  -----  \n",
      " 0   User ID          400 non-null    int64  \n",
      " 1   Gender           394 non-null    object \n",
      " 2   Age              390 non-null    float64\n",
      " 3   EstimatedSalary  388 non-null    float64\n",
      " 4   Purchased        400 non-null    int64  \n",
      "dtypes: float64(2), int64(2), object(1)\n",
      "memory usage: 15.8+ KB\n"
     ]
    }
   ],
   "source": [
    "# 3. 데이터 살펴보기\n",
    "ads.info()"
   ]
  },
  {
   "cell_type": "code",
   "execution_count": 5,
   "metadata": {},
   "outputs": [
    {
     "data": {
      "text/html": [
       "<div>\n",
       "<style scoped>\n",
       "    .dataframe tbody tr th:only-of-type {\n",
       "        vertical-align: middle;\n",
       "    }\n",
       "\n",
       "    .dataframe tbody tr th {\n",
       "        vertical-align: top;\n",
       "    }\n",
       "\n",
       "    .dataframe thead th {\n",
       "        text-align: right;\n",
       "    }\n",
       "</style>\n",
       "<table border=\"1\" class=\"dataframe\">\n",
       "  <thead>\n",
       "    <tr style=\"text-align: right;\">\n",
       "      <th></th>\n",
       "      <th>User ID</th>\n",
       "      <th>Gender</th>\n",
       "      <th>Age</th>\n",
       "      <th>EstimatedSalary</th>\n",
       "      <th>Purchased</th>\n",
       "    </tr>\n",
       "  </thead>\n",
       "  <tbody>\n",
       "    <tr>\n",
       "      <th>count</th>\n",
       "      <td>4.000000e+02</td>\n",
       "      <td>394</td>\n",
       "      <td>390.000000</td>\n",
       "      <td>388.000000</td>\n",
       "      <td>400.000000</td>\n",
       "    </tr>\n",
       "    <tr>\n",
       "      <th>unique</th>\n",
       "      <td>NaN</td>\n",
       "      <td>2</td>\n",
       "      <td>NaN</td>\n",
       "      <td>NaN</td>\n",
       "      <td>NaN</td>\n",
       "    </tr>\n",
       "    <tr>\n",
       "      <th>top</th>\n",
       "      <td>NaN</td>\n",
       "      <td>Female</td>\n",
       "      <td>NaN</td>\n",
       "      <td>NaN</td>\n",
       "      <td>NaN</td>\n",
       "    </tr>\n",
       "    <tr>\n",
       "      <th>freq</th>\n",
       "      <td>NaN</td>\n",
       "      <td>202</td>\n",
       "      <td>NaN</td>\n",
       "      <td>NaN</td>\n",
       "      <td>NaN</td>\n",
       "    </tr>\n",
       "    <tr>\n",
       "      <th>mean</th>\n",
       "      <td>1.569154e+07</td>\n",
       "      <td>NaN</td>\n",
       "      <td>37.782051</td>\n",
       "      <td>69628.865979</td>\n",
       "      <td>0.357500</td>\n",
       "    </tr>\n",
       "    <tr>\n",
       "      <th>std</th>\n",
       "      <td>7.165832e+04</td>\n",
       "      <td>NaN</td>\n",
       "      <td>10.452300</td>\n",
       "      <td>33889.337949</td>\n",
       "      <td>0.479864</td>\n",
       "    </tr>\n",
       "    <tr>\n",
       "      <th>min</th>\n",
       "      <td>1.556669e+07</td>\n",
       "      <td>NaN</td>\n",
       "      <td>18.000000</td>\n",
       "      <td>15000.000000</td>\n",
       "      <td>0.000000</td>\n",
       "    </tr>\n",
       "    <tr>\n",
       "      <th>25%</th>\n",
       "      <td>1.562676e+07</td>\n",
       "      <td>NaN</td>\n",
       "      <td>30.000000</td>\n",
       "      <td>43000.000000</td>\n",
       "      <td>0.000000</td>\n",
       "    </tr>\n",
       "    <tr>\n",
       "      <th>50%</th>\n",
       "      <td>1.569434e+07</td>\n",
       "      <td>NaN</td>\n",
       "      <td>37.000000</td>\n",
       "      <td>70000.000000</td>\n",
       "      <td>0.000000</td>\n",
       "    </tr>\n",
       "    <tr>\n",
       "      <th>75%</th>\n",
       "      <td>1.575036e+07</td>\n",
       "      <td>NaN</td>\n",
       "      <td>46.000000</td>\n",
       "      <td>87250.000000</td>\n",
       "      <td>1.000000</td>\n",
       "    </tr>\n",
       "    <tr>\n",
       "      <th>max</th>\n",
       "      <td>1.581524e+07</td>\n",
       "      <td>NaN</td>\n",
       "      <td>60.000000</td>\n",
       "      <td>150000.000000</td>\n",
       "      <td>1.000000</td>\n",
       "    </tr>\n",
       "  </tbody>\n",
       "</table>\n",
       "</div>"
      ],
      "text/plain": [
       "             User ID  Gender         Age  EstimatedSalary   Purchased\n",
       "count   4.000000e+02     394  390.000000       388.000000  400.000000\n",
       "unique           NaN       2         NaN              NaN         NaN\n",
       "top              NaN  Female         NaN              NaN         NaN\n",
       "freq             NaN     202         NaN              NaN         NaN\n",
       "mean    1.569154e+07     NaN   37.782051     69628.865979    0.357500\n",
       "std     7.165832e+04     NaN   10.452300     33889.337949    0.479864\n",
       "min     1.556669e+07     NaN   18.000000     15000.000000    0.000000\n",
       "25%     1.562676e+07     NaN   30.000000     43000.000000    0.000000\n",
       "50%     1.569434e+07     NaN   37.000000     70000.000000    0.000000\n",
       "75%     1.575036e+07     NaN   46.000000     87250.000000    1.000000\n",
       "max     1.581524e+07     NaN   60.000000    150000.000000    1.000000"
      ]
     },
     "execution_count": 5,
     "metadata": {},
     "output_type": "execute_result"
    }
   ],
   "source": [
    "ads.describe(include = 'all')"
   ]
  },
  {
   "cell_type": "code",
   "execution_count": 6,
   "metadata": {
    "colab": {
     "base_uri": "https://localhost:8080/"
    },
    "id": "8I-8xQE1HZ2G",
    "outputId": "6d385155-2f41-44b3-8553-682454bec440"
   },
   "outputs": [],
   "source": [
    "# 4. feature/label 분리\n",
    "feature = ads.drop(['User ID','Purchased'], axis=1)\n",
    "label = ads[['Purchased']]"
   ]
  },
  {
   "cell_type": "markdown",
   "metadata": {},
   "source": [
    "mean_imp = SimpleImputer(strategy='mean')\n",
    "\n",
    "mean_imp.fit(feature.iloc[:,1:])\n",
    "feature.iloc[:,1:] = mean_imp.transform(feature.iloc[:,1:])\n",
    "\n",
    "feature.isnull().sum()"
   ]
  },
  {
   "cell_type": "code",
   "execution_count": 7,
   "metadata": {
    "colab": {
     "base_uri": "https://localhost:8080/"
    },
    "id": "TK2crw80JbQm",
    "outputId": "1bada6cb-6b35-47cb-99ea-3469d5faf4ba"
   },
   "outputs": [
    {
     "data": {
      "text/plain": [
       "Gender              6\n",
       "Age                10\n",
       "EstimatedSalary    12\n",
       "dtype: int64"
      ]
     },
     "execution_count": 7,
     "metadata": {},
     "output_type": "execute_result"
    }
   ],
   "source": [
    "# 5. 빠진 값 확인 \n",
    "feature.isnull().sum()"
   ]
  },
  {
   "cell_type": "code",
   "execution_count": 8,
   "metadata": {
    "colab": {
     "base_uri": "https://localhost:8080/"
    },
    "id": "NYsVoNxSJzpQ",
    "outputId": "97dde684-69a7-4e50-e28f-5c4ea483fc35",
    "scrolled": true
   },
   "outputs": [],
   "source": [
    "# 6. Clean Missing Data 1 - numeric\n",
    "\n",
    "#ads.dropna(axis=0, inplace=True)\n"
   ]
  },
  {
   "cell_type": "code",
   "execution_count": 9,
   "metadata": {},
   "outputs": [],
   "source": [
    "# 6-1 . Clean Missing Data 1 - numeric(Age, EstimatedSalary) -mean\n",
    "from sklearn.impute import SimpleImputer\n",
    "\n",
    "mean_imputer = SimpleImputer(strategy = 'mean')\n",
    "\n",
    "def f_mean_imputer(df, i):\n",
    "    mean_imputer.fit(feature.iloc[:, i:]) # 각 열의 평균으로 대체\n",
    "    feature.iloc[:, i:] = mean_imputer.transform(df.iloc[:, i:])\n",
    "    return df.isnull().sum()\n",
    "\n",
    "# 6-2. Clean Missing Data 2 - string(Gender) -most_frequent\n",
    "mode_imputer = SimpleImputer(strategy = 'most_frequent')\n",
    "def f_mode_imputer(df, i):\n",
    "    mode_imputer.fit(feature.iloc[:, i:]) # 각 열의 최빈값으로 대체\n",
    "    feature.iloc[:, i:] = mode_imputer.transform(df.iloc[:, i:])\n",
    "    return df.isnull().sum()"
   ]
  },
  {
   "cell_type": "code",
   "execution_count": 10,
   "metadata": {},
   "outputs": [
    {
     "data": {
      "text/plain": [
       "Gender             0\n",
       "Age                0\n",
       "EstimatedSalary    0\n",
       "dtype: int64"
      ]
     },
     "execution_count": 10,
     "metadata": {},
     "output_type": "execute_result"
    }
   ],
   "source": [
    "#Age, EstimatedSalary 결측값 평균값으로 대체\n",
    "f_mean_imputer(feature, 1)\n",
    "#gender는 최빈값으로 대체\n",
    "f_mode_imputer(feature, 0)"
   ]
  },
  {
   "cell_type": "code",
   "execution_count": 12,
   "metadata": {
    "colab": {
     "base_uri": "https://localhost:8080/"
    },
    "id": "w3uFQAYfS0iq",
    "outputId": "d5ebec94-e7ac-4a54-80e7-43dc068de9ab"
   },
   "outputs": [
    {
     "name": "stdout",
     "output_type": "stream",
     "text": [
      "[[1.00e+00 0.00e+00 3.50e+01 5.70e+04]\n",
      " [1.00e+00 0.00e+00 5.80e+01 9.50e+04]\n",
      " [1.00e+00 0.00e+00 2.60e+01 8.00e+04]\n",
      " ...\n",
      " [0.00e+00 1.00e+00 5.70e+01 6.00e+04]\n",
      " [0.00e+00 1.00e+00 3.10e+01 6.60e+04]\n",
      " [1.00e+00 0.00e+00 4.50e+01 1.31e+05]]\n"
     ]
    }
   ],
   "source": [
    "# 7. One hot encoding\n",
    "# gender 문자열이니까 숫자로 바꿔주기\n",
    "ct = ColumnTransformer([('one_hot_encoder', OneHotEncoder(),[0])], remainder='passthrough')\n",
    "\n",
    "feature = ct.fit_transform(feature)\n",
    "\n",
    "print(feature)"
   ]
  },
  {
   "cell_type": "code",
   "execution_count": 13,
   "metadata": {
    "colab": {
     "base_uri": "https://localhost:8080/"
    },
    "id": "Y4fkdd-CWdgL",
    "outputId": "c7099b65-59de-4db0-a1ae-bfa5a7ce228b"
   },
   "outputs": [
    {
     "name": "stdout",
     "output_type": "stream",
     "text": [
      "[[0.00e+00 1.00e+00 3.00e+01 1.70e+04]\n",
      " [0.00e+00 1.00e+00 3.60e+01 9.90e+04]\n",
      " [1.00e+00 0.00e+00 3.20e+01 1.50e+05]\n",
      " ...\n",
      " [0.00e+00 1.00e+00 5.90e+01 1.43e+05]\n",
      " [1.00e+00 0.00e+00 5.70e+01 2.60e+04]\n",
      " [1.00e+00 0.00e+00 5.80e+01 3.80e+04]]\n",
      "-----------------------------------------------------------------------------\n",
      "     Purchased\n",
      "249          0\n",
      "213          1\n",
      "202          1\n",
      "291          0\n",
      "144          1\n",
      "..         ...\n",
      "173          1\n",
      "26           1\n",
      "268          1\n",
      "197          1\n",
      "277          1\n",
      "\n",
      "[320 rows x 1 columns]\n"
     ]
    }
   ],
   "source": [
    "# 8. split data\n",
    "from sklearn.model_selection import train_test_split\n",
    "\n",
    "X_train, X_test, y_train, y_test = train_test_split(feature, label, test_size=0.2, random_state=142)\n",
    "\n",
    "print(X_train)\n",
    "print('-'*77)\n",
    "print(y_train)"
   ]
  },
  {
   "cell_type": "code",
   "execution_count": 14,
   "metadata": {
    "colab": {
     "base_uri": "https://localhost:8080/"
    },
    "id": "b6xgYWlTX8-v",
    "outputId": "7c54115c-200b-49e0-dc1e-77989c759a1e"
   },
   "outputs": [],
   "source": [
    "# 9. train\n",
    "\n",
    "\n",
    "dt_clf = DecisionTreeClassifier()\n",
    "rf_clf = RandomForestClassifier()\n",
    "log_clf = LogisticRegression()"
   ]
  },
  {
   "cell_type": "code",
   "execution_count": null,
   "metadata": {},
   "outputs": [],
   "source": [
    "dt_clf.fit(X_train, y_train)"
   ]
  },
  {
   "cell_type": "code",
   "execution_count": null,
   "metadata": {},
   "outputs": [],
   "source": [
    "rf_clf.fit(X_train, y_train)"
   ]
  },
  {
   "cell_type": "code",
   "execution_count": null,
   "metadata": {},
   "outputs": [],
   "source": [
    "knn_clf.fit(X_train, y_train)"
   ]
  },
  {
   "cell_type": "code",
   "execution_count": null,
   "metadata": {},
   "outputs": [],
   "source": [
    "svm_clf.fit(X_train, y_train)"
   ]
  },
  {
   "cell_type": "code",
   "execution_count": 15,
   "metadata": {},
   "outputs": [
    {
     "name": "stderr",
     "output_type": "stream",
     "text": [
      "/anaconda/envs/py38_tensorflow/lib/python3.8/site-packages/sklearn/utils/validation.py:63: DataConversionWarning: A column-vector y was passed when a 1d array was expected. Please change the shape of y to (n_samples, ), for example using ravel().\n",
      "  return f(*args, **kwargs)\n"
     ]
    },
    {
     "data": {
      "text/plain": [
       "LogisticRegression()"
      ]
     },
     "execution_count": 15,
     "metadata": {},
     "output_type": "execute_result"
    }
   ],
   "source": [
    "log_clf.fit(X_train, y_train)"
   ]
  },
  {
   "cell_type": "code",
   "execution_count": 16,
   "metadata": {
    "colab": {
     "base_uri": "https://localhost:8080/"
    },
    "id": "6yHBo-wkZNPQ",
    "outputId": "b03fdb86-b00d-4ccb-94aa-9a4a9b9015a8"
   },
   "outputs": [
    {
     "name": "stdout",
     "output_type": "stream",
     "text": [
      "[0 0 0 0 0 0 0 0 0 0 0 0 0 0 0 0 0 0 0 0 0 0 0 0 0 0 0 0 0 0 0 0 0 0 0 0 0\n",
      " 0 0 0 0 0 0 0 0 0 0 0 0 0 0 0 0 0 0 0 0 0 0 0 0 0 0 0 0 0 0 0 0 0 0 0 0 0\n",
      " 0 0 0 0 0 0]\n",
      "     Purchased\n",
      "211          0\n",
      "63           0\n",
      "130          1\n",
      "201          0\n",
      "209          0\n",
      "..         ...\n",
      "281          0\n",
      "300          1\n",
      "189          1\n",
      "309          0\n",
      "70           1\n",
      "\n",
      "[80 rows x 1 columns]\n"
     ]
    }
   ],
   "source": [
    "# 10. Score\n",
    "y_pred = log_clf.predict(X_test)\n",
    "print(y_pred)\n",
    "print(y_test)"
   ]
  },
  {
   "cell_type": "code",
   "execution_count": 17,
   "metadata": {
    "colab": {
     "base_uri": "https://localhost:8080/"
    },
    "id": "2brrEteeZp4z",
    "outputId": "cdf608c1-0f78-46df-a610-13b77418ff0c"
   },
   "outputs": [
    {
     "name": "stdout",
     "output_type": "stream",
     "text": [
      "mae =  0.3625\n",
      "mse =  0.3625\n",
      "r2 =  -0.5686274509803924\n",
      "accuracy =  0.6375\n",
      "precision =  0.0\n",
      "recall =  0.0\n"
     ]
    },
    {
     "name": "stderr",
     "output_type": "stream",
     "text": [
      "/anaconda/envs/py38_tensorflow/lib/python3.8/site-packages/sklearn/metrics/_classification.py:1245: UndefinedMetricWarning: Precision is ill-defined and being set to 0.0 due to no predicted samples. Use `zero_division` parameter to control this behavior.\n",
      "  _warn_prf(average, modifier, msg_start, len(result))\n"
     ]
    }
   ],
   "source": [
    "# 11. Evaluate\n",
    "mae = mean_absolute_error(y_test, y_pred)\n",
    "mse = mean_squared_error(y_test, y_pred)\n",
    "r2 = r2_score(y_test, y_pred)\n",
    "acc = accuracy_score(y_test, y_pred)\n",
    "pre = precision_score(y_test, y_pred)\n",
    "rec = recall_score(y_test, y_pred)\n",
    "\n",
    "\n",
    "print('mae = ',mae)\n",
    "print('mse = ',mse)\n",
    "print('r2 = ',r2)\n",
    "print('accuracy = ',acc)\n",
    "print('precision = ',pre)\n",
    "print('recall = ',rec)"
   ]
  },
  {
   "cell_type": "code",
   "execution_count": null,
   "metadata": {
    "colab": {
     "base_uri": "https://localhost:8080/"
    },
    "id": "Ziu78-VaZ0J6",
    "outputId": "5937f1b3-92d5-40d8-e5a0-7392a2586cb6"
   },
   "outputs": [],
   "source": [
    "# 12. Confusion Matrix\n"
   ]
  },
  {
   "cell_type": "code",
   "execution_count": null,
   "metadata": {
    "colab": {
     "base_uri": "https://localhost:8080/",
     "height": 348
    },
    "id": "_S-UBe0LFxVM",
    "outputId": "fa343cd2-bd49-4f1a-e0dd-2d811bab94ab"
   },
   "outputs": [],
   "source": [
    "# 13. CM Visualize\n"
   ]
  }
 ],
 "metadata": {
  "colab": {
   "collapsed_sections": [],
   "name": "(Full)Classification-with-Python.ipynb",
   "provenance": []
  },
  "kernelspec": {
   "display_name": "py38_tensorflow",
   "language": "python",
   "name": "conda-env-py38_tensorflow-py"
  },
  "language_info": {
   "codemirror_mode": {
    "name": "ipython",
    "version": 3
   },
   "file_extension": ".py",
   "mimetype": "text/x-python",
   "name": "python",
   "nbconvert_exporter": "python",
   "pygments_lexer": "ipython3",
   "version": "3.8.8"
  }
 },
 "nbformat": 4,
 "nbformat_minor": 1
}
